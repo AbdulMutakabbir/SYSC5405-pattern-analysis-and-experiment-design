{
 "cells": [
  {
   "cell_type": "code",
   "execution_count": 8,
   "metadata": {},
   "outputs": [
    {
     "name": "stdout",
     "output_type": "stream",
     "text": [
      "Overwriting ../src/utils/constants.py\n"
     ]
    }
   ],
   "source": [
    "%%writefile ../src/utils/constants.py\n",
    "\n",
    "DATA_DIR = \"../data\"\n",
    "RAW_DATA_DIR = f\"{DATA_DIR}/raw\"\n",
    "\n",
    "MIN_R = 1\n",
    "MAX_R = 6\n"
   ]
  },
  {
   "cell_type": "code",
   "execution_count": null,
   "metadata": {},
   "outputs": [],
   "source": []
  }
 ],
 "metadata": {
  "kernelspec": {
   "display_name": "base",
   "language": "python",
   "name": "python3"
  },
  "language_info": {
   "codemirror_mode": {
    "name": "ipython",
    "version": 3
   },
   "file_extension": ".py",
   "mimetype": "text/x-python",
   "name": "python",
   "nbconvert_exporter": "python",
   "pygments_lexer": "ipython3",
   "version": "3.10.10"
  }
 },
 "nbformat": 4,
 "nbformat_minor": 2
}
