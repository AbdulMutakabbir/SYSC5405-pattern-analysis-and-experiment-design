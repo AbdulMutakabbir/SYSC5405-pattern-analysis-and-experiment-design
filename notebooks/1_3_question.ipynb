{
 "cells": [
  {
   "cell_type": "code",
   "execution_count": 28,
   "metadata": {},
   "outputs": [],
   "source": [
    "import matplotlib.pyplot as plt\n",
    "import pandas as pd\n",
    "import numpy as np\n",
    "from sklearn.linear_model import LinearRegression"
   ]
  },
  {
   "cell_type": "code",
   "execution_count": 8,
   "metadata": {},
   "outputs": [],
   "source": [
    "data_loc = \"../data/assigData2.tsv\""
   ]
  },
  {
   "cell_type": "code",
   "execution_count": 10,
   "metadata": {},
   "outputs": [],
   "source": [
    "dataset = pd.read_csv(data_loc, sep=\"\t\")"
   ]
  },
  {
   "cell_type": "code",
   "execution_count": 39,
   "metadata": {},
   "outputs": [],
   "source": [
    "x = dataset[[\"W_apl\"]]\n",
    "y = dataset[[\"D_apl\"]]"
   ]
  },
  {
   "cell_type": "code",
   "execution_count": 42,
   "metadata": {},
   "outputs": [
    {
     "name": "stdout",
     "output_type": "stream",
     "text": [
      "\n",
      "      Linear Regression:\n",
      "      \t R2: 0.007276295697569268\n",
      "      \t m(slope): [[2.90176228]]\n",
      "      \t c(intercept: [974.77886569])\n",
      "      \n"
     ]
    }
   ],
   "source": [
    "model = LinearRegression()\n",
    "model.fit(x,y)\n",
    "\n",
    "r2_score = model.score(x, y)\n",
    "\n",
    "print(f\"\"\"\n",
    "      Linear Regression:\n",
    "      \\t R2: {r2_score}\n",
    "      \\t m(slope): {model.coef_}\n",
    "      \\t c(intercept: {model.intercept_})\n",
    "      \"\"\")"
   ]
  },
  {
   "cell_type": "code",
   "execution_count": 48,
   "metadata": {},
   "outputs": [
    {
     "name": "stdout",
     "output_type": "stream",
     "text": [
      "\n",
      "      Plot fit:\n",
      "      \t m(slope): 2.9017622757229242\n",
      "      \t c(intercept: 974.778865685983)\n",
      "      \n"
     ]
    }
   ],
   "source": [
    "m, c = np.polyfit(x['W_apl'], y['D_apl'], 1)\n",
    "print(f\"\"\"\n",
    "      Plot fit:\n",
    "      \\t m(slope): {m}\n",
    "      \\t c(intercept: {c})\n",
    "      \"\"\")"
   ]
  },
  {
   "cell_type": "code",
   "execution_count": 79,
   "metadata": {},
   "outputs": [
    {
     "data": {
      "text/plain": [
       "<matplotlib.legend.Legend at 0x7f12ac4aeb90>"
      ]
     },
     "execution_count": 79,
     "metadata": {},
     "output_type": "execute_result"
    },
    {
     "data": {
      "image/png": "[encoded data removed]",
      "text/plain": [
       "<Figure size 640x480 with 1 Axes>"
      ]
     },
     "metadata": {},
     "output_type": "display_data"
    }
   ],
   "source": [
    "ax = dataset[[\"W_apl\",\"D_apl\"]].plot(\n",
    "    x=\"W_apl\",\n",
    "    y=\"D_apl\",\n",
    "    kind=\"scatter\",\n",
    "    marker=\"$a$\",\n",
    "    color=\"red\",\n",
    "    label=\"Apple\",\n",
    "    s=50,\n",
    ")\n",
    "\n",
    "ax.plot(\n",
    "    x, \n",
    "    m*x+c, \n",
    "    label=f\"Y={m:0.2}X+{c:0.2f}\",\n",
    "    ) \n",
    "\n",
    "plt.legend(loc='upper left')"
   ]
  },
  {
   "cell_type": "code",
   "execution_count": 82,
   "metadata": {},
   "outputs": [
    {
     "data": {
      "text/html": [
       "<div>\n",
       "<style scoped>\n",
       "    .dataframe tbody tr th:only-of-type {\n",
       "        vertical-align: middle;\n",
       "    }\n",
       "\n",
       "    .dataframe tbody tr th {\n",
       "        vertical-align: top;\n",
       "    }\n",
       "\n",
       "    .dataframe thead th {\n",
       "        text-align: right;\n",
       "    }\n",
       "</style>\n",
       "<table border=\"1\" class=\"dataframe\">\n",
       "  <thead>\n",
       "    <tr style=\"text-align: right;\">\n",
       "      <th></th>\n",
       "      <th>W_apl</th>\n",
       "      <th>D_apl</th>\n",
       "    </tr>\n",
       "  </thead>\n",
       "  <tbody>\n",
       "    <tr>\n",
       "      <th>W_apl</th>\n",
       "      <td>1.000000</td>\n",
       "      <td>0.085301</td>\n",
       "    </tr>\n",
       "    <tr>\n",
       "      <th>D_apl</th>\n",
       "      <td>0.085301</td>\n",
       "      <td>1.000000</td>\n",
       "    </tr>\n",
       "  </tbody>\n",
       "</table>\n",
       "</div>"
      ],
      "text/plain": [
       "          W_apl     D_apl\n",
       "W_apl  1.000000  0.085301\n",
       "D_apl  0.085301  1.000000"
      ]
     },
     "execution_count": 82,
     "metadata": {},
     "output_type": "execute_result"
    }
   ],
   "source": [
    "dataset[[\"W_apl\",\"D_apl\"]].corr(method='pearson')"
   ]
  },
  {
   "cell_type": "code",
   "execution_count": null,
   "metadata": {},
   "outputs": [],
   "source": []
  }
 ],
 "metadata": {
  "kernelspec": {
   "display_name": "Python 3 (ipykernel)",
   "language": "python",
   "name": "python3"
  },
  "language_info": {
   "codemirror_mode": {
    "name": "ipython",
    "version": 3
   },
   "file_extension": ".py",
   "mimetype": "text/x-python",
   "name": "python",
   "nbconvert_exporter": "python",
   "pygments_lexer": "ipython3",
   "version": "3.10.10"
  },
  "orig_nbformat": 4
 },
 "nbformat": 4,
 "nbformat_minor": 2
}
