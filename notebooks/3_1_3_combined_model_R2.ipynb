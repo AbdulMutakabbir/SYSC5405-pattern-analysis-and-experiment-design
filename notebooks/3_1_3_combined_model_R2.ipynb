{
 "cells": [
  {
   "cell_type": "code",
   "execution_count": 17,
   "metadata": {},
   "outputs": [],
   "source": [
    "from torch.nn import Module, Sequential, Linear, LeakyReLU, Sigmoid, BCELoss\n",
    "from torch.utils.data import DataLoader, TensorDataset\n",
    "from torch import device, cuda\n",
    "from torch.optim import Adam\n",
    "from sklearn.model_selection import train_test_split, StratifiedKFold, KFold\n",
    "from sklearn.metrics import f1_score, confusion_matrix, precision_recall_curve, ConfusionMatrixDisplay\n",
    "import numpy as np \n",
    "import pandas as pd\n",
    "from tqdm import tqdm\n",
    "import matplotlib.pyplot as plt\n",
    "import torch\n",
    "from time import time\n",
    "import os\n",
    "\n",
    "import sys\n",
    "sys.path.append('..')  \n",
    "from src.utils.RawDataReader import RawDataReader\n",
    "\n"
   ]
  },
  {
   "cell_type": "code",
   "execution_count": 18,
   "metadata": {},
   "outputs": [],
   "source": [
    "reader = RawDataReader()\n",
    "labels = reader.get_labels()\n",
    "datasets, means, stds = reader.get_normalised_dataset()"
   ]
  },
  {
   "cell_type": "code",
   "execution_count": 19,
   "metadata": {},
   "outputs": [
    {
     "name": "stdout",
     "output_type": "stream",
     "text": [
      "Training on cuda\n"
     ]
    }
   ],
   "source": [
    "num_labels = labels.shape[1]\n",
    "\n",
    "validation_split = 0.20\n",
    "test_split = 0.20\n",
    "batch_size = 2048 * 4\n",
    "learning_rate = 0.001\n",
    "epochs = 99\n",
    "hidden_layers = 10\n",
    "\n",
    "num_folds = 10\n",
    "\n",
    "random_state = 1\n",
    "\n",
    "device = device(\"cuda\" if cuda.is_available() else \"cpu\")\n",
    "print(f\"Training on {device}\")"
   ]
  },
  {
   "cell_type": "code",
   "execution_count": 20,
   "metadata": {},
   "outputs": [],
   "source": [
    "class SingleHeadModel(Module):\n",
    "    def __init__(self, feature_count:int, hidden_count:int=5):\n",
    "        super(SingleHeadModel, self).__init__()\n",
    "\n",
    "        self.slope = 0.001\n",
    "\n",
    "        self.model = Sequential(\n",
    "            *[self.linear_block(feature_count,feature_count) for _ in range(hidden_count)],\n",
    "            Linear(in_features=feature_count, out_features=1),\n",
    "            Sigmoid()\n",
    "        )\n",
    "\n",
    "    def linear_block(self, in_features, out_features):\n",
    "        return Sequential(\n",
    "            Linear(in_features=in_features, out_features=out_features),\n",
    "            LeakyReLU(negative_slope=self.slope)\n",
    "        )\n",
    "    \n",
    "    def forward(self, x):\n",
    "        return self.model(x)\n"
   ]
  },
  {
   "cell_type": "code",
   "execution_count": 21,
   "metadata": {},
   "outputs": [
    {
     "data": {
      "text/plain": [
       "tensor([[0.5057, 0.4962, 0.4974, 0.4997, 0.4904, 0.4938, 0.5035, 0.5093, 0.4997,\n",
       "         0.4916, 0.5011, 0.5044, 0.5040, 0.5037, 0.4930, 0.5006, 0.4971, 0.4960,\n",
       "         0.5040]], grad_fn=<CatBackward0>)"
      ]
     },
     "execution_count": 21,
     "metadata": {},
     "output_type": "execute_result"
    }
   ],
   "source": [
    "class FusedHeadModel(Module):\n",
    "    def __init__(self, feature_count:int, hidden_count:int=10, r=None, timestamp=None):\n",
    "        super(FusedHeadModel, self).__init__()\n",
    "\n",
    "        self.feature_count = feature_count\n",
    "        self.timestamp = timestamp\n",
    "        self.hidden_count = hidden_count\n",
    "        self.r = r\n",
    "        self.heads = []\n",
    "\n",
    "        for _ in range(num_labels):\n",
    "            self.heads.append(SingleHeadModel(feature_count=self.feature_count))\n",
    "\n",
    "    def get_singel_head_model_path(self, label):\n",
    "        return f\"../models/{self.timestamp}/SingleHeadModel_norm_{self.hidden_count}hidden_r{self.r}_label{label}.pth\"\n",
    "    \n",
    "    def get_singel_head_model(self, label):\n",
    "        path = self.get_singel_head_model_path(label)\n",
    "        model = SingleHeadModel(\n",
    "            feature_count=self.feature_count,\n",
    "            hidden_count=hidden_layers\n",
    "        ).to(device)\n",
    "        model.load_state_dict(torch.load(path))\n",
    "\n",
    "        return model\n",
    "    \n",
    "    def forward(self, x):\n",
    "        output = []\n",
    "        for _ in range(num_labels):\n",
    "            pred = self.heads[_](x)\n",
    "            output.append(pred)\n",
    "        return torch.cat(output, dim=1)\n",
    "\n",
    "fused_model = FusedHeadModel(feature_count=datasets[1].shape[1])\n",
    "fused_model(torch.rand(1,datasets[1].shape[1]))"
   ]
  },
  {
   "cell_type": "code",
   "execution_count": 22,
   "metadata": {},
   "outputs": [],
   "source": [
    "r = 2\n",
    "curr_dataset = datasets[r]\n",
    "mean = means[r]\n",
    "std = stds[r]\n",
    "# del datasets\n",
    "# del means\n",
    "# del stds\n",
    "\n",
    "feature_count = curr_dataset.shape[1]"
   ]
  },
  {
   "cell_type": "code",
   "execution_count": 23,
   "metadata": {},
   "outputs": [
    {
     "name": "stderr",
     "output_type": "stream",
     "text": [
      "Epoch:   3%|▎         | 6/198 [00:00<00:28,  6.66it/s]"
     ]
    },
    {
     "name": "stderr",
     "output_type": "stream",
     "text": [
      "Epoch: 100%|██████████| 198/198 [00:32<00:00,  6.16it/s]\n"
     ]
    },
    {
     "name": "stdout",
     "output_type": "stream",
     "text": [
      "R:2, label:0, --> f1:0.93\n"
     ]
    },
    {
     "name": "stderr",
     "output_type": "stream",
     "text": [
      "Epoch: 100%|██████████| 198/198 [00:31<00:00,  6.21it/s]\n"
     ]
    },
    {
     "name": "stdout",
     "output_type": "stream",
     "text": [
      "R:2, label:1, --> f1:0.9802\n"
     ]
    },
    {
     "name": "stderr",
     "output_type": "stream",
     "text": [
      "Epoch: 100%|██████████| 198/198 [00:31<00:00,  6.25it/s]\n"
     ]
    },
    {
     "name": "stdout",
     "output_type": "stream",
     "text": [
      "R:2, label:2, --> f1:0.874\n"
     ]
    },
    {
     "name": "stderr",
     "output_type": "stream",
     "text": [
      "Epoch: 100%|██████████| 198/198 [00:30<00:00,  6.42it/s]\n"
     ]
    },
    {
     "name": "stdout",
     "output_type": "stream",
     "text": [
      "R:2, label:3, --> f1:0.9604\n"
     ]
    },
    {
     "name": "stderr",
     "output_type": "stream",
     "text": [
      "Epoch: 100%|██████████| 198/198 [00:30<00:00,  6.49it/s]\n"
     ]
    },
    {
     "name": "stdout",
     "output_type": "stream",
     "text": [
      "R:2, label:4, --> f1:0.8986\n"
     ]
    },
    {
     "name": "stderr",
     "output_type": "stream",
     "text": [
      "Epoch: 100%|██████████| 198/198 [00:30<00:00,  6.41it/s]\n"
     ]
    },
    {
     "name": "stdout",
     "output_type": "stream",
     "text": [
      "R:2, label:5, --> f1:0.8716000000000002\n"
     ]
    },
    {
     "name": "stderr",
     "output_type": "stream",
     "text": [
      "Epoch: 100%|██████████| 198/198 [00:32<00:00,  6.11it/s]\n"
     ]
    },
    {
     "name": "stdout",
     "output_type": "stream",
     "text": [
      "R:2, label:6, --> f1:0.806\n"
     ]
    },
    {
     "name": "stderr",
     "output_type": "stream",
     "text": [
      "Epoch: 100%|██████████| 198/198 [00:31<00:00,  6.28it/s]\n"
     ]
    },
    {
     "name": "stdout",
     "output_type": "stream",
     "text": [
      "R:2, label:7, --> f1:0.9756\n"
     ]
    },
    {
     "name": "stderr",
     "output_type": "stream",
     "text": [
      "Epoch: 100%|██████████| 198/198 [00:31<00:00,  6.29it/s]\n"
     ]
    },
    {
     "name": "stdout",
     "output_type": "stream",
     "text": [
      "R:2, label:8, --> f1:0.8599999999999999\n"
     ]
    },
    {
     "name": "stderr",
     "output_type": "stream",
     "text": [
      "Epoch: 100%|██████████| 198/198 [00:32<00:00,  6.17it/s]\n"
     ]
    },
    {
     "name": "stdout",
     "output_type": "stream",
     "text": [
      "R:2, label:9, --> f1:0.897\n"
     ]
    },
    {
     "name": "stderr",
     "output_type": "stream",
     "text": [
      "Epoch: 100%|██████████| 198/198 [00:31<00:00,  6.31it/s]\n"
     ]
    },
    {
     "name": "stdout",
     "output_type": "stream",
     "text": [
      "R:2, label:10, --> f1:0.8388\n"
     ]
    },
    {
     "name": "stderr",
     "output_type": "stream",
     "text": [
      "Epoch: 100%|██████████| 198/198 [00:31<00:00,  6.21it/s]\n"
     ]
    },
    {
     "name": "stdout",
     "output_type": "stream",
     "text": [
      "R:2, label:11, --> f1:0.9758\n"
     ]
    },
    {
     "name": "stderr",
     "output_type": "stream",
     "text": [
      "Epoch: 100%|██████████| 198/198 [00:32<00:00,  6.19it/s]\n"
     ]
    },
    {
     "name": "stdout",
     "output_type": "stream",
     "text": [
      "R:2, label:12, --> f1:0.9754\n"
     ]
    },
    {
     "name": "stderr",
     "output_type": "stream",
     "text": [
      "Epoch: 100%|██████████| 198/198 [00:32<00:00,  6.18it/s]\n"
     ]
    },
    {
     "name": "stdout",
     "output_type": "stream",
     "text": [
      "R:2, label:13, --> f1:0.7774\n"
     ]
    },
    {
     "name": "stderr",
     "output_type": "stream",
     "text": [
      "Epoch: 100%|██████████| 198/198 [00:30<00:00,  6.39it/s]\n"
     ]
    },
    {
     "name": "stdout",
     "output_type": "stream",
     "text": [
      "R:2, label:14, --> f1:0.997\n"
     ]
    },
    {
     "name": "stderr",
     "output_type": "stream",
     "text": [
      "Epoch: 100%|██████████| 198/198 [00:32<00:00,  6.16it/s]\n"
     ]
    },
    {
     "name": "stdout",
     "output_type": "stream",
     "text": [
      "R:2, label:15, --> f1:0.9608\n"
     ]
    },
    {
     "name": "stderr",
     "output_type": "stream",
     "text": [
      "Epoch: 100%|██████████| 198/198 [00:32<00:00,  6.18it/s]\n"
     ]
    },
    {
     "name": "stdout",
     "output_type": "stream",
     "text": [
      "R:2, label:16, --> f1:0.9968\n"
     ]
    },
    {
     "name": "stderr",
     "output_type": "stream",
     "text": [
      "Epoch: 100%|██████████| 198/198 [00:32<00:00,  6.04it/s]\n"
     ]
    },
    {
     "name": "stdout",
     "output_type": "stream",
     "text": [
      "R:2, label:17, --> f1:0.9362\n"
     ]
    },
    {
     "name": "stderr",
     "output_type": "stream",
     "text": [
      "Epoch: 100%|██████████| 198/198 [00:33<00:00,  5.99it/s]"
     ]
    },
    {
     "name": "stdout",
     "output_type": "stream",
     "text": [
      "R:2, label:18, --> f1:0.9872\n"
     ]
    },
    {
     "name": "stderr",
     "output_type": "stream",
     "text": [
      "\n"
     ]
    }
   ],
   "source": [
    "k_fold = KFold(n_splits=num_folds, shuffle=True, random_state=random_state)\n",
    "\n",
    "\n",
    "for label_index in range(num_labels):\n",
    "    curr_label = labels[:,[label_index]]\n",
    "    x, x_val, y, y_val = train_test_split(curr_dataset, curr_label, test_size=validation_split, random_state=random_state)\n",
    "\n",
    "    x_val = x_val.to(device)\n",
    "    y_val = y_val.to(device)\n",
    "    \n",
    "    # f1_scores = {}\n",
    "    # f1_score_validations = {}\n",
    "    # for fold_index, (train_index, test_index) in enumerate(k_fold.split(y)):\n",
    "    #     x_train = x[train_index].to(device)\n",
    "    #     y_train = y[train_index].to(device)\n",
    "    #     train_dataset = TensorDataset(x_train, y_train)\n",
    "    #     train_loader = DataLoader(train_dataset, batch_size=batch_size, shuffle=True)\n",
    "\n",
    "    #     x_test = x[test_index]\n",
    "    #     y_test = y[test_index]\n",
    "\n",
    "    #     model = SingleHeadModel(feature_count=feature_count)\n",
    "    #     model.to(device)\n",
    "        \n",
    "    #     criterion = BCELoss().to(device)\n",
    "    #     optimizer = Adam(model.parameters(), lr=learning_rate)\n",
    "\n",
    "    #     for epoch in tqdm(range(epochs), ascii=False, desc=f\"Fold: {fold_index}    Epoch\"):\n",
    "    #         model.train()\n",
    "    #         total_loss = 0\n",
    "    #         for batch_features, batch_labels in train_loader:\n",
    "    #             optimizer.zero_grad()\n",
    "    #             predictions = model(batch_features)\n",
    "    #             loss = criterion(predictions, batch_labels)\n",
    "    #             loss.backward()\n",
    "    #             optimizer.step()\n",
    "    #             total_loss += loss\n",
    "    #             total_loss = total_loss / len(train_loader)\n",
    "\n",
    "    #         model.eval()\n",
    "    #         y_test_pred = model(x_test.to(device))\n",
    "    #         f1 = f1_score(y_test.cpu().detach(), (y_test_pred.cpu().detach()>0.5).float(),average='micro')\n",
    "    #         f1_scores[(epoch, fold_index)] = f1\n",
    "    #         y_val_pred = model(x_val.to(device))\n",
    "    #         f1 = f1_score(y_val.cpu().detach(), (y_val_pred.cpu().detach()>0.5).float(),average='micro')\n",
    "    #         f1_score_validations[(epoch, fold_index)] = f1\n",
    "\n",
    "    #     model.to('cpu')\n",
    "    #     x_train.to('cpu')\n",
    "    #     y_train.to('cpu')\n",
    "    #     x_test.to('cpu')\n",
    "    #     y_test.to('cpu')\n",
    "    #     del model\n",
    "    #     del x_train\n",
    "    #     del y_train\n",
    "    #     del x_test\n",
    "    #     del y_test\n",
    "    #     del optimizer\n",
    "    #     del criterion\n",
    "    #     del train_dataset\n",
    "    #     del train_loader\n",
    "\n",
    "    # fold_f1_df = pd.DataFrame(\n",
    "    #     index=f1_scores.keys(),\n",
    "    #     data={\n",
    "    #         \"f1_train\": f1_scores.values(),\n",
    "    #         \"f1_val\": f1_score_validations.values()\n",
    "    #         },\n",
    "    # )  \n",
    "    # fold_f1_df = fold_f1_df.reset_index()[[\"level_0\", \"level_1\", \"f1_train\", \"f1_val\"]].groupby([\"level_0\", \"level_1\"]).sum().unstack()  \n",
    "    # fold_f1_df[\"f1_val\"].plot(\n",
    "    #     legend=False,\n",
    "    #     xlabel=\"Epoch\",\n",
    "    #     ylabel=\"F1 score\",\n",
    "    #     title=f\"Validation F1 Score for {num_folds}-Fold on label {label_index}\"\n",
    "    # )\n",
    "    # plt.show()\n",
    "    # fold_f1_df.to_csv(f\"../data/recordes/R{r}_label{label_index}.csv\")\n",
    "\n",
    "    model = fused_model.heads[label_index].to(device)\n",
    "    criterion = BCELoss().to(device)\n",
    "    optimizer = Adam(model.parameters(), lr=learning_rate)\n",
    "\n",
    "    x.to(device)\n",
    "    y.to(device)\n",
    "    train_dataset = TensorDataset(x, y)\n",
    "    train_loader = DataLoader(train_dataset, batch_size=batch_size, shuffle=True)\n",
    "\n",
    "    validation_f1_scores = []\n",
    "    for epoch in tqdm(range(2*epochs), ascii=False, desc=f\"Epoch\"):\n",
    "        model.train()\n",
    "        total_loss = 0\n",
    "        for batch_features, batch_labels in train_loader:\n",
    "            optimizer.zero_grad()\n",
    "            predictions = model(batch_features.to(device))\n",
    "            loss = criterion(predictions, batch_labels.to(device))\n",
    "            loss.backward()\n",
    "            optimizer.step()\n",
    "            total_loss += loss\n",
    "            total_loss = total_loss / len(train_loader)\n",
    "\n",
    "        model.eval()\n",
    "        y_val_pred = model(x_val.to(device))\n",
    "        f1 = f1_score(y_val.cpu().detach(), (y_val_pred.cpu().detach()>0.5).float(),average='micro')\n",
    "        validation_f1_scores.append(f1)\n",
    "\n",
    "    model.to('cpu')\n",
    "    x.to('cpu')\n",
    "    y.to('cpu')\n",
    "    x_val.to('cpu')\n",
    "    y_val.to('cpu')\n",
    "    del x\n",
    "    del y\n",
    "    del x_val\n",
    "    del y_val\n",
    "    del optimizer\n",
    "    del criterion\n",
    "    del train_dataset\n",
    "    del train_loader\n",
    "\n",
    "    print(f\"R:{r}, label:{label_index}, --> f1:{f1}\")\n",
    "    trained_f1 = pd.DataFrame({\n",
    "        \"f1\": validation_f1_scores\n",
    "    })\n",
    "    # trained_f1.plot()\n",
    "    # plt.show()\n",
    "    trained_f1.to_csv(f\"../data/recordes/R{r}_label{label_index}_trained.csv\")\n",
    "\n"
   ]
  },
  {
   "cell_type": "code",
   "execution_count": 26,
   "metadata": {},
   "outputs": [
    {
     "data": {
      "text/plain": [
       "0.9468327362603793"
      ]
     },
     "execution_count": 26,
     "metadata": {},
     "output_type": "execute_result"
    }
   ],
   "source": [
    "fused_model.eval()\n",
    "fused_model.to(device)\n",
    "y_pred = (fused_model(curr_dataset) > 0.5).int()\n",
    "f1_score(labels.int().cpu(), y_pred.cpu(), average=\"micro\")"
   ]
  },
  {
   "cell_type": "code",
   "execution_count": 28,
   "metadata": {},
   "outputs": [],
   "source": [
    "R2_test_df = pd.read_csv(f\"../data/raw/R2_test.csv\")\n",
    "R2_test_norm_df = (R2_test_df - R2_test_df.mean())/R2_test_df.std()\n",
    "\n",
    "R2_test_x = torch.from_numpy(R2_test_norm_df.to_numpy()).float()\n",
    "\n",
    "fused_model.eval()\n",
    "R2_test_predictions = fused_model(R2_test_x)\n",
    "\n",
    "R2_test_predictions_df = pd.DataFrame(R2_test_predictions.cpu().detach().numpy())\n",
    "R2_test_predictions_df.to_csv(\"../data/r2_predictions.csv\")"
   ]
  },
  {
   "cell_type": "code",
   "execution_count": 29,
   "metadata": {},
   "outputs": [
    {
     "data": {
      "text/plain": [
       "<Axes: >"
      ]
     },
     "execution_count": 29,
     "metadata": {},
     "output_type": "execute_result"
    },
    {
     "data": {
      "image/png": "[encoded data removed]",
      "text/plain": [
       "<Figure size 640x480 with 1 Axes>"
      ]
     },
     "metadata": {},
     "output_type": "display_data"
    }
   ],
   "source": [
    "R2_test_predictions_df.sum().plot.bar()"
   ]
  },
  {
   "cell_type": "code",
   "execution_count": 30,
   "metadata": {},
   "outputs": [
    {
     "data": {
      "text/plain": [
       "<Axes: >"
      ]
     },
     "execution_count": 30,
     "metadata": {},
     "output_type": "execute_result"
    }
   ],
   "source": [
    "R2_test_predictions_df.sum(axis=1).value_counts().sort_index().plot.bar()"
   ]
  },
  {
   "cell_type": "code",
   "execution_count": 8,
   "metadata": {},
   "outputs": [],
   "source": [
    "curr_time = time()\n",
    "os.mkdir(f\"../models/{curr_time}\")\n",
    "\n",
    "torch.save(fused_model.state_dict(), f\"../models/{curr_time}/R{r}_model.pth\")"
   ]
  },
  {
   "cell_type": "code",
   "execution_count": 9,
   "metadata": {},
   "outputs": [],
   "source": [
    "# curr_time = '1701454903.1140416'\n",
    "# prediction_array = []\n",
    "\n",
    "# steps = 50\n",
    "\n",
    "# for label in range(19):\n",
    "#     model = SingleHeadModel(\n",
    "#         feature_count=feature_count,\n",
    "#         hidden_count=hidden_layers\n",
    "#     ).to(device)\n",
    "#     model.load_state_dict(torch.load(f'../models/{curr_time}/SingleHeadModel_norm_{hidden_layers}hidden_r{r}_label{label}.pth'))\n",
    "    \n",
    "#     model.eval()\n",
    "#     predictions = (model(curr_dataset.to(device)) > 0.5).float()\n",
    "#     prediction_array.append(predictions)\n",
    "#     # predictions.sum()\n",
    "#     # # labels[:,[label]].sum()\n",
    "\n",
    "#     predictions = predictions.to(\"cpu\")\n",
    "#     c_labels = labels[:,[label]]\n",
    "#     tp = []\n",
    "#     tn = []\n",
    "#     fp = []\n",
    "#     fn = []\n",
    "#     thresholds = np.array(range(steps))/steps\n",
    "\n",
    "#     for theta in thresholds:\n",
    "#         tn_, fp_, fn_, tp_ = confusion_matrix(c_labels, (predictions > theta).float()).ravel()\n",
    "#         tn.append(tn_)\n",
    "#         fp.append(fp_)\n",
    "#         fn.append(fn_)\n",
    "#         tp.append(tp_)\n",
    " \n",
    "#     plt.plot(thresholds, tn, label='TN')\n",
    "#     plt.plot(thresholds, fn, label='FN')\n",
    "#     plt.plot(thresholds, tp, label='TP')\n",
    "#     plt.plot(thresholds, fp, label='FP')\n",
    "#     plt.xlabel('Threshold')\n",
    "#     plt.ylabel('Count')\n",
    "#     plt.title(f'Distribution for label {label}')\n",
    "#     plt.legend()\n",
    "#     plt.show()\n"
   ]
  },
  {
   "cell_type": "code",
   "execution_count": null,
   "metadata": {},
   "outputs": [],
   "source": []
  }
 ],
 "metadata": {
  "kernelspec": {
   "display_name": "base",
   "language": "python",
   "name": "python3"
  },
  "language_info": {
   "codemirror_mode": {
    "name": "ipython",
    "version": 3
   },
   "file_extension": ".py",
   "mimetype": "text/x-python",
   "name": "python",
   "nbconvert_exporter": "python",
   "pygments_lexer": "ipython3",
   "version": "3.10.10"
  }
 },
 "nbformat": 4,
 "nbformat_minor": 2
}
