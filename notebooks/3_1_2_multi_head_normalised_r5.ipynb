{
 "cells": [
  {
   "cell_type": "code",
   "execution_count": 2,
   "metadata": {},
   "outputs": [],
   "source": [
    "from torch.nn import Module, Sequential, Linear, LeakyReLU, Sigmoid, BCELoss\n",
    "from torch.utils.data import DataLoader, TensorDataset\n",
    "from torch import device, cuda\n",
    "from torch.optim import Adam\n",
    "from sklearn.model_selection import train_test_split, StratifiedKFold\n",
    "import matplotlib.pyplot as plt\n",
    "from sklearn.metrics import f1_score, precision_recall_curve, confusion_matrix\n",
    "import pandas as pd\n",
    "from tqdm import tqdm\n",
    "import torch\n",
    "from time import time\n",
    "import os\n",
    "\n",
    "import sys\n",
    "sys.path.append('..')  \n",
    "from src.utils.RawDataReader import RawDataReader\n",
    "from src.utils.SingleHeadModel import SingleHeadModel\n",
    "\n"
   ]
  },
  {
   "cell_type": "code",
   "execution_count": 2,
   "metadata": {},
   "outputs": [],
   "source": [
    "reader = RawDataReader()\n",
    "labels = reader.get_labels()\n",
    "datasets, means, stds = reader.get_normalised_dataset()"
   ]
  },
  {
   "cell_type": "code",
   "execution_count": 3,
   "metadata": {},
   "outputs": [
    {
     "name": "stdout",
     "output_type": "stream",
     "text": [
      "Training on cuda\n"
     ]
    }
   ],
   "source": [
    "r = 5 \n",
    "\n",
    "f1_scores = {}\n",
    "f1_score_validations = {}\n",
    "models = {}\n",
    "num_labels = labels.shape[1]\n",
    "\n",
    "validation_split = 0.05\n",
    "test_split = 0.20\n",
    "batch_size = 2048\n",
    "learning_rate = 0.001\n",
    "epochs = 99\n",
    "hidden_layers = 10\n",
    "\n",
    "num_folds = 10\n",
    "\n",
    "random_state = 1\n",
    "\n",
    "device = device(\"cuda\" if cuda.is_available() else \"cpu\")\n",
    "print(f\"Training on {device}\")"
   ]
  },
  {
   "cell_type": "code",
   "execution_count": 4,
   "metadata": {},
   "outputs": [],
   "source": [
    "curr_dataset = datasets[r]\n",
    "mean = means[r]\n",
    "std = stds[r]\n",
    "del datasets\n",
    "del means\n",
    "del stds"
   ]
  },
  {
   "cell_type": "code",
   "execution_count": 1,
   "metadata": {},
   "outputs": [
    {
     "name": "stdout",
     "output_type": "stream",
     "text": [
      "Writing ../src/utils/SingleHeadModel.py\n"
     ]
    }
   ],
   "source": [
    "%%writefile ../src/utils/SingleHeadModel.py\n",
    "from torch.nn import Module, Sequential, Linear, LeakyReLU, Sigmoid\n",
    "\n",
    "class SingleHeadModel(Module):\n",
    "    def __init__(self, feature_count:int, hidden_count:int=5):\n",
    "        super(SingleHeadModel, self).__init__()\n",
    "\n",
    "        self.slope = 0.001\n",
    "\n",
    "        self.model = Sequential(\n",
    "            *[self.linear_block(feature_count,feature_count) for _ in range(hidden_count)],\n",
    "            Linear(in_features=feature_count, out_features=1),\n",
    "            Sigmoid()\n",
    "        )\n",
    "\n",
    "    def linear_block(self, in_features, out_features):\n",
    "        return Sequential(\n",
    "            Linear(in_features=in_features, out_features=out_features),\n",
    "            LeakyReLU(negative_slope=self.slope)\n",
    "        )\n",
    "    \n",
    "    def forward(self, x):\n",
    "        return self.model(x)\n"
   ]
  },
  {
   "cell_type": "code",
   "execution_count": 6,
   "metadata": {},
   "outputs": [],
   "source": [
    "stratified_folds = StratifiedKFold(n_splits=num_folds, random_state=random_state, shuffle=True)"
   ]
  },
  {
   "cell_type": "code",
   "execution_count": 9,
   "metadata": {},
   "outputs": [],
   "source": [
    "# curr_time = time()\n",
    "# os.mkdir(f\"../models/{curr_time}\")\n",
    "\n",
    "feature_count = curr_dataset.shape[1]\n",
    "\n",
    "# for label_index in range(num_labels):\n",
    "#     curr_label = labels[:,[label_index]]\n",
    "#     x_train, x_test, y_train, y_test = train_test_split(curr_dataset, curr_label, test_size=test_split, random_state=random_state, stratify=curr_label)\n",
    "#     x_train = x_train.to(device)\n",
    "#     y_train = y_train.to(device)\n",
    "#     x_test = x_test.to(device)\n",
    "#     y_test = y_test.to(device)\n",
    "\n",
    "\n",
    "#     train_dataset = TensorDataset(x_train, y_train)\n",
    "#     train_loader = DataLoader(train_dataset, batch_size=batch_size, shuffle=True)\n",
    "\n",
    "#     test_dataset = TensorDataset(x_test, y_test)\n",
    "\n",
    "#     model = SingleHeadModel(\n",
    "#         feature_count=feature_count,\n",
    "#         hidden_count=hidden_layers\n",
    "#     ).to(device)\n",
    "\n",
    "#     criterion = BCELoss()\n",
    "#     optimizer = Adam(model.parameters(), lr=learning_rate)\n",
    "\n",
    "#     for epoch in tqdm(range(epochs), ascii=False, desc=\"Epoch\"):\n",
    "#         model.train()\n",
    "#         total_loss = 0\n",
    "#         for batch_features, batch_labels in train_loader:\n",
    "#             optimizer.zero_grad()\n",
    "#             predictions = model(batch_features)\n",
    "#             loss = criterion(predictions, batch_labels)\n",
    "#             loss.backward()\n",
    "#             optimizer.step()\n",
    "#             total_loss += loss\n",
    "#             total_loss = total_loss / len(train_loader)\n",
    "\n",
    "#         model.eval()\n",
    "#         predictions = model(x_test)\n",
    "                \n",
    "#         f1 = f1_score(y_test.cpu().detach(), (predictions.cpu().detach()>0.5).float(),average='micro')\n",
    "#         f1_scores[(r,label_index,epoch)] = f1\n",
    "            \n",
    "#     print(f\"R:{r}, label:{label_index}, --> f1:{f1}\")\n",
    "\n",
    "#     # models[(r,label_index,fold_index)] = model\n",
    "#     torch.save(model.state_dict(), f'../models/{curr_time}/SingleHeadModel_norm_{hidden_layers}hidden_r{r}_label{label_index}.pth')\n",
    "#     model.to('cpu')\n",
    "#     x_train.to('cpu')\n",
    "#     y_train.to('cpu')\n",
    "#     x_test.to('cpu')\n",
    "#     y_test.to('cpu')\n",
    "\n",
    "#     del model\n",
    "#     del optimizer\n",
    "#     del criterion\n",
    "#     del train_dataset\n",
    "#     del train_loader\n",
    "#     del test_dataset\n",
    "#     del x_train\n",
    "#     del y_train\n",
    "#     del x_test\n",
    "#     del y_test"
   ]
  },
  {
   "cell_type": "code",
   "execution_count": 14,
   "metadata": {},
   "outputs": [
    {
     "ename": "NameError",
     "evalue": "name 'confusion_matrix' is not defined",
     "output_type": "error",
     "traceback": [
      "\u001b[0;31m---------------------------------------------------------------------------\u001b[0m",
      "\u001b[0;31mNameError\u001b[0m                                 Traceback (most recent call last)",
      "\u001b[1;32m/home/mutakabbir/Projects/SYSC 5405/SYSC5405-pattern-analysis-and-experiment-design/notebooks/3_1_2_multi_head_normalised_r5.ipynb Cell 8\u001b[0m line \u001b[0;36m1\n\u001b[1;32m     <a href='vscode-notebook-cell:/home/mutakabbir/Projects/SYSC%205405/SYSC5405-pattern-analysis-and-experiment-design/notebooks/3_1_2_multi_head_normalised_r5.ipynb#W6sZmlsZQ%3D%3D?line=11'>12</a>\u001b[0m prediction_array\u001b[39m.\u001b[39mappend(predictions)\n\u001b[1;32m     <a href='vscode-notebook-cell:/home/mutakabbir/Projects/SYSC%205405/SYSC5405-pattern-analysis-and-experiment-design/notebooks/3_1_2_multi_head_normalised_r5.ipynb#W6sZmlsZQ%3D%3D?line=13'>14</a>\u001b[0m \u001b[39m# predictions.sum()\u001b[39;00m\n\u001b[1;32m     <a href='vscode-notebook-cell:/home/mutakabbir/Projects/SYSC%205405/SYSC5405-pattern-analysis-and-experiment-design/notebooks/3_1_2_multi_head_normalised_r5.ipynb#W6sZmlsZQ%3D%3D?line=14'>15</a>\u001b[0m \u001b[39m# # labels[:,[label]].sum()lab\u001b[39;00m\n\u001b[0;32m---> <a href='vscode-notebook-cell:/home/mutakabbir/Projects/SYSC%205405/SYSC5405-pattern-analysis-and-experiment-design/notebooks/3_1_2_multi_head_normalised_r5.ipynb#W6sZmlsZQ%3D%3D?line=16'>17</a>\u001b[0m confusion_matrix(labels[:,[label]], (predictions\u001b[39m.\u001b[39mto(\u001b[39m'\u001b[39m\u001b[39mcpu\u001b[39m\u001b[39m'\u001b[39m) \u001b[39m>\u001b[39m \u001b[39m0.5\u001b[39m)\u001b[39m.\u001b[39mfloat())\n\u001b[1;32m     <a href='vscode-notebook-cell:/home/mutakabbir/Projects/SYSC%205405/SYSC5405-pattern-analysis-and-experiment-design/notebooks/3_1_2_multi_head_normalised_r5.ipynb#W6sZmlsZQ%3D%3D?line=18'>19</a>\u001b[0m precision, recall, threshold \u001b[39m=\u001b[39m precision_recall_curve(labels[:,[label]],predictions\u001b[39m.\u001b[39mto(\u001b[39m'\u001b[39m\u001b[39mcpu\u001b[39m\u001b[39m'\u001b[39m))\n\u001b[1;32m     <a href='vscode-notebook-cell:/home/mutakabbir/Projects/SYSC%205405/SYSC5405-pattern-analysis-and-experiment-design/notebooks/3_1_2_multi_head_normalised_r5.ipynb#W6sZmlsZQ%3D%3D?line=19'>20</a>\u001b[0m plt\u001b[39m.\u001b[39mplot(recall, precision, label\u001b[39m=\u001b[39m\u001b[39m'\u001b[39m\u001b[39mPrecision-Recall Curve\u001b[39m\u001b[39m'\u001b[39m)\n",
      "\u001b[0;31mNameError\u001b[0m: name 'confusion_matrix' is not defined"
     ]
    }
   ],
   "source": [
    "curr_time = '1701454903.1140416'\n",
    "prediction_array = []\n",
    "for label in range(19):\n",
    "    model = SingleHeadModel(\n",
    "        feature_count=feature_count,\n",
    "        hidden_count=hidden_layers\n",
    "    ).to(device)\n",
    "    model.load_state_dict(torch.load(f'../models/{curr_time}/SingleHeadModel_norm_{hidden_layers}hidden_r{r}_label{label}.pth'))\n",
    "    \n",
    "    model.eval()\n",
    "    predictions = (model(curr_dataset.to(device)) > 0.5).float()\n",
    "    prediction_array.append(predictions)\n",
    "    \n",
    "    # predictions.sum()\n",
    "    # # labels[:,[label]].sum()lab\n"
   ]
  },
  {
   "cell_type": "code",
   "execution_count": null,
   "metadata": {},
   "outputs": [
    {
     "data": {
      "text/plain": [
       "0.9415369258709846"
      ]
     },
     "execution_count": 35,
     "metadata": {},
     "output_type": "execute_result"
    }
   ],
   "source": [
    "cat_output = torch.cat(prediction_array, dim=1).to('cpu')\n",
    "f1_score(labels,cat_output,average=\"micro\")"
   ]
  },
  {
   "cell_type": "code",
   "execution_count": null,
   "metadata": {},
   "outputs": [],
   "source": []
  }
 ],
 "metadata": {
  "kernelspec": {
   "display_name": "base",
   "language": "python",
   "name": "python3"
  },
  "language_info": {
   "codemirror_mode": {
    "name": "ipython",
    "version": 3
   },
   "file_extension": ".py",
   "mimetype": "text/x-python",
   "name": "python",
   "nbconvert_exporter": "python",
   "pygments_lexer": "ipython3",
   "version": "3.10.10"
  }
 },
 "nbformat": 4,
 "nbformat_minor": 2
}
