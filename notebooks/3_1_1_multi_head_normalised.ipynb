{
 "cells": [
  {
   "cell_type": "code",
   "execution_count": 1,
   "metadata": {},
   "outputs": [],
   "source": [
    "from torch.nn import Module, Sequential, Linear, LeakyReLU, Sigmoid, BCELoss\n",
    "from torch.utils.data import DataLoader, TensorDataset\n",
    "from torch import device, cuda\n",
    "from torch.optim import Adam\n",
    "from sklearn.model_selection import train_test_split, StratifiedKFold\n",
    "from sklearn.metrics import f1_score\n",
    "import pandas as pd\n",
    "from tqdm import tqdm\n",
    "import torch\n",
    "from time import time\n",
    "import os\n",
    "\n",
    "import sys\n",
    "sys.path.append('..')  \n",
    "from src.utils.RawDataReader import RawDataReader\n",
    "\n"
   ]
  },
  {
   "cell_type": "code",
   "execution_count": 2,
   "metadata": {},
   "outputs": [],
   "source": [
    "reader = RawDataReader()\n",
    "labels = reader.get_labels()\n",
    "datasets, means, stds = reader.get_normalised_dataset()"
   ]
  },
  {
   "cell_type": "code",
   "execution_count": 3,
   "metadata": {},
   "outputs": [],
   "source": [
    "class SingleHeadModel(Module):\n",
    "    def __init__(self, feature_count:int, hidden_count:int=5):\n",
    "        super(SingleHeadModel, self).__init__()\n",
    "\n",
    "        self.slope = 0.001\n",
    "\n",
    "        self.model = Sequential(\n",
    "            *[self.linear_block(feature_count,feature_count) for _ in range(hidden_count)],\n",
    "            Linear(in_features=feature_count, out_features=1),\n",
    "            Sigmoid()\n",
    "        )\n",
    "\n",
    "    def linear_block(self, in_features, out_features):\n",
    "        return Sequential(\n",
    "            Linear(in_features=in_features, out_features=out_features),\n",
    "            LeakyReLU(negative_slope=self.slope)\n",
    "        )\n",
    "    \n",
    "    def forward(self, x):\n",
    "        return self.model(x)\n"
   ]
  },
  {
   "cell_type": "code",
   "execution_count": 4,
   "metadata": {},
   "outputs": [
    {
     "name": "stdout",
     "output_type": "stream",
     "text": [
      "Training on cuda\n"
     ]
    }
   ],
   "source": [
    "f1_scores = {}\n",
    "f1_score_validations = {}\n",
    "models = {}\n",
    "num_labels = labels.shape[1]\n",
    "\n",
    "validation_split = 0.05\n",
    "test_split = 0.20\n",
    "batch_size = 2048\n",
    "learning_rate = 0.001\n",
    "epochs = 99\n",
    "hidden_layers = 10\n",
    "\n",
    "num_folds = 10\n",
    "\n",
    "random_state = 1\n",
    "\n",
    "device = device(\"cuda\" if cuda.is_available() else \"cpu\")\n",
    "print(f\"Training on {device}\")"
   ]
  },
  {
   "cell_type": "code",
   "execution_count": 5,
   "metadata": {},
   "outputs": [],
   "source": [
    "stratified_folds = StratifiedKFold(n_splits=num_folds, random_state=random_state, shuffle=True)"
   ]
  },
  {
   "cell_type": "code",
   "execution_count": 6,
   "metadata": {},
   "outputs": [
    {
     "name": "stderr",
     "output_type": "stream",
     "text": [
      "Epoch: 100%|██████████| 99/99 [00:26<00:00,  3.80it/s]\n"
     ]
    },
    {
     "name": "stdout",
     "output_type": "stream",
     "text": [
      "R:5, label:0, fold:0 --> f1:0.9264\n"
     ]
    },
    {
     "name": "stderr",
     "output_type": "stream",
     "text": [
      "Epoch: 100%|██████████| 99/99 [00:25<00:00,  3.82it/s]\n"
     ]
    },
    {
     "name": "stdout",
     "output_type": "stream",
     "text": [
      "R:5, label:0, fold:1 --> f1:0.928\n"
     ]
    },
    {
     "name": "stderr",
     "output_type": "stream",
     "text": [
      "Epoch: 100%|██████████| 99/99 [00:24<00:00,  4.11it/s]\n"
     ]
    },
    {
     "name": "stdout",
     "output_type": "stream",
     "text": [
      "R:5, label:0, fold:2 --> f1:0.9312\n"
     ]
    },
    {
     "name": "stderr",
     "output_type": "stream",
     "text": [
      "Epoch: 100%|██████████| 99/99 [00:27<00:00,  3.66it/s]\n"
     ]
    },
    {
     "name": "stdout",
     "output_type": "stream",
     "text": [
      "R:5, label:0, fold:3 --> f1:0.928\n"
     ]
    },
    {
     "name": "stderr",
     "output_type": "stream",
     "text": [
      "Epoch: 100%|██████████| 99/99 [00:24<00:00,  3.99it/s]\n"
     ]
    },
    {
     "name": "stdout",
     "output_type": "stream",
     "text": [
      "R:5, label:0, fold:4 --> f1:0.9264\n"
     ]
    },
    {
     "name": "stderr",
     "output_type": "stream",
     "text": [
      "Epoch: 100%|██████████| 99/99 [00:25<00:00,  3.90it/s]\n"
     ]
    },
    {
     "name": "stdout",
     "output_type": "stream",
     "text": [
      "R:5, label:0, fold:5 --> f1:0.9256\n"
     ]
    },
    {
     "name": "stderr",
     "output_type": "stream",
     "text": [
      "Epoch: 100%|██████████| 99/99 [00:23<00:00,  4.18it/s]\n"
     ]
    },
    {
     "name": "stdout",
     "output_type": "stream",
     "text": [
      "R:5, label:0, fold:6 --> f1:0.9184\n"
     ]
    },
    {
     "name": "stderr",
     "output_type": "stream",
     "text": [
      "Epoch: 100%|██████████| 99/99 [00:23<00:00,  4.17it/s]\n"
     ]
    },
    {
     "name": "stdout",
     "output_type": "stream",
     "text": [
      "R:5, label:0, fold:7 --> f1:0.936\n"
     ]
    },
    {
     "name": "stderr",
     "output_type": "stream",
     "text": [
      "Epoch: 100%|██████████| 99/99 [00:23<00:00,  4.14it/s]\n"
     ]
    },
    {
     "name": "stdout",
     "output_type": "stream",
     "text": [
      "R:5, label:0, fold:8 --> f1:0.9271999999999999\n"
     ]
    },
    {
     "name": "stderr",
     "output_type": "stream",
     "text": [
      "Epoch: 100%|██████████| 99/99 [00:24<00:00,  4.00it/s]\n"
     ]
    },
    {
     "name": "stdout",
     "output_type": "stream",
     "text": [
      "R:5, label:0, fold:9 --> f1:0.8656\n"
     ]
    },
    {
     "name": "stderr",
     "output_type": "stream",
     "text": [
      "Epoch: 100%|██████████| 99/99 [00:25<00:00,  3.87it/s]\n"
     ]
    },
    {
     "name": "stdout",
     "output_type": "stream",
     "text": [
      "R:5, label:1, fold:0 --> f1:0.9848\n"
     ]
    },
    {
     "name": "stderr",
     "output_type": "stream",
     "text": [
      "Epoch: 100%|██████████| 99/99 [00:24<00:00,  4.08it/s]\n"
     ]
    },
    {
     "name": "stdout",
     "output_type": "stream",
     "text": [
      "R:5, label:1, fold:1 --> f1:0.9832\n"
     ]
    },
    {
     "name": "stderr",
     "output_type": "stream",
     "text": [
      "Epoch: 100%|██████████| 99/99 [00:23<00:00,  4.25it/s]\n"
     ]
    },
    {
     "name": "stdout",
     "output_type": "stream",
     "text": [
      "R:5, label:1, fold:2 --> f1:0.9808\n"
     ]
    },
    {
     "name": "stderr",
     "output_type": "stream",
     "text": [
      "Epoch: 100%|██████████| 99/99 [00:23<00:00,  4.17it/s]\n"
     ]
    },
    {
     "name": "stdout",
     "output_type": "stream",
     "text": [
      "R:5, label:1, fold:3 --> f1:0.9816\n"
     ]
    },
    {
     "name": "stderr",
     "output_type": "stream",
     "text": [
      "Epoch: 100%|██████████| 99/99 [00:24<00:00,  4.07it/s]\n"
     ]
    },
    {
     "name": "stdout",
     "output_type": "stream",
     "text": [
      "R:5, label:1, fold:4 --> f1:0.9816\n"
     ]
    },
    {
     "name": "stderr",
     "output_type": "stream",
     "text": [
      "Epoch: 100%|██████████| 99/99 [00:24<00:00,  4.04it/s]\n"
     ]
    },
    {
     "name": "stdout",
     "output_type": "stream",
     "text": [
      "R:5, label:1, fold:5 --> f1:0.9792\n"
     ]
    },
    {
     "name": "stderr",
     "output_type": "stream",
     "text": [
      "Epoch: 100%|██████████| 99/99 [00:23<00:00,  4.30it/s]\n"
     ]
    },
    {
     "name": "stdout",
     "output_type": "stream",
     "text": [
      "R:5, label:1, fold:6 --> f1:0.9816\n"
     ]
    },
    {
     "name": "stderr",
     "output_type": "stream",
     "text": [
      "Epoch: 100%|██████████| 99/99 [00:23<00:00,  4.28it/s]\n"
     ]
    },
    {
     "name": "stdout",
     "output_type": "stream",
     "text": [
      "R:5, label:1, fold:7 --> f1:0.9824\n"
     ]
    },
    {
     "name": "stderr",
     "output_type": "stream",
     "text": [
      "Epoch: 100%|██████████| 99/99 [00:23<00:00,  4.13it/s]\n"
     ]
    },
    {
     "name": "stdout",
     "output_type": "stream",
     "text": [
      "R:5, label:1, fold:8 --> f1:0.0216\n"
     ]
    },
    {
     "name": "stderr",
     "output_type": "stream",
     "text": [
      "Epoch: 100%|██████████| 99/99 [00:24<00:00,  4.02it/s]\n"
     ]
    },
    {
     "name": "stdout",
     "output_type": "stream",
     "text": [
      "R:5, label:1, fold:9 --> f1:0.9776\n"
     ]
    },
    {
     "name": "stderr",
     "output_type": "stream",
     "text": [
      "Epoch: 100%|██████████| 99/99 [00:25<00:00,  3.90it/s]\n"
     ]
    },
    {
     "name": "stdout",
     "output_type": "stream",
     "text": [
      "R:5, label:2, fold:0 --> f1:0.8752\n"
     ]
    },
    {
     "name": "stderr",
     "output_type": "stream",
     "text": [
      "Epoch: 100%|██████████| 99/99 [00:24<00:00,  4.10it/s]\n"
     ]
    },
    {
     "name": "stdout",
     "output_type": "stream",
     "text": [
      "R:5, label:2, fold:1 --> f1:0.888\n"
     ]
    },
    {
     "name": "stderr",
     "output_type": "stream",
     "text": [
      "Epoch: 100%|██████████| 99/99 [00:24<00:00,  4.11it/s]\n"
     ]
    },
    {
     "name": "stdout",
     "output_type": "stream",
     "text": [
      "R:5, label:2, fold:2 --> f1:0.8776\n"
     ]
    },
    {
     "name": "stderr",
     "output_type": "stream",
     "text": [
      "Epoch: 100%|██████████| 99/99 [00:24<00:00,  4.01it/s]\n"
     ]
    },
    {
     "name": "stdout",
     "output_type": "stream",
     "text": [
      "R:5, label:2, fold:3 --> f1:0.88\n"
     ]
    },
    {
     "name": "stderr",
     "output_type": "stream",
     "text": [
      "Epoch: 100%|██████████| 99/99 [00:25<00:00,  3.95it/s]\n"
     ]
    },
    {
     "name": "stdout",
     "output_type": "stream",
     "text": [
      "R:5, label:2, fold:4 --> f1:0.88\n"
     ]
    },
    {
     "name": "stderr",
     "output_type": "stream",
     "text": [
      "Epoch: 100%|██████████| 99/99 [00:25<00:00,  3.96it/s]\n"
     ]
    },
    {
     "name": "stdout",
     "output_type": "stream",
     "text": [
      "R:5, label:2, fold:5 --> f1:0.8808\n"
     ]
    },
    {
     "name": "stderr",
     "output_type": "stream",
     "text": [
      "Epoch: 100%|██████████| 99/99 [00:23<00:00,  4.21it/s]\n"
     ]
    },
    {
     "name": "stdout",
     "output_type": "stream",
     "text": [
      "R:5, label:2, fold:6 --> f1:0.8704\n"
     ]
    },
    {
     "name": "stderr",
     "output_type": "stream",
     "text": [
      "Epoch: 100%|██████████| 99/99 [00:23<00:00,  4.17it/s]\n"
     ]
    },
    {
     "name": "stdout",
     "output_type": "stream",
     "text": [
      "R:5, label:2, fold:7 --> f1:0.8632\n"
     ]
    },
    {
     "name": "stderr",
     "output_type": "stream",
     "text": [
      "Epoch: 100%|██████████| 99/99 [00:24<00:00,  4.09it/s]\n"
     ]
    },
    {
     "name": "stdout",
     "output_type": "stream",
     "text": [
      "R:5, label:2, fold:8 --> f1:0.8784\n"
     ]
    },
    {
     "name": "stderr",
     "output_type": "stream",
     "text": [
      "Epoch: 100%|██████████| 99/99 [00:24<00:00,  4.02it/s]\n"
     ]
    },
    {
     "name": "stdout",
     "output_type": "stream",
     "text": [
      "R:5, label:2, fold:9 --> f1:0.864\n"
     ]
    },
    {
     "name": "stderr",
     "output_type": "stream",
     "text": [
      "Epoch: 100%|██████████| 99/99 [00:25<00:00,  3.88it/s]\n"
     ]
    },
    {
     "name": "stdout",
     "output_type": "stream",
     "text": [
      "R:5, label:3, fold:0 --> f1:0.9624\n"
     ]
    },
    {
     "name": "stderr",
     "output_type": "stream",
     "text": [
      "Epoch: 100%|██████████| 99/99 [00:23<00:00,  4.17it/s]\n"
     ]
    },
    {
     "name": "stdout",
     "output_type": "stream",
     "text": [
      "R:5, label:3, fold:1 --> f1:0.9656\n"
     ]
    },
    {
     "name": "stderr",
     "output_type": "stream",
     "text": [
      "Epoch: 100%|██████████| 99/99 [00:23<00:00,  4.15it/s]\n"
     ]
    },
    {
     "name": "stdout",
     "output_type": "stream",
     "text": [
      "R:5, label:3, fold:2 --> f1:0.9608\n"
     ]
    },
    {
     "name": "stderr",
     "output_type": "stream",
     "text": [
      "Epoch: 100%|██████████| 99/99 [00:24<00:00,  4.05it/s]\n"
     ]
    },
    {
     "name": "stdout",
     "output_type": "stream",
     "text": [
      "R:5, label:3, fold:3 --> f1:0.9616\n"
     ]
    },
    {
     "name": "stderr",
     "output_type": "stream",
     "text": [
      "Epoch: 100%|██████████| 99/99 [00:25<00:00,  3.94it/s]\n"
     ]
    },
    {
     "name": "stdout",
     "output_type": "stream",
     "text": [
      "R:5, label:3, fold:4 --> f1:0.9656\n"
     ]
    },
    {
     "name": "stderr",
     "output_type": "stream",
     "text": [
      "Epoch: 100%|██████████| 99/99 [00:24<00:00,  3.99it/s]\n"
     ]
    },
    {
     "name": "stdout",
     "output_type": "stream",
     "text": [
      "R:5, label:3, fold:5 --> f1:0.9672\n"
     ]
    },
    {
     "name": "stderr",
     "output_type": "stream",
     "text": [
      "Epoch: 100%|██████████| 99/99 [00:23<00:00,  4.19it/s]\n"
     ]
    },
    {
     "name": "stdout",
     "output_type": "stream",
     "text": [
      "R:5, label:3, fold:6 --> f1:0.9648\n"
     ]
    },
    {
     "name": "stderr",
     "output_type": "stream",
     "text": [
      "Epoch: 100%|██████████| 99/99 [00:23<00:00,  4.20it/s]\n"
     ]
    },
    {
     "name": "stdout",
     "output_type": "stream",
     "text": [
      "R:5, label:3, fold:7 --> f1:0.9696\n"
     ]
    },
    {
     "name": "stderr",
     "output_type": "stream",
     "text": [
      "Epoch: 100%|██████████| 99/99 [00:24<00:00,  4.10it/s]\n"
     ]
    },
    {
     "name": "stdout",
     "output_type": "stream",
     "text": [
      "R:5, label:3, fold:8 --> f1:0.9688\n"
     ]
    },
    {
     "name": "stderr",
     "output_type": "stream",
     "text": [
      "Epoch: 100%|██████████| 99/99 [00:27<00:00,  3.58it/s]\n"
     ]
    },
    {
     "name": "stdout",
     "output_type": "stream",
     "text": [
      "R:5, label:3, fold:9 --> f1:0.9616\n"
     ]
    },
    {
     "name": "stderr",
     "output_type": "stream",
     "text": [
      "Epoch: 100%|██████████| 99/99 [00:25<00:00,  3.88it/s]\n"
     ]
    },
    {
     "name": "stdout",
     "output_type": "stream",
     "text": [
      "R:5, label:4, fold:0 --> f1:0.8936\n"
     ]
    },
    {
     "name": "stderr",
     "output_type": "stream",
     "text": [
      "Epoch: 100%|██████████| 99/99 [00:23<00:00,  4.22it/s]\n"
     ]
    },
    {
     "name": "stdout",
     "output_type": "stream",
     "text": [
      "R:5, label:4, fold:1 --> f1:0.8960000000000001\n"
     ]
    },
    {
     "name": "stderr",
     "output_type": "stream",
     "text": [
      "Epoch: 100%|██████████| 99/99 [00:23<00:00,  4.23it/s]\n"
     ]
    },
    {
     "name": "stdout",
     "output_type": "stream",
     "text": [
      "R:5, label:4, fold:2 --> f1:0.8952000000000001\n"
     ]
    },
    {
     "name": "stderr",
     "output_type": "stream",
     "text": [
      "Epoch: 100%|██████████| 99/99 [00:26<00:00,  3.74it/s]\n"
     ]
    },
    {
     "name": "stdout",
     "output_type": "stream",
     "text": [
      "R:5, label:4, fold:3 --> f1:0.8872\n"
     ]
    },
    {
     "name": "stderr",
     "output_type": "stream",
     "text": [
      "Epoch: 100%|██████████| 99/99 [00:25<00:00,  3.95it/s]\n"
     ]
    },
    {
     "name": "stdout",
     "output_type": "stream",
     "text": [
      "R:5, label:4, fold:4 --> f1:0.8896\n"
     ]
    },
    {
     "name": "stderr",
     "output_type": "stream",
     "text": [
      "Epoch: 100%|██████████| 99/99 [00:25<00:00,  3.94it/s]\n"
     ]
    },
    {
     "name": "stdout",
     "output_type": "stream",
     "text": [
      "R:5, label:4, fold:5 --> f1:0.8936\n"
     ]
    },
    {
     "name": "stderr",
     "output_type": "stream",
     "text": [
      "Epoch: 100%|██████████| 99/99 [00:23<00:00,  4.17it/s]\n"
     ]
    },
    {
     "name": "stdout",
     "output_type": "stream",
     "text": [
      "R:5, label:4, fold:6 --> f1:0.8960000000000001\n"
     ]
    },
    {
     "name": "stderr",
     "output_type": "stream",
     "text": [
      "Epoch: 100%|██████████| 99/99 [00:25<00:00,  3.89it/s]\n"
     ]
    },
    {
     "name": "stdout",
     "output_type": "stream",
     "text": [
      "R:5, label:4, fold:7 --> f1:0.892\n"
     ]
    },
    {
     "name": "stderr",
     "output_type": "stream",
     "text": [
      "Epoch: 100%|██████████| 99/99 [00:27<00:00,  3.66it/s]\n"
     ]
    },
    {
     "name": "stdout",
     "output_type": "stream",
     "text": [
      "R:5, label:4, fold:8 --> f1:0.8872\n"
     ]
    },
    {
     "name": "stderr",
     "output_type": "stream",
     "text": [
      "Epoch: 100%|██████████| 99/99 [00:27<00:00,  3.54it/s]\n"
     ]
    },
    {
     "name": "stdout",
     "output_type": "stream",
     "text": [
      "R:5, label:4, fold:9 --> f1:0.8856\n"
     ]
    },
    {
     "name": "stderr",
     "output_type": "stream",
     "text": [
      "Epoch: 100%|██████████| 99/99 [00:27<00:00,  3.55it/s]\n"
     ]
    },
    {
     "name": "stdout",
     "output_type": "stream",
     "text": [
      "R:5, label:5, fold:0 --> f1:0.8632\n"
     ]
    },
    {
     "name": "stderr",
     "output_type": "stream",
     "text": [
      "Epoch: 100%|██████████| 99/99 [00:26<00:00,  3.74it/s]\n"
     ]
    },
    {
     "name": "stdout",
     "output_type": "stream",
     "text": [
      "R:5, label:5, fold:1 --> f1:0.8536\n"
     ]
    },
    {
     "name": "stderr",
     "output_type": "stream",
     "text": [
      "Epoch: 100%|██████████| 99/99 [00:26<00:00,  3.76it/s]\n"
     ]
    },
    {
     "name": "stdout",
     "output_type": "stream",
     "text": [
      "R:5, label:5, fold:2 --> f1:0.8584\n"
     ]
    },
    {
     "name": "stderr",
     "output_type": "stream",
     "text": [
      "Epoch: 100%|██████████| 99/99 [00:26<00:00,  3.78it/s]\n"
     ]
    },
    {
     "name": "stdout",
     "output_type": "stream",
     "text": [
      "R:5, label:5, fold:3 --> f1:0.8496\n"
     ]
    },
    {
     "name": "stderr",
     "output_type": "stream",
     "text": [
      "Epoch: 100%|██████████| 99/99 [00:27<00:00,  3.61it/s]\n"
     ]
    },
    {
     "name": "stdout",
     "output_type": "stream",
     "text": [
      "R:5, label:5, fold:4 --> f1:0.8584\n"
     ]
    },
    {
     "name": "stderr",
     "output_type": "stream",
     "text": [
      "Epoch: 100%|██████████| 99/99 [00:25<00:00,  3.91it/s]\n"
     ]
    },
    {
     "name": "stdout",
     "output_type": "stream",
     "text": [
      "R:5, label:5, fold:5 --> f1:0.8607999999999999\n"
     ]
    },
    {
     "name": "stderr",
     "output_type": "stream",
     "text": [
      "Epoch: 100%|██████████| 99/99 [00:23<00:00,  4.20it/s]\n"
     ]
    },
    {
     "name": "stdout",
     "output_type": "stream",
     "text": [
      "R:5, label:5, fold:6 --> f1:0.8711999999999999\n"
     ]
    },
    {
     "name": "stderr",
     "output_type": "stream",
     "text": [
      "Epoch: 100%|██████████| 99/99 [00:22<00:00,  4.31it/s]\n"
     ]
    },
    {
     "name": "stdout",
     "output_type": "stream",
     "text": [
      "R:5, label:5, fold:7 --> f1:0.8664\n"
     ]
    },
    {
     "name": "stderr",
     "output_type": "stream",
     "text": [
      "Epoch: 100%|██████████| 99/99 [00:26<00:00,  3.71it/s]\n"
     ]
    },
    {
     "name": "stdout",
     "output_type": "stream",
     "text": [
      "R:5, label:5, fold:8 --> f1:0.8599999999999999\n"
     ]
    },
    {
     "name": "stderr",
     "output_type": "stream",
     "text": [
      "Epoch: 100%|██████████| 99/99 [00:27<00:00,  3.55it/s]\n"
     ]
    },
    {
     "name": "stdout",
     "output_type": "stream",
     "text": [
      "R:5, label:5, fold:9 --> f1:0.8568\n"
     ]
    },
    {
     "name": "stderr",
     "output_type": "stream",
     "text": [
      "Epoch: 100%|██████████| 99/99 [00:24<00:00,  4.00it/s]\n"
     ]
    },
    {
     "name": "stdout",
     "output_type": "stream",
     "text": [
      "R:5, label:6, fold:0 --> f1:0.7984\n"
     ]
    },
    {
     "name": "stderr",
     "output_type": "stream",
     "text": [
      "Epoch: 100%|██████████| 99/99 [00:23<00:00,  4.27it/s]\n"
     ]
    },
    {
     "name": "stdout",
     "output_type": "stream",
     "text": [
      "R:5, label:6, fold:1 --> f1:0.8152\n"
     ]
    },
    {
     "name": "stderr",
     "output_type": "stream",
     "text": [
      "Epoch: 100%|██████████| 99/99 [00:23<00:00,  4.20it/s]\n"
     ]
    },
    {
     "name": "stdout",
     "output_type": "stream",
     "text": [
      "R:5, label:6, fold:2 --> f1:0.8056000000000001\n"
     ]
    },
    {
     "name": "stderr",
     "output_type": "stream",
     "text": [
      "Epoch: 100%|██████████| 99/99 [00:23<00:00,  4.13it/s]\n"
     ]
    },
    {
     "name": "stdout",
     "output_type": "stream",
     "text": [
      "R:5, label:6, fold:3 --> f1:0.8176\n"
     ]
    },
    {
     "name": "stderr",
     "output_type": "stream",
     "text": [
      "Epoch: 100%|██████████| 99/99 [00:24<00:00,  3.97it/s]\n"
     ]
    },
    {
     "name": "stdout",
     "output_type": "stream",
     "text": [
      "R:5, label:6, fold:4 --> f1:0.804\n"
     ]
    },
    {
     "name": "stderr",
     "output_type": "stream",
     "text": [
      "Epoch: 100%|██████████| 99/99 [00:24<00:00,  4.00it/s]\n"
     ]
    },
    {
     "name": "stdout",
     "output_type": "stream",
     "text": [
      "R:5, label:6, fold:5 --> f1:0.8119999999999999\n"
     ]
    },
    {
     "name": "stderr",
     "output_type": "stream",
     "text": [
      "Epoch: 100%|██████████| 99/99 [00:23<00:00,  4.26it/s]\n"
     ]
    },
    {
     "name": "stdout",
     "output_type": "stream",
     "text": [
      "R:5, label:6, fold:6 --> f1:0.8119999999999999\n"
     ]
    },
    {
     "name": "stderr",
     "output_type": "stream",
     "text": [
      "Epoch: 100%|██████████| 99/99 [00:22<00:00,  4.32it/s]\n"
     ]
    },
    {
     "name": "stdout",
     "output_type": "stream",
     "text": [
      "R:5, label:6, fold:7 --> f1:0.8215999999999999\n"
     ]
    },
    {
     "name": "stderr",
     "output_type": "stream",
     "text": [
      "Epoch: 100%|██████████| 99/99 [00:23<00:00,  4.18it/s]\n"
     ]
    },
    {
     "name": "stdout",
     "output_type": "stream",
     "text": [
      "R:5, label:6, fold:8 --> f1:0.8088\n"
     ]
    },
    {
     "name": "stderr",
     "output_type": "stream",
     "text": [
      "Epoch: 100%|██████████| 99/99 [00:24<00:00,  4.03it/s]\n"
     ]
    },
    {
     "name": "stdout",
     "output_type": "stream",
     "text": [
      "R:5, label:6, fold:9 --> f1:0.8184\n"
     ]
    },
    {
     "name": "stderr",
     "output_type": "stream",
     "text": [
      "Epoch: 100%|██████████| 99/99 [00:24<00:00,  4.11it/s]\n"
     ]
    },
    {
     "name": "stdout",
     "output_type": "stream",
     "text": [
      "R:5, label:7, fold:0 --> f1:0.9696\n"
     ]
    },
    {
     "name": "stderr",
     "output_type": "stream",
     "text": [
      "Epoch: 100%|██████████| 99/99 [00:23<00:00,  4.27it/s]\n"
     ]
    },
    {
     "name": "stdout",
     "output_type": "stream",
     "text": [
      "R:5, label:7, fold:1 --> f1:0.972\n"
     ]
    },
    {
     "name": "stderr",
     "output_type": "stream",
     "text": [
      "Epoch: 100%|██████████| 99/99 [00:22<00:00,  4.33it/s]\n"
     ]
    },
    {
     "name": "stdout",
     "output_type": "stream",
     "text": [
      "R:5, label:7, fold:2 --> f1:0.972\n"
     ]
    },
    {
     "name": "stderr",
     "output_type": "stream",
     "text": [
      "Epoch: 100%|██████████| 99/99 [00:24<00:00,  4.10it/s]\n"
     ]
    },
    {
     "name": "stdout",
     "output_type": "stream",
     "text": [
      "R:5, label:7, fold:3 --> f1:0.9728\n"
     ]
    },
    {
     "name": "stderr",
     "output_type": "stream",
     "text": [
      "Epoch: 100%|██████████| 99/99 [00:24<00:00,  4.03it/s]\n"
     ]
    },
    {
     "name": "stdout",
     "output_type": "stream",
     "text": [
      "R:5, label:7, fold:4 --> f1:0.9712\n"
     ]
    },
    {
     "name": "stderr",
     "output_type": "stream",
     "text": [
      "Epoch: 100%|██████████| 99/99 [00:24<00:00,  4.08it/s]\n"
     ]
    },
    {
     "name": "stdout",
     "output_type": "stream",
     "text": [
      "R:5, label:7, fold:5 --> f1:0.9752\n"
     ]
    },
    {
     "name": "stderr",
     "output_type": "stream",
     "text": [
      "Epoch: 100%|██████████| 99/99 [00:22<00:00,  4.34it/s]\n"
     ]
    },
    {
     "name": "stdout",
     "output_type": "stream",
     "text": [
      "R:5, label:7, fold:6 --> f1:0.9688\n"
     ]
    },
    {
     "name": "stderr",
     "output_type": "stream",
     "text": [
      "Epoch: 100%|██████████| 99/99 [00:21<00:00,  4.53it/s]\n"
     ]
    },
    {
     "name": "stdout",
     "output_type": "stream",
     "text": [
      "R:5, label:7, fold:7 --> f1:0.9736\n"
     ]
    },
    {
     "name": "stderr",
     "output_type": "stream",
     "text": [
      "Epoch: 100%|██████████| 99/99 [00:22<00:00,  4.44it/s]\n"
     ]
    },
    {
     "name": "stdout",
     "output_type": "stream",
     "text": [
      "R:5, label:7, fold:8 --> f1:0.9768\n"
     ]
    },
    {
     "name": "stderr",
     "output_type": "stream",
     "text": [
      "Epoch: 100%|██████████| 99/99 [00:23<00:00,  4.29it/s]\n"
     ]
    },
    {
     "name": "stdout",
     "output_type": "stream",
     "text": [
      "R:5, label:7, fold:9 --> f1:0.972\n"
     ]
    },
    {
     "name": "stderr",
     "output_type": "stream",
     "text": [
      "Epoch: 100%|██████████| 99/99 [00:23<00:00,  4.26it/s]\n"
     ]
    },
    {
     "name": "stdout",
     "output_type": "stream",
     "text": [
      "R:5, label:8, fold:0 --> f1:0.8568\n"
     ]
    },
    {
     "name": "stderr",
     "output_type": "stream",
     "text": [
      "Epoch: 100%|██████████| 99/99 [00:22<00:00,  4.49it/s]\n"
     ]
    },
    {
     "name": "stdout",
     "output_type": "stream",
     "text": [
      "R:5, label:8, fold:1 --> f1:0.8447999999999999\n"
     ]
    },
    {
     "name": "stderr",
     "output_type": "stream",
     "text": [
      "Epoch: 100%|██████████| 99/99 [00:21<00:00,  4.52it/s]\n"
     ]
    },
    {
     "name": "stdout",
     "output_type": "stream",
     "text": [
      "R:5, label:8, fold:2 --> f1:0.8599999999999999\n"
     ]
    },
    {
     "name": "stderr",
     "output_type": "stream",
     "text": [
      "Epoch: 100%|██████████| 99/99 [00:23<00:00,  4.30it/s]\n"
     ]
    },
    {
     "name": "stdout",
     "output_type": "stream",
     "text": [
      "R:5, label:8, fold:3 --> f1:0.856\n"
     ]
    },
    {
     "name": "stderr",
     "output_type": "stream",
     "text": [
      "Epoch: 100%|██████████| 99/99 [00:23<00:00,  4.25it/s]\n"
     ]
    },
    {
     "name": "stdout",
     "output_type": "stream",
     "text": [
      "R:5, label:8, fold:4 --> f1:0.8384\n"
     ]
    },
    {
     "name": "stderr",
     "output_type": "stream",
     "text": [
      "Epoch: 100%|██████████| 99/99 [00:23<00:00,  4.28it/s]\n"
     ]
    },
    {
     "name": "stdout",
     "output_type": "stream",
     "text": [
      "R:5, label:8, fold:5 --> f1:0.8552\n"
     ]
    },
    {
     "name": "stderr",
     "output_type": "stream",
     "text": [
      "Epoch: 100%|██████████| 99/99 [00:22<00:00,  4.47it/s]\n"
     ]
    },
    {
     "name": "stdout",
     "output_type": "stream",
     "text": [
      "R:5, label:8, fold:6 --> f1:0.8544\n"
     ]
    },
    {
     "name": "stderr",
     "output_type": "stream",
     "text": [
      "Epoch: 100%|██████████| 99/99 [00:21<00:00,  4.56it/s]\n"
     ]
    },
    {
     "name": "stdout",
     "output_type": "stream",
     "text": [
      "R:5, label:8, fold:7 --> f1:0.8472\n"
     ]
    },
    {
     "name": "stderr",
     "output_type": "stream",
     "text": [
      "Epoch: 100%|██████████| 99/99 [00:23<00:00,  4.18it/s]\n"
     ]
    },
    {
     "name": "stdout",
     "output_type": "stream",
     "text": [
      "R:5, label:8, fold:8 --> f1:0.856\n"
     ]
    },
    {
     "name": "stderr",
     "output_type": "stream",
     "text": [
      "Epoch: 100%|██████████| 99/99 [00:22<00:00,  4.31it/s]\n"
     ]
    },
    {
     "name": "stdout",
     "output_type": "stream",
     "text": [
      "R:5, label:8, fold:9 --> f1:0.864\n"
     ]
    },
    {
     "name": "stderr",
     "output_type": "stream",
     "text": [
      "Epoch: 100%|██████████| 99/99 [00:23<00:00,  4.21it/s]\n"
     ]
    },
    {
     "name": "stdout",
     "output_type": "stream",
     "text": [
      "R:5, label:9, fold:0 --> f1:0.8928\n"
     ]
    },
    {
     "name": "stderr",
     "output_type": "stream",
     "text": [
      "Epoch: 100%|██████████| 99/99 [00:21<00:00,  4.57it/s]\n"
     ]
    },
    {
     "name": "stdout",
     "output_type": "stream",
     "text": [
      "R:5, label:9, fold:1 --> f1:0.8776\n"
     ]
    },
    {
     "name": "stderr",
     "output_type": "stream",
     "text": [
      "Epoch: 100%|██████████| 99/99 [00:21<00:00,  4.54it/s]\n"
     ]
    },
    {
     "name": "stdout",
     "output_type": "stream",
     "text": [
      "R:5, label:9, fold:2 --> f1:0.8856\n"
     ]
    },
    {
     "name": "stderr",
     "output_type": "stream",
     "text": [
      "Epoch: 100%|██████████| 99/99 [00:23<00:00,  4.30it/s]\n"
     ]
    },
    {
     "name": "stdout",
     "output_type": "stream",
     "text": [
      "R:5, label:9, fold:3 --> f1:0.8792\n"
     ]
    },
    {
     "name": "stderr",
     "output_type": "stream",
     "text": [
      "Epoch: 100%|██████████| 99/99 [00:23<00:00,  4.29it/s]\n"
     ]
    },
    {
     "name": "stdout",
     "output_type": "stream",
     "text": [
      "R:5, label:9, fold:4 --> f1:0.8872\n"
     ]
    },
    {
     "name": "stderr",
     "output_type": "stream",
     "text": [
      "Epoch: 100%|██████████| 99/99 [00:23<00:00,  4.23it/s]\n"
     ]
    },
    {
     "name": "stdout",
     "output_type": "stream",
     "text": [
      "R:5, label:9, fold:5 --> f1:0.8944\n"
     ]
    },
    {
     "name": "stderr",
     "output_type": "stream",
     "text": [
      "Epoch: 100%|██████████| 99/99 [00:21<00:00,  4.54it/s]\n"
     ]
    },
    {
     "name": "stdout",
     "output_type": "stream",
     "text": [
      "R:5, label:9, fold:6 --> f1:0.8768\n"
     ]
    },
    {
     "name": "stderr",
     "output_type": "stream",
     "text": [
      "Epoch: 100%|██████████| 99/99 [00:21<00:00,  4.53it/s]\n"
     ]
    },
    {
     "name": "stdout",
     "output_type": "stream",
     "text": [
      "R:5, label:9, fold:7 --> f1:0.8824\n"
     ]
    },
    {
     "name": "stderr",
     "output_type": "stream",
     "text": [
      "Epoch: 100%|██████████| 99/99 [00:23<00:00,  4.26it/s]\n"
     ]
    },
    {
     "name": "stdout",
     "output_type": "stream",
     "text": [
      "R:5, label:9, fold:8 --> f1:0.8904\n"
     ]
    },
    {
     "name": "stderr",
     "output_type": "stream",
     "text": [
      "Epoch: 100%|██████████| 99/99 [00:23<00:00,  4.28it/s]\n"
     ]
    },
    {
     "name": "stdout",
     "output_type": "stream",
     "text": [
      "R:5, label:9, fold:9 --> f1:0.8864\n"
     ]
    },
    {
     "name": "stderr",
     "output_type": "stream",
     "text": [
      "Epoch: 100%|██████████| 99/99 [00:23<00:00,  4.30it/s]\n"
     ]
    },
    {
     "name": "stdout",
     "output_type": "stream",
     "text": [
      "R:5, label:10, fold:0 --> f1:0.8248\n"
     ]
    },
    {
     "name": "stderr",
     "output_type": "stream",
     "text": [
      "Epoch: 100%|██████████| 99/99 [00:21<00:00,  4.54it/s]\n"
     ]
    },
    {
     "name": "stdout",
     "output_type": "stream",
     "text": [
      "R:5, label:10, fold:1 --> f1:0.8312\n"
     ]
    },
    {
     "name": "stderr",
     "output_type": "stream",
     "text": [
      "Epoch: 100%|██████████| 99/99 [00:22<00:00,  4.49it/s]\n"
     ]
    },
    {
     "name": "stdout",
     "output_type": "stream",
     "text": [
      "R:5, label:10, fold:2 --> f1:0.8304000000000001\n"
     ]
    },
    {
     "name": "stderr",
     "output_type": "stream",
     "text": [
      "Epoch: 100%|██████████| 99/99 [00:22<00:00,  4.39it/s]\n"
     ]
    },
    {
     "name": "stdout",
     "output_type": "stream",
     "text": [
      "R:5, label:10, fold:3 --> f1:0.8392\n"
     ]
    },
    {
     "name": "stderr",
     "output_type": "stream",
     "text": [
      "Epoch: 100%|██████████| 99/99 [00:23<00:00,  4.26it/s]\n"
     ]
    },
    {
     "name": "stdout",
     "output_type": "stream",
     "text": [
      "R:5, label:10, fold:4 --> f1:0.836\n"
     ]
    },
    {
     "name": "stderr",
     "output_type": "stream",
     "text": [
      "Epoch: 100%|██████████| 99/99 [00:23<00:00,  4.29it/s]\n"
     ]
    },
    {
     "name": "stdout",
     "output_type": "stream",
     "text": [
      "R:5, label:10, fold:5 --> f1:0.8248\n"
     ]
    },
    {
     "name": "stderr",
     "output_type": "stream",
     "text": [
      "Epoch: 100%|██████████| 99/99 [00:22<00:00,  4.50it/s]\n"
     ]
    },
    {
     "name": "stdout",
     "output_type": "stream",
     "text": [
      "R:5, label:10, fold:6 --> f1:0.8424000000000001\n"
     ]
    },
    {
     "name": "stderr",
     "output_type": "stream",
     "text": [
      "Epoch: 100%|██████████| 99/99 [00:22<00:00,  4.49it/s]\n"
     ]
    },
    {
     "name": "stdout",
     "output_type": "stream",
     "text": [
      "R:5, label:10, fold:7 --> f1:0.8408\n"
     ]
    },
    {
     "name": "stderr",
     "output_type": "stream",
     "text": [
      "Epoch: 100%|██████████| 99/99 [00:23<00:00,  4.27it/s]\n"
     ]
    },
    {
     "name": "stdout",
     "output_type": "stream",
     "text": [
      "R:5, label:10, fold:8 --> f1:0.8384\n"
     ]
    },
    {
     "name": "stderr",
     "output_type": "stream",
     "text": [
      "Epoch: 100%|██████████| 99/99 [00:23<00:00,  4.25it/s]\n"
     ]
    },
    {
     "name": "stdout",
     "output_type": "stream",
     "text": [
      "R:5, label:10, fold:9 --> f1:0.8384\n"
     ]
    },
    {
     "name": "stderr",
     "output_type": "stream",
     "text": [
      "Epoch: 100%|██████████| 99/99 [00:23<00:00,  4.30it/s]\n"
     ]
    },
    {
     "name": "stdout",
     "output_type": "stream",
     "text": [
      "R:5, label:11, fold:0 --> f1:0.9768\n"
     ]
    },
    {
     "name": "stderr",
     "output_type": "stream",
     "text": [
      "Epoch: 100%|██████████| 99/99 [00:21<00:00,  4.54it/s]\n"
     ]
    },
    {
     "name": "stdout",
     "output_type": "stream",
     "text": [
      "R:5, label:11, fold:1 --> f1:0.9784\n"
     ]
    },
    {
     "name": "stderr",
     "output_type": "stream",
     "text": [
      "Epoch: 100%|██████████| 99/99 [00:21<00:00,  4.63it/s]\n"
     ]
    },
    {
     "name": "stdout",
     "output_type": "stream",
     "text": [
      "R:5, label:11, fold:2 --> f1:0.9792\n"
     ]
    },
    {
     "name": "stderr",
     "output_type": "stream",
     "text": [
      "Epoch: 100%|██████████| 99/99 [00:22<00:00,  4.38it/s]\n"
     ]
    },
    {
     "name": "stdout",
     "output_type": "stream",
     "text": [
      "R:5, label:11, fold:3 --> f1:0.9736\n"
     ]
    },
    {
     "name": "stderr",
     "output_type": "stream",
     "text": [
      "Epoch: 100%|██████████| 99/99 [00:22<00:00,  4.35it/s]\n"
     ]
    },
    {
     "name": "stdout",
     "output_type": "stream",
     "text": [
      "R:5, label:11, fold:4 --> f1:0.9792\n"
     ]
    },
    {
     "name": "stderr",
     "output_type": "stream",
     "text": [
      "Epoch: 100%|██████████| 99/99 [00:22<00:00,  4.38it/s]\n"
     ]
    },
    {
     "name": "stdout",
     "output_type": "stream",
     "text": [
      "R:5, label:11, fold:5 --> f1:0.9752\n"
     ]
    },
    {
     "name": "stderr",
     "output_type": "stream",
     "text": [
      "Epoch: 100%|██████████| 99/99 [00:21<00:00,  4.63it/s]\n"
     ]
    },
    {
     "name": "stdout",
     "output_type": "stream",
     "text": [
      "R:5, label:11, fold:6 --> f1:0.9768\n"
     ]
    },
    {
     "name": "stderr",
     "output_type": "stream",
     "text": [
      "Epoch: 100%|██████████| 99/99 [00:21<00:00,  4.61it/s]\n"
     ]
    },
    {
     "name": "stdout",
     "output_type": "stream",
     "text": [
      "R:5, label:11, fold:7 --> f1:0.9808\n"
     ]
    },
    {
     "name": "stderr",
     "output_type": "stream",
     "text": [
      "Epoch: 100%|██████████| 99/99 [00:22<00:00,  4.41it/s]\n"
     ]
    },
    {
     "name": "stdout",
     "output_type": "stream",
     "text": [
      "R:5, label:11, fold:8 --> f1:0.98\n"
     ]
    },
    {
     "name": "stderr",
     "output_type": "stream",
     "text": [
      "Epoch: 100%|██████████| 99/99 [00:22<00:00,  4.45it/s]\n"
     ]
    },
    {
     "name": "stdout",
     "output_type": "stream",
     "text": [
      "R:5, label:11, fold:9 --> f1:0.9792\n"
     ]
    },
    {
     "name": "stderr",
     "output_type": "stream",
     "text": [
      "Epoch: 100%|██████████| 99/99 [00:22<00:00,  4.35it/s]\n"
     ]
    },
    {
     "name": "stdout",
     "output_type": "stream",
     "text": [
      "R:5, label:12, fold:0 --> f1:0.9736\n"
     ]
    },
    {
     "name": "stderr",
     "output_type": "stream",
     "text": [
      "Epoch: 100%|██████████| 99/99 [00:21<00:00,  4.64it/s]\n"
     ]
    },
    {
     "name": "stdout",
     "output_type": "stream",
     "text": [
      "R:5, label:12, fold:1 --> f1:0.9808\n"
     ]
    },
    {
     "name": "stderr",
     "output_type": "stream",
     "text": [
      "Epoch: 100%|██████████| 99/99 [00:21<00:00,  4.55it/s]\n"
     ]
    },
    {
     "name": "stdout",
     "output_type": "stream",
     "text": [
      "R:5, label:12, fold:2 --> f1:0.9792\n"
     ]
    },
    {
     "name": "stderr",
     "output_type": "stream",
     "text": [
      "Epoch: 100%|██████████| 99/99 [00:22<00:00,  4.34it/s]\n"
     ]
    },
    {
     "name": "stdout",
     "output_type": "stream",
     "text": [
      "R:5, label:12, fold:3 --> f1:0.9768\n"
     ]
    },
    {
     "name": "stderr",
     "output_type": "stream",
     "text": [
      "Epoch: 100%|██████████| 99/99 [00:23<00:00,  4.28it/s]\n"
     ]
    },
    {
     "name": "stdout",
     "output_type": "stream",
     "text": [
      "R:5, label:12, fold:4 --> f1:0.98\n"
     ]
    },
    {
     "name": "stderr",
     "output_type": "stream",
     "text": [
      "Epoch: 100%|██████████| 99/99 [00:23<00:00,  4.29it/s]\n"
     ]
    },
    {
     "name": "stdout",
     "output_type": "stream",
     "text": [
      "R:5, label:12, fold:5 --> f1:0.9752\n"
     ]
    },
    {
     "name": "stderr",
     "output_type": "stream",
     "text": [
      "Epoch: 100%|██████████| 99/99 [00:21<00:00,  4.56it/s]\n"
     ]
    },
    {
     "name": "stdout",
     "output_type": "stream",
     "text": [
      "R:5, label:12, fold:6 --> f1:0.9776\n"
     ]
    },
    {
     "name": "stderr",
     "output_type": "stream",
     "text": [
      "Epoch: 100%|██████████| 99/99 [00:21<00:00,  4.55it/s]\n"
     ]
    },
    {
     "name": "stdout",
     "output_type": "stream",
     "text": [
      "R:5, label:12, fold:7 --> f1:0.9808\n"
     ]
    },
    {
     "name": "stderr",
     "output_type": "stream",
     "text": [
      "Epoch: 100%|██████████| 99/99 [00:23<00:00,  4.27it/s]\n"
     ]
    },
    {
     "name": "stdout",
     "output_type": "stream",
     "text": [
      "R:5, label:12, fold:8 --> f1:0.98\n"
     ]
    },
    {
     "name": "stderr",
     "output_type": "stream",
     "text": [
      "Epoch: 100%|██████████| 99/99 [00:23<00:00,  4.29it/s]\n"
     ]
    },
    {
     "name": "stdout",
     "output_type": "stream",
     "text": [
      "R:5, label:12, fold:9 --> f1:0.9768\n"
     ]
    },
    {
     "name": "stderr",
     "output_type": "stream",
     "text": [
      "Epoch: 100%|██████████| 99/99 [00:23<00:00,  4.23it/s]\n"
     ]
    },
    {
     "name": "stdout",
     "output_type": "stream",
     "text": [
      "R:5, label:13, fold:0 --> f1:0.752\n"
     ]
    },
    {
     "name": "stderr",
     "output_type": "stream",
     "text": [
      "Epoch: 100%|██████████| 99/99 [00:21<00:00,  4.52it/s]\n"
     ]
    },
    {
     "name": "stdout",
     "output_type": "stream",
     "text": [
      "R:5, label:13, fold:1 --> f1:0.7568\n"
     ]
    },
    {
     "name": "stderr",
     "output_type": "stream",
     "text": [
      "Epoch: 100%|██████████| 99/99 [00:21<00:00,  4.55it/s]\n"
     ]
    },
    {
     "name": "stdout",
     "output_type": "stream",
     "text": [
      "R:5, label:13, fold:2 --> f1:0.7512\n"
     ]
    },
    {
     "name": "stderr",
     "output_type": "stream",
     "text": [
      "Epoch: 100%|██████████| 99/99 [00:23<00:00,  4.29it/s]\n"
     ]
    },
    {
     "name": "stdout",
     "output_type": "stream",
     "text": [
      "R:5, label:13, fold:3 --> f1:0.7552\n"
     ]
    },
    {
     "name": "stderr",
     "output_type": "stream",
     "text": [
      "Epoch: 100%|██████████| 99/99 [00:23<00:00,  4.29it/s]\n"
     ]
    },
    {
     "name": "stdout",
     "output_type": "stream",
     "text": [
      "R:5, label:13, fold:4 --> f1:0.7704\n"
     ]
    },
    {
     "name": "stderr",
     "output_type": "stream",
     "text": [
      "Epoch: 100%|██████████| 99/99 [00:22<00:00,  4.35it/s]\n"
     ]
    },
    {
     "name": "stdout",
     "output_type": "stream",
     "text": [
      "R:5, label:13, fold:5 --> f1:0.7632000000000001\n"
     ]
    },
    {
     "name": "stderr",
     "output_type": "stream",
     "text": [
      "Epoch: 100%|██████████| 99/99 [00:21<00:00,  4.51it/s]\n"
     ]
    },
    {
     "name": "stdout",
     "output_type": "stream",
     "text": [
      "R:5, label:13, fold:6 --> f1:0.7496\n"
     ]
    },
    {
     "name": "stderr",
     "output_type": "stream",
     "text": [
      "Epoch: 100%|██████████| 99/99 [00:21<00:00,  4.56it/s]\n"
     ]
    },
    {
     "name": "stdout",
     "output_type": "stream",
     "text": [
      "R:5, label:13, fold:7 --> f1:0.7528\n"
     ]
    },
    {
     "name": "stderr",
     "output_type": "stream",
     "text": [
      "Epoch: 100%|██████████| 99/99 [00:22<00:00,  4.37it/s]\n"
     ]
    },
    {
     "name": "stdout",
     "output_type": "stream",
     "text": [
      "R:5, label:13, fold:8 --> f1:0.7607999999999999\n"
     ]
    },
    {
     "name": "stderr",
     "output_type": "stream",
     "text": [
      "Epoch: 100%|██████████| 99/99 [00:22<00:00,  4.36it/s]\n"
     ]
    },
    {
     "name": "stdout",
     "output_type": "stream",
     "text": [
      "R:5, label:13, fold:9 --> f1:0.7552\n"
     ]
    },
    {
     "name": "stderr",
     "output_type": "stream",
     "text": [
      "Epoch: 100%|██████████| 99/99 [00:22<00:00,  4.39it/s]\n"
     ]
    },
    {
     "name": "stdout",
     "output_type": "stream",
     "text": [
      "R:5, label:14, fold:0 --> f1:0.9976\n"
     ]
    },
    {
     "name": "stderr",
     "output_type": "stream",
     "text": [
      "Epoch: 100%|██████████| 99/99 [00:20<00:00,  4.79it/s]\n"
     ]
    },
    {
     "name": "stdout",
     "output_type": "stream",
     "text": [
      "R:5, label:14, fold:1 --> f1:0.9976\n"
     ]
    },
    {
     "name": "stderr",
     "output_type": "stream",
     "text": [
      "Epoch: 100%|██████████| 99/99 [00:21<00:00,  4.56it/s]\n"
     ]
    },
    {
     "name": "stdout",
     "output_type": "stream",
     "text": [
      "R:5, label:14, fold:2 --> f1:0.9976\n"
     ]
    },
    {
     "name": "stderr",
     "output_type": "stream",
     "text": [
      "Epoch: 100%|██████████| 99/99 [00:22<00:00,  4.44it/s]\n"
     ]
    },
    {
     "name": "stdout",
     "output_type": "stream",
     "text": [
      "R:5, label:14, fold:3 --> f1:0.9976\n"
     ]
    },
    {
     "name": "stderr",
     "output_type": "stream",
     "text": [
      "Epoch: 100%|██████████| 99/99 [00:22<00:00,  4.37it/s]\n"
     ]
    },
    {
     "name": "stdout",
     "output_type": "stream",
     "text": [
      "R:5, label:14, fold:4 --> f1:0.9976\n"
     ]
    },
    {
     "name": "stderr",
     "output_type": "stream",
     "text": [
      "Epoch: 100%|██████████| 99/99 [00:22<00:00,  4.36it/s]\n"
     ]
    },
    {
     "name": "stdout",
     "output_type": "stream",
     "text": [
      "R:5, label:14, fold:5 --> f1:0.9976\n"
     ]
    },
    {
     "name": "stderr",
     "output_type": "stream",
     "text": [
      "Epoch: 100%|██████████| 99/99 [00:21<00:00,  4.60it/s]\n"
     ]
    },
    {
     "name": "stdout",
     "output_type": "stream",
     "text": [
      "R:5, label:14, fold:6 --> f1:0.9976\n"
     ]
    },
    {
     "name": "stderr",
     "output_type": "stream",
     "text": [
      "Epoch: 100%|██████████| 99/99 [00:21<00:00,  4.66it/s]\n"
     ]
    },
    {
     "name": "stdout",
     "output_type": "stream",
     "text": [
      "R:5, label:14, fold:7 --> f1:0.9976\n"
     ]
    },
    {
     "name": "stderr",
     "output_type": "stream",
     "text": [
      "Epoch: 100%|██████████| 99/99 [00:22<00:00,  4.34it/s]\n"
     ]
    },
    {
     "name": "stdout",
     "output_type": "stream",
     "text": [
      "R:5, label:14, fold:8 --> f1:0.9976\n"
     ]
    },
    {
     "name": "stderr",
     "output_type": "stream",
     "text": [
      "Epoch: 100%|██████████| 99/99 [00:22<00:00,  4.36it/s]\n"
     ]
    },
    {
     "name": "stdout",
     "output_type": "stream",
     "text": [
      "R:5, label:14, fold:9 --> f1:0.9976\n"
     ]
    },
    {
     "name": "stderr",
     "output_type": "stream",
     "text": [
      "Epoch: 100%|██████████| 99/99 [00:23<00:00,  4.30it/s]\n"
     ]
    },
    {
     "name": "stdout",
     "output_type": "stream",
     "text": [
      "R:5, label:15, fold:0 --> f1:0.9512\n"
     ]
    },
    {
     "name": "stderr",
     "output_type": "stream",
     "text": [
      "Epoch: 100%|██████████| 99/99 [00:21<00:00,  4.52it/s]\n"
     ]
    },
    {
     "name": "stdout",
     "output_type": "stream",
     "text": [
      "R:5, label:15, fold:1 --> f1:0.9504\n"
     ]
    },
    {
     "name": "stderr",
     "output_type": "stream",
     "text": [
      "Epoch: 100%|██████████| 99/99 [00:21<00:00,  4.55it/s]\n"
     ]
    },
    {
     "name": "stdout",
     "output_type": "stream",
     "text": [
      "R:5, label:15, fold:2 --> f1:0.9592\n"
     ]
    },
    {
     "name": "stderr",
     "output_type": "stream",
     "text": [
      "Epoch: 100%|██████████| 99/99 [00:23<00:00,  4.28it/s]\n"
     ]
    },
    {
     "name": "stdout",
     "output_type": "stream",
     "text": [
      "R:5, label:15, fold:3 --> f1:0.9584\n"
     ]
    },
    {
     "name": "stderr",
     "output_type": "stream",
     "text": [
      "Epoch: 100%|██████████| 99/99 [00:22<00:00,  4.31it/s]\n"
     ]
    },
    {
     "name": "stdout",
     "output_type": "stream",
     "text": [
      "R:5, label:15, fold:4 --> f1:0.9592\n"
     ]
    },
    {
     "name": "stderr",
     "output_type": "stream",
     "text": [
      "Epoch: 100%|██████████| 99/99 [00:23<00:00,  4.30it/s]\n"
     ]
    },
    {
     "name": "stdout",
     "output_type": "stream",
     "text": [
      "R:5, label:15, fold:5 --> f1:0.9568\n"
     ]
    },
    {
     "name": "stderr",
     "output_type": "stream",
     "text": [
      "Epoch: 100%|██████████| 99/99 [00:21<00:00,  4.57it/s]\n"
     ]
    },
    {
     "name": "stdout",
     "output_type": "stream",
     "text": [
      "R:5, label:15, fold:6 --> f1:0.9544\n"
     ]
    },
    {
     "name": "stderr",
     "output_type": "stream",
     "text": [
      "Epoch: 100%|██████████| 99/99 [00:21<00:00,  4.54it/s]\n"
     ]
    },
    {
     "name": "stdout",
     "output_type": "stream",
     "text": [
      "R:5, label:15, fold:7 --> f1:0.9568\n"
     ]
    },
    {
     "name": "stderr",
     "output_type": "stream",
     "text": [
      "Epoch: 100%|██████████| 99/99 [00:23<00:00,  4.27it/s]\n"
     ]
    },
    {
     "name": "stdout",
     "output_type": "stream",
     "text": [
      "R:5, label:15, fold:8 --> f1:0.956\n"
     ]
    },
    {
     "name": "stderr",
     "output_type": "stream",
     "text": [
      "Epoch: 100%|██████████| 99/99 [00:23<00:00,  4.28it/s]\n"
     ]
    },
    {
     "name": "stdout",
     "output_type": "stream",
     "text": [
      "R:5, label:15, fold:9 --> f1:0.9536\n"
     ]
    },
    {
     "name": "stderr",
     "output_type": "stream",
     "text": [
      "Epoch: 100%|██████████| 99/99 [00:23<00:00,  4.26it/s]\n"
     ]
    },
    {
     "name": "stdout",
     "output_type": "stream",
     "text": [
      "R:5, label:16, fold:0 --> f1:0.9968\n"
     ]
    },
    {
     "name": "stderr",
     "output_type": "stream",
     "text": [
      "Epoch: 100%|██████████| 99/99 [00:21<00:00,  4.55it/s]\n"
     ]
    },
    {
     "name": "stdout",
     "output_type": "stream",
     "text": [
      "R:5, label:16, fold:1 --> f1:0.9968\n"
     ]
    },
    {
     "name": "stderr",
     "output_type": "stream",
     "text": [
      "Epoch: 100%|██████████| 99/99 [00:21<00:00,  4.59it/s]\n"
     ]
    },
    {
     "name": "stdout",
     "output_type": "stream",
     "text": [
      "R:5, label:16, fold:2 --> f1:0.9968\n"
     ]
    },
    {
     "name": "stderr",
     "output_type": "stream",
     "text": [
      "Epoch: 100%|██████████| 99/99 [00:22<00:00,  4.32it/s]\n"
     ]
    },
    {
     "name": "stdout",
     "output_type": "stream",
     "text": [
      "R:5, label:16, fold:3 --> f1:0.9968\n"
     ]
    },
    {
     "name": "stderr",
     "output_type": "stream",
     "text": [
      "Epoch: 100%|██████████| 99/99 [00:22<00:00,  4.41it/s]\n"
     ]
    },
    {
     "name": "stdout",
     "output_type": "stream",
     "text": [
      "R:5, label:16, fold:4 --> f1:0.9968\n"
     ]
    },
    {
     "name": "stderr",
     "output_type": "stream",
     "text": [
      "Epoch: 100%|██████████| 99/99 [00:22<00:00,  4.37it/s]\n"
     ]
    },
    {
     "name": "stdout",
     "output_type": "stream",
     "text": [
      "R:5, label:16, fold:5 --> f1:0.9968\n"
     ]
    },
    {
     "name": "stderr",
     "output_type": "stream",
     "text": [
      "Epoch: 100%|██████████| 99/99 [00:21<00:00,  4.62it/s]\n"
     ]
    },
    {
     "name": "stdout",
     "output_type": "stream",
     "text": [
      "R:5, label:16, fold:6 --> f1:0.9968\n"
     ]
    },
    {
     "name": "stderr",
     "output_type": "stream",
     "text": [
      "Epoch: 100%|██████████| 99/99 [00:21<00:00,  4.54it/s]\n"
     ]
    },
    {
     "name": "stdout",
     "output_type": "stream",
     "text": [
      "R:5, label:16, fold:7 --> f1:0.9968\n"
     ]
    },
    {
     "name": "stderr",
     "output_type": "stream",
     "text": [
      "Epoch: 100%|██████████| 99/99 [00:22<00:00,  4.39it/s]\n"
     ]
    },
    {
     "name": "stdout",
     "output_type": "stream",
     "text": [
      "R:5, label:16, fold:8 --> f1:0.9968\n"
     ]
    },
    {
     "name": "stderr",
     "output_type": "stream",
     "text": [
      "Epoch: 100%|██████████| 99/99 [00:19<00:00,  5.00it/s]\n"
     ]
    },
    {
     "name": "stdout",
     "output_type": "stream",
     "text": [
      "R:5, label:16, fold:9 --> f1:0.9968\n"
     ]
    },
    {
     "name": "stderr",
     "output_type": "stream",
     "text": [
      "Epoch: 100%|██████████| 99/99 [00:14<00:00,  6.68it/s]\n"
     ]
    },
    {
     "name": "stdout",
     "output_type": "stream",
     "text": [
      "R:5, label:17, fold:0 --> f1:0.9344\n"
     ]
    },
    {
     "name": "stderr",
     "output_type": "stream",
     "text": [
      "Epoch: 100%|██████████| 99/99 [00:14<00:00,  6.68it/s]\n"
     ]
    },
    {
     "name": "stdout",
     "output_type": "stream",
     "text": [
      "R:5, label:17, fold:1 --> f1:0.6816\n"
     ]
    },
    {
     "name": "stderr",
     "output_type": "stream",
     "text": [
      "Epoch: 100%|██████████| 99/99 [00:14<00:00,  6.63it/s]\n"
     ]
    },
    {
     "name": "stdout",
     "output_type": "stream",
     "text": [
      "R:5, label:17, fold:2 --> f1:0.9352\n"
     ]
    },
    {
     "name": "stderr",
     "output_type": "stream",
     "text": [
      "Epoch: 100%|██████████| 99/99 [00:14<00:00,  6.71it/s]\n"
     ]
    },
    {
     "name": "stdout",
     "output_type": "stream",
     "text": [
      "R:5, label:17, fold:3 --> f1:0.94\n"
     ]
    },
    {
     "name": "stderr",
     "output_type": "stream",
     "text": [
      "Epoch: 100%|██████████| 99/99 [00:14<00:00,  6.71it/s]\n"
     ]
    },
    {
     "name": "stdout",
     "output_type": "stream",
     "text": [
      "R:5, label:17, fold:4 --> f1:0.9328\n"
     ]
    },
    {
     "name": "stderr",
     "output_type": "stream",
     "text": [
      "Epoch: 100%|██████████| 99/99 [00:14<00:00,  6.71it/s]\n"
     ]
    },
    {
     "name": "stdout",
     "output_type": "stream",
     "text": [
      "R:5, label:17, fold:5 --> f1:0.9344\n"
     ]
    },
    {
     "name": "stderr",
     "output_type": "stream",
     "text": [
      "Epoch: 100%|██████████| 99/99 [00:14<00:00,  6.76it/s]\n"
     ]
    },
    {
     "name": "stdout",
     "output_type": "stream",
     "text": [
      "R:5, label:17, fold:6 --> f1:0.9336\n"
     ]
    },
    {
     "name": "stderr",
     "output_type": "stream",
     "text": [
      "Epoch: 100%|██████████| 99/99 [00:14<00:00,  6.70it/s]\n"
     ]
    },
    {
     "name": "stdout",
     "output_type": "stream",
     "text": [
      "R:5, label:17, fold:7 --> f1:0.9368\n"
     ]
    },
    {
     "name": "stderr",
     "output_type": "stream",
     "text": [
      "Epoch: 100%|██████████| 99/99 [00:14<00:00,  6.72it/s]\n"
     ]
    },
    {
     "name": "stdout",
     "output_type": "stream",
     "text": [
      "R:5, label:17, fold:8 --> f1:0.932\n"
     ]
    },
    {
     "name": "stderr",
     "output_type": "stream",
     "text": [
      "Epoch: 100%|██████████| 99/99 [00:14<00:00,  6.68it/s]\n"
     ]
    },
    {
     "name": "stdout",
     "output_type": "stream",
     "text": [
      "R:5, label:17, fold:9 --> f1:0.9408000000000001\n"
     ]
    },
    {
     "ename": "RuntimeError",
     "evalue": "[enforce fail at inline_container.cc:337] . unexpected pos 3200 vs 3065",
     "output_type": "error",
     "traceback": [
      "\u001b[0;31m---------------------------------------------------------------------------\u001b[0m",
      "\u001b[0;31mRuntimeError\u001b[0m                              Traceback (most recent call last)",
      "File \u001b[0;32m~/miniconda3/lib/python3.10/site-packages/torch/serialization.py:441\u001b[0m, in \u001b[0;36msave\u001b[0;34m(obj, f, pickle_module, pickle_protocol, _use_new_zipfile_serialization)\u001b[0m\n\u001b[1;32m    440\u001b[0m \u001b[39mwith\u001b[39;00m _open_zipfile_writer(f) \u001b[39mas\u001b[39;00m opened_zipfile:\n\u001b[0;32m--> 441\u001b[0m     _save(obj, opened_zipfile, pickle_module, pickle_protocol)\n\u001b[1;32m    442\u001b[0m     \u001b[39mreturn\u001b[39;00m\n",
      "File \u001b[0;32m~/miniconda3/lib/python3.10/site-packages/torch/serialization.py:668\u001b[0m, in \u001b[0;36m_save\u001b[0;34m(obj, zip_file, pickle_module, pickle_protocol)\u001b[0m\n\u001b[1;32m    667\u001b[0m num_bytes \u001b[39m=\u001b[39m storage\u001b[39m.\u001b[39mnbytes()\n\u001b[0;32m--> 668\u001b[0m zip_file\u001b[39m.\u001b[39;49mwrite_record(name, storage\u001b[39m.\u001b[39;49mdata_ptr(), num_bytes)\n",
      "\u001b[0;31mRuntimeError\u001b[0m: [enforce fail at inline_container.cc:471] . PytorchStreamWriter failed writing file data/0: file write failed",
      "\nDuring handling of the above exception, another exception occurred:\n",
      "\u001b[0;31mRuntimeError\u001b[0m                              Traceback (most recent call last)",
      "\u001b[1;32m/home/mutakabbir/Projects/SYSC 5405/SYSC5405-pattern-analysis-and-experiment-design/notebooks/3_1_1_multi_head_normalised.ipynb Cell 6\u001b[0m line \u001b[0;36m5\n\u001b[1;32m     <a href='vscode-notebook-cell:/home/mutakabbir/Projects/SYSC%205405/SYSC5405-pattern-analysis-and-experiment-design/notebooks/3_1_1_multi_head_normalised.ipynb#W5sZmlsZQ%3D%3D?line=55'>56</a>\u001b[0m \u001b[39mprint\u001b[39m(\u001b[39mf\u001b[39m\u001b[39m\"\u001b[39m\u001b[39mR:\u001b[39m\u001b[39m{\u001b[39;00mr\u001b[39m}\u001b[39;00m\u001b[39m, label:\u001b[39m\u001b[39m{\u001b[39;00mlabel_index\u001b[39m}\u001b[39;00m\u001b[39m, fold:\u001b[39m\u001b[39m{\u001b[39;00mfold_index\u001b[39m}\u001b[39;00m\u001b[39m --> f1:\u001b[39m\u001b[39m{\u001b[39;00mf1_score_validation\u001b[39m}\u001b[39;00m\u001b[39m\"\u001b[39m)\n\u001b[1;32m     <a href='vscode-notebook-cell:/home/mutakabbir/Projects/SYSC%205405/SYSC5405-pattern-analysis-and-experiment-design/notebooks/3_1_1_multi_head_normalised.ipynb#W5sZmlsZQ%3D%3D?line=57'>58</a>\u001b[0m \u001b[39m# models[(r,label_index,fold_index)] = model\u001b[39;00m\n\u001b[0;32m---> <a href='vscode-notebook-cell:/home/mutakabbir/Projects/SYSC%205405/SYSC5405-pattern-analysis-and-experiment-design/notebooks/3_1_1_multi_head_normalised.ipynb#W5sZmlsZQ%3D%3D?line=58'>59</a>\u001b[0m torch\u001b[39m.\u001b[39;49msave(model\u001b[39m.\u001b[39;49mstate_dict(), \u001b[39mf\u001b[39;49m\u001b[39m'\u001b[39;49m\u001b[39m../models/\u001b[39;49m\u001b[39m{\u001b[39;49;00mcurr_time\u001b[39m}\u001b[39;49;00m\u001b[39m/SingleHeadModel_norm_\u001b[39;49m\u001b[39m{\u001b[39;49;00mhidden_layers\u001b[39m}\u001b[39;49;00m\u001b[39mhidden_r\u001b[39;49m\u001b[39m{\u001b[39;49;00mr\u001b[39m}\u001b[39;49;00m\u001b[39m_label\u001b[39;49m\u001b[39m{\u001b[39;49;00mlabel_index\u001b[39m}\u001b[39;49;00m\u001b[39m_fold\u001b[39;49m\u001b[39m{\u001b[39;49;00mfold_index\u001b[39m}\u001b[39;49;00m\u001b[39m.pth\u001b[39;49m\u001b[39m'\u001b[39;49m)\n\u001b[1;32m     <a href='vscode-notebook-cell:/home/mutakabbir/Projects/SYSC%205405/SYSC5405-pattern-analysis-and-experiment-design/notebooks/3_1_1_multi_head_normalised.ipynb#W5sZmlsZQ%3D%3D?line=59'>60</a>\u001b[0m model\u001b[39m.\u001b[39mto(\u001b[39m'\u001b[39m\u001b[39mcpu\u001b[39m\u001b[39m'\u001b[39m)\n\u001b[1;32m     <a href='vscode-notebook-cell:/home/mutakabbir/Projects/SYSC%205405/SYSC5405-pattern-analysis-and-experiment-design/notebooks/3_1_1_multi_head_normalised.ipynb#W5sZmlsZQ%3D%3D?line=60'>61</a>\u001b[0m x_train\u001b[39m.\u001b[39mto(\u001b[39m'\u001b[39m\u001b[39mcpu\u001b[39m\u001b[39m'\u001b[39m)\n",
      "File \u001b[0;32m~/miniconda3/lib/python3.10/site-packages/torch/serialization.py:440\u001b[0m, in \u001b[0;36msave\u001b[0;34m(obj, f, pickle_module, pickle_protocol, _use_new_zipfile_serialization)\u001b[0m\n\u001b[1;32m    437\u001b[0m _check_save_filelike(f)\n\u001b[1;32m    439\u001b[0m \u001b[39mif\u001b[39;00m _use_new_zipfile_serialization:\n\u001b[0;32m--> 440\u001b[0m     \u001b[39mwith\u001b[39;00m _open_zipfile_writer(f) \u001b[39mas\u001b[39;00m opened_zipfile:\n\u001b[1;32m    441\u001b[0m         _save(obj, opened_zipfile, pickle_module, pickle_protocol)\n\u001b[1;32m    442\u001b[0m         \u001b[39mreturn\u001b[39;00m\n",
      "File \u001b[0;32m~/miniconda3/lib/python3.10/site-packages/torch/serialization.py:291\u001b[0m, in \u001b[0;36m_open_zipfile_writer_file.__exit__\u001b[0;34m(self, *args)\u001b[0m\n\u001b[1;32m    290\u001b[0m \u001b[39mdef\u001b[39;00m \u001b[39m__exit__\u001b[39m(\u001b[39mself\u001b[39m, \u001b[39m*\u001b[39margs) \u001b[39m-\u001b[39m\u001b[39m>\u001b[39m \u001b[39mNone\u001b[39;00m:\n\u001b[0;32m--> 291\u001b[0m     \u001b[39mself\u001b[39;49m\u001b[39m.\u001b[39;49mfile_like\u001b[39m.\u001b[39;49mwrite_end_of_file()\n",
      "\u001b[0;31mRuntimeError\u001b[0m: [enforce fail at inline_container.cc:337] . unexpected pos 3200 vs 3065"
     ]
    },
    {
     "ename": "",
     "evalue": "",
     "output_type": "error",
     "traceback": [
      "\u001b[1;31mThe Kernel crashed while executing code in the the current cell or a previous cell. Please review the code in the cell(s) to identify a possible cause of the failure. Click <a href='https://aka.ms/vscodeJupyterKernelCrash'>here</a> for more info. View Jupyter <a href='command:jupyter.viewOutput'>log</a> for further details."
     ]
    }
   ],
   "source": [
    "# curr_time = time()\n",
    "# os.mkdir(f\"../models/{curr_time}\")\n",
    "\n",
    "curr_time = \"1701450149.9963827\"\n",
    "\n",
    "for r in reader.rs[5-1:]:\n",
    "    curr_dataset = datasets[r]\n",
    "    feature_count = curr_dataset.shape[1]\n",
    "    for label_index in range(num_labels):\n",
    "        curr_label = labels[:,[label_index]]\n",
    "        x, x_validation, y, y_validation = train_test_split(curr_dataset, curr_label, test_size=validation_split, random_state=random_state, stratify=curr_label)\n",
    "        x_validation = x_validation.to(device)\n",
    "        y_validation = y_validation.to(device)\n",
    "\n",
    "        for fold_index, (fold_train_index, fold_test_index) in enumerate(stratified_folds.split(x,y)):\n",
    "            x_train = x[fold_train_index].to(device)\n",
    "            y_train = y[fold_train_index].to(device)\n",
    "            x_test = x[fold_test_index].to(device)\n",
    "            y_test = y[fold_test_index].to(device)\n",
    "\n",
    "            train_dataset = TensorDataset(x_train, y_train)\n",
    "            train_loader = DataLoader(train_dataset, batch_size=batch_size, shuffle=True)\n",
    "\n",
    "            test_dataset = TensorDataset(x_test, y_test)\n",
    "\n",
    "            model = SingleHeadModel(\n",
    "                feature_count=feature_count,\n",
    "                hidden_count=hidden_layers\n",
    "            ).to(device)\n",
    "\n",
    "            criterion = BCELoss()\n",
    "            optimizer = Adam(model.parameters(), lr=learning_rate)\n",
    "\n",
    "            for epoch in tqdm(range(epochs), ascii=False, desc=\"Epoch\"):\n",
    "                model.train()\n",
    "                total_loss = 0\n",
    "                for batch_features, batch_labels in train_loader:\n",
    "                    optimizer.zero_grad()\n",
    "                    predictions = model(batch_features)\n",
    "                    loss = criterion(predictions, batch_labels)\n",
    "                    loss.backward()\n",
    "                    optimizer.step()\n",
    "                    total_loss += loss\n",
    "                total_loss = total_loss / len(train_loader)\n",
    "\n",
    "                model.eval()\n",
    "                predictions = model(x_test)\n",
    "                \n",
    "                f1 = f1_score(y_test.cpu().detach(), (predictions.cpu().detach()>0.5).float(),average='micro')\n",
    "                f1_scores[(r,label_index,fold_index,epoch)] = f1\n",
    "            \n",
    "\n",
    "            val_predictions = model(x_validation)\n",
    "            f1_score_validation = f1_score(y_validation.cpu().detach(), (val_predictions.cpu().detach()>0.5).float(),average='micro')\n",
    "            f1_score_validations[(r,label_index,fold_index)] = f1_score_validation\n",
    "            print(f\"R:{r}, label:{label_index}, fold:{fold_index} --> f1:{f1_score_validation}\")\n",
    "\n",
    "            # models[(r,label_index,fold_index)] = model\n",
    "            torch.save(model.state_dict(), f'../models/{curr_time}/SingleHeadModel_norm_{hidden_layers}hidden_r{r}_label{label_index}_fold{fold_index}.pth')\n",
    "            model.to('cpu')\n",
    "            x_train.to('cpu')\n",
    "            y_train.to('cpu')\n",
    "            x_test.to('cpu')\n",
    "            y_test.to('cpu')\n",
    "\n",
    "            del model\n",
    "            del optimizer\n",
    "            del criterion\n",
    "            del train_dataset\n",
    "            del train_loader\n",
    "            del test_dataset\n",
    "            del x_train\n",
    "            del y_train\n",
    "            del x_test\n",
    "            del y_test\n",
    "\n",
    "        x_validation.to('cpu')\n",
    "        y_validation.to('cpu')\n",
    "        del x_validation\n",
    "        del y_validation\n",
    "\n",
    "\n",
    "            \n"
   ]
  },
  {
   "cell_type": "code",
   "execution_count": null,
   "metadata": {},
   "outputs": [
    {
     "data": {
      "text/plain": [
       "({1: tensor([[ 1.2164,  0.7842,  0.4673,  ..., -1.0387,  0.5936,  0.1896],\n",
       "          [-1.5417, -1.5164,  0.3941,  ..., -0.0224,  0.1336,  0.8398],\n",
       "          [-0.3774,  0.1900, -1.6242,  ..., -0.3924,  1.3757, -0.5240],\n",
       "          ...,\n",
       "          [-0.4989, -1.4209, -1.8128,  ...,  0.5811,  0.3367,  0.1752],\n",
       "          [ 0.6173, -0.0463, -1.8227,  ...,  0.8517, -0.0290, -0.9005],\n",
       "          [-1.3948,  0.2926,  0.0281,  ...,  1.4745,  0.0581, -0.6901]]),\n",
       "  2: tensor([[ 0.1855,  0.8020, -1.3226,  ...,  0.1723, -1.5044, -0.3828],\n",
       "          [-2.8749, -0.3150, -0.6218,  ...,  0.7678,  0.2107, -1.0756],\n",
       "          [-0.0839, -1.2168,  0.3921,  ...,  0.8084,  2.0737, -0.3313],\n",
       "          ...,\n",
       "          [ 1.4442, -0.4053, -0.7061,  ..., -0.9270, -0.7515, -1.3470],\n",
       "          [-0.7438,  1.1236,  0.4836,  ...,  2.2836,  0.6484, -0.6122],\n",
       "          [-2.5481,  2.4892, -1.3563,  ...,  1.0385,  0.7901, -1.6185]]),\n",
       "  3: tensor([[ 0.4997, -0.5150, -0.9653,  ...,  0.9543,  0.9458,  0.4801],\n",
       "          [ 0.4532, -1.0825,  0.6974,  ..., -0.1346, -0.5658,  0.1443],\n",
       "          [ 0.0991, -0.8160, -0.4562,  ..., -1.4993,  0.4620, -0.0222],\n",
       "          ...,\n",
       "          [ 1.0713,  1.9414,  0.9212,  ..., -2.0339,  0.3716,  0.4150],\n",
       "          [-0.0087,  0.0885,  0.9282,  ..., -1.0406,  0.9482,  0.2603],\n",
       "          [-1.0654,  0.4453, -0.6419,  ...,  0.2889,  0.3263, -0.2844]]),\n",
       "  4: tensor([[ 0.0412, -0.7692, -0.0940,  ..., -1.1140,  0.1850,  0.0629],\n",
       "          [ 1.0273, -0.5975, -0.1031,  ...,  1.4572, -0.6694,  0.4384],\n",
       "          [-0.2780, -0.3569,  0.6420,  ..., -0.0740, -1.0510, -0.4160],\n",
       "          ...,\n",
       "          [-1.0080, -0.7753, -0.2860,  ..., -0.5513,  0.5505, -2.4251],\n",
       "          [-0.0728,  0.0639, -0.8270,  ..., -0.2512,  1.0019,  1.8134],\n",
       "          [ 0.4573,  1.4811, -0.9389,  ...,  0.2470,  0.5935,  1.4396]]),\n",
       "  5: tensor([[ 0.0962, -0.4876,  1.3727,  ...,  0.4015,  1.7147,  1.0920],\n",
       "          [ 0.0962,  0.1089,  0.1486,  ..., -0.9380,  0.6078, -0.7262],\n",
       "          [ 1.3322,  0.7883,  0.3150,  ..., -0.1889, -1.6798,  0.2455],\n",
       "          ...,\n",
       "          [ 0.9595, -0.5771, -0.1510,  ..., -1.0541,  1.2921,  0.3063],\n",
       "          [-0.2765,  0.8778, -0.0160,  ..., -0.5431, -0.7169, -1.3868],\n",
       "          [ 0.1845,  1.8310, -2.1776,  ..., -0.0176, -0.8970, -1.4429]]),\n",
       "  6: tensor([[ 0.1698,  0.0099,  0.3211,  ..., -0.3341,  0.2753,  1.0775],\n",
       "          [-0.5867, -0.1416, -0.0884,  ...,  0.7296,  0.5283, -0.1189],\n",
       "          [-0.5868, -0.3941, -0.5522,  ...,  0.0746,  0.4487, -0.9069],\n",
       "          ...,\n",
       "          [ 1.5606, -2.0319,  1.2892,  ...,  0.8644,  1.2986, -1.1530],\n",
       "          [ 0.4107,  1.7508, -0.5577,  ..., -0.6074, -0.2257, -0.7781],\n",
       "          [-1.0875,  0.3729, -1.3332,  ..., -0.6274,  0.5364,  0.5270]])},\n",
       " {1: tensor([-3.7541e-02, -9.2366e-03, -4.4271e-02,  1.3828e-01, -2.7657e-02,\n",
       "          -2.5069e-01, -1.2341e-01, -2.5932e-02, -2.3544e-01,  1.9230e-02,\n",
       "          -2.3960e-01, -2.7567e-01, -9.6236e-02, -2.2848e-01, -1.1791e-02,\n",
       "           1.1558e-01, -1.8651e-01,  1.0397e-01,  1.0996e-01,  3.3112e-02,\n",
       "           2.2776e-01, -3.9156e-01,  1.5786e-01, -8.2924e-04,  8.5092e-02,\n",
       "           3.0168e-02,  2.6976e-01, -1.5675e-01, -2.0304e-01, -5.9038e-02,\n",
       "           7.9970e-02, -1.5618e-02, -3.5858e-01,  2.7990e-03, -2.6716e-01,\n",
       "          -6.2870e-02,  3.7037e-01, -2.8653e-01, -9.9200e-02,  2.6432e-01,\n",
       "          -1.9702e-02,  2.6002e-01,  1.3199e-01,  4.0352e-02,  1.5395e-02,\n",
       "           1.3024e-01, -2.2796e-01,  1.3770e-01, -6.4617e-02,  6.7026e-02,\n",
       "           1.9955e-01, -4.0608e-01, -1.5203e-01, -1.5282e-03,  1.3893e-01,\n",
       "           8.4110e-02,  4.0450e-02, -1.3484e-01, -1.2383e-01, -3.5806e-01,\n",
       "           2.4653e-01,  1.6935e-01,  1.5208e-01,  1.3051e-01,  9.2419e-02,\n",
       "           3.6143e-01,  8.3949e-02, -2.4284e-01,  1.2871e-02,  8.5659e-02,\n",
       "           2.2316e-01, -2.8558e-02,  1.7256e-01,  2.5800e-01, -1.8044e-01,\n",
       "          -3.1584e-02,  2.2559e-01, -7.0946e-02,  2.1929e-01,  8.3067e-02,\n",
       "          -8.9786e-02,  2.2973e-01,  1.5728e-01, -9.0890e-03,  3.5727e-01,\n",
       "           4.3516e-02, -1.9186e-01, -2.4049e-01,  1.5350e-01, -1.2971e-01,\n",
       "          -2.9058e-01,  8.8248e-03,  8.7114e-02, -2.8755e-01,  1.8139e-01,\n",
       "          -2.2620e-02,  2.2358e-01, -3.3045e-01,  1.3663e-01,  4.1113e-03,\n",
       "          -4.2667e-01,  1.8128e-01,  1.0879e-01, -6.5919e-02,  2.1861e-01,\n",
       "          -4.9331e-01, -2.4734e-01,  4.4417e-01, -4.9337e-04, -1.3978e-01,\n",
       "           1.9466e-01,  5.8061e-02, -8.0485e-02, -3.0028e-02, -1.3761e-01,\n",
       "          -3.8139e-02,  1.4909e-01, -1.9426e-01, -1.3161e-01,  1.1563e-01,\n",
       "           1.4041e-01,  1.0320e-01, -3.2372e-01,  8.7682e-02,  1.1493e-01,\n",
       "          -1.3405e-01, -1.6630e-01, -1.9502e-01,  1.6218e-01,  1.5206e-02,\n",
       "           3.5361e-02,  2.6517e-02,  7.5862e-02,  2.5778e-01, -6.8379e-02,\n",
       "           1.7399e-01, -1.6788e-01, -2.9764e-01, -1.5183e-01, -3.2536e-01,\n",
       "          -1.2497e-01, -3.8190e-01,  1.7009e-02, -2.2426e-01,  3.5125e-02,\n",
       "           3.1104e-01, -2.0840e-01, -1.4062e-01,  2.1947e-01,  3.5345e-02,\n",
       "          -2.0586e-02, -2.9523e-01, -3.1109e-01, -1.2283e-01,  1.2599e-01,\n",
       "           9.7572e-02,  3.6191e-01,  1.4968e-01,  3.0283e-02, -2.4505e-01,\n",
       "           3.7341e-01, -1.5554e-01,  3.2064e-01,  4.9446e-02, -1.8546e-02,\n",
       "           8.5591e-02,  9.8056e-02, -1.3209e-01,  5.4514e-02,  2.2819e-01,\n",
       "          -1.1270e-01,  9.5686e-02,  3.0327e-01, -1.7690e-01,  2.4699e-01,\n",
       "           2.1199e-01,  1.5496e-01,  8.3762e-02, -1.3229e-01,  1.4637e-02,\n",
       "           1.8577e-02, -2.2919e-01, -2.7617e-01, -1.7690e-01, -8.1363e-02,\n",
       "           8.1940e-02,  1.9776e-01, -2.0611e-01, -3.8182e-01,  7.2386e-02,\n",
       "           1.7554e-01,  5.2162e-02,  6.5061e-03,  2.6047e-02, -1.8736e-01,\n",
       "           2.3382e-01, -2.2454e-01, -2.5232e-02,  2.3870e-02,  4.7408e-02,\n",
       "          -1.0396e-01, -6.6095e-02,  1.1675e-01, -1.0250e-01,  2.1351e-01,\n",
       "          -2.2584e-01,  2.2250e-01,  5.1918e-02, -1.2433e-01, -4.0314e-01,\n",
       "          -6.9450e-03,  8.1069e-02, -1.9589e-01, -4.9202e-02,  1.0660e-01,\n",
       "          -1.9146e-01,  1.6854e-01, -1.3716e-01, -2.6568e-01, -4.2349e-02,\n",
       "           4.2514e-02,  3.0294e-01, -1.6472e-01,  3.6534e-02,  2.9700e-01,\n",
       "           3.3231e-01,  3.3890e-02,  2.2591e-01,  3.3059e-01, -1.5751e-01,\n",
       "          -1.8223e-02, -3.0894e-01, -1.4584e-01, -1.3880e-01,  1.3108e-01,\n",
       "           2.2273e-01,  8.9844e-02,  2.9669e-01, -3.5555e-01, -2.2489e-01,\n",
       "           5.7084e-02,  2.9695e-01,  2.4522e-01, -4.0756e-01, -1.0073e-01,\n",
       "          -2.2341e-01,  2.9370e-04,  3.2188e-01, -4.6096e-02,  1.0067e-01,\n",
       "           8.4547e-02,  1.0465e-01, -2.2004e-01, -1.9667e-01, -1.2839e-01,\n",
       "          -3.8305e-01,  1.4500e-01,  5.5836e-02,  1.9223e-01, -1.6351e-01,\n",
       "          -1.3995e-01, -1.8257e-01,  8.1619e-02, -1.3647e-01, -2.2498e-01,\n",
       "           7.4900e-02,  2.7783e-01, -1.7127e-01,  3.3840e-02, -8.4179e-02,\n",
       "           1.6130e-01,  3.7931e-02,  2.1840e-02, -2.5821e-01, -2.6383e-02,\n",
       "           4.4487e-02, -4.6153e-02,  3.9108e-03,  2.4159e-02,  3.6949e-02,\n",
       "          -1.1109e-01,  6.7307e-02, -8.9599e-02, -8.5271e-02, -1.6770e-03,\n",
       "          -4.1058e-01,  5.7386e-02,  2.0516e-01, -1.3153e-01, -1.3631e-01,\n",
       "          -1.8364e-01,  5.2171e-03, -1.0413e-01, -1.2781e-01, -9.1226e-02,\n",
       "           1.5859e-01, -1.2311e-01,  7.7056e-02, -1.6127e-01,  3.9041e-01,\n",
       "           1.7001e-01,  6.4786e-02, -1.3811e-01, -1.3657e-01, -3.6498e-01,\n",
       "           7.5096e-02,  1.1032e-01, -3.0459e-01,  4.3514e-02, -1.2628e-01,\n",
       "          -1.3334e-01, -4.2953e-01,  6.9794e-03, -8.4334e-02, -1.2236e-01,\n",
       "          -2.2311e-01,  2.1773e-01, -1.9149e-01, -3.7176e-01, -2.6064e-02,\n",
       "          -1.8626e-01, -3.7141e-01,  1.0450e-01,  2.5701e-01, -2.7399e-01,\n",
       "           1.2384e-02, -8.6892e-02, -3.8008e-02, -1.4945e-01, -1.0898e-03,\n",
       "           1.9080e-01,  3.8950e-01,  1.9166e-01,  1.9597e-01,  3.6409e-01,\n",
       "           6.7504e-02,  9.9206e-02,  4.2895e-01, -1.1657e-01, -1.0107e-01,\n",
       "          -6.4965e-02,  5.4553e-02,  1.7904e-02,  1.3862e-01,  1.2230e-02,\n",
       "          -6.4650e-02, -2.8263e-01, -1.0492e-01, -3.3528e-01,  1.1361e-01,\n",
       "           1.7431e-01, -3.3889e-01, -1.4754e-01,  1.6478e-02, -7.7758e-02,\n",
       "           1.1591e-01, -7.5901e-02,  7.8763e-02,  1.5688e-02, -1.8664e-01,\n",
       "          -1.0045e-01,  6.3497e-02,  1.1300e-01,  5.6109e-02, -2.5246e-01,\n",
       "           3.8724e-01, -2.3621e-02,  1.2831e-01,  2.9695e-02,  2.0758e-01,\n",
       "           7.9925e-02,  2.0400e-02, -1.5701e-01, -2.0397e-01, -1.8436e-01,\n",
       "           2.1834e-02,  1.6077e-01, -1.5711e-01, -2.0620e-01, -9.8245e-02,\n",
       "          -4.5479e-01, -2.3663e-01,  2.0770e-01,  1.8614e-01, -5.1377e-02,\n",
       "           7.0250e-02,  7.9560e-02,  8.9004e-02, -2.6090e-01, -2.9610e-01,\n",
       "          -9.6503e-02,  4.4689e-02,  3.5049e-01, -2.6266e-01,  3.4470e-02,\n",
       "           5.7541e-01,  4.2572e-02,  5.2954e-02, -2.6756e-01, -2.0833e-01,\n",
       "           1.3552e-01,  1.8015e-01, -9.2018e-02,  1.8584e-01,  1.9322e-01,\n",
       "          -1.8646e-02, -1.4957e-01,  1.1144e-01,  1.2501e-01, -1.8568e-02,\n",
       "           1.4725e-01,  3.4120e-01, -3.0721e-02, -2.1217e-01,  3.4475e-01,\n",
       "          -2.6775e-01,  2.5157e-01,  1.3070e-01,  1.2090e-01, -1.2277e-02,\n",
       "          -9.0383e-02,  1.2734e-01, -1.6088e-01, -2.1431e-02,  1.3926e-01,\n",
       "           8.2856e-02, -2.8354e-02,  1.0907e-01,  3.7589e-01, -2.7014e-02,\n",
       "           3.3800e-02,  2.4472e-01,  7.2691e-02, -1.5094e-01,  4.9338e-03,\n",
       "          -1.0583e-01, -1.8784e-01, -2.7341e-02, -1.1812e-01, -3.9329e-02,\n",
       "          -2.1587e-01,  1.7121e-01, -1.4831e-01,  2.0882e-01, -5.8142e-02,\n",
       "           3.4442e-01, -2.2128e-01,  2.4343e-01,  2.8143e-01,  2.9504e-02,\n",
       "           1.5536e-01,  4.7167e-02, -1.1963e-01, -5.2296e-03, -2.8362e-01,\n",
       "          -3.5526e-01, -3.2366e-02,  9.9873e-02,  1.9357e-01, -1.7089e-01,\n",
       "          -1.8894e-01, -5.7222e-01, -7.7696e-02,  5.5558e-02,  9.1439e-02,\n",
       "           3.5857e-01,  3.4253e-01,  5.5133e-02,  4.2125e-01, -1.4899e-01,\n",
       "          -1.0260e-01, -1.4146e-01,  1.2384e-01,  1.3579e-01,  1.2750e-01,\n",
       "          -5.0416e-01, -2.5882e-02,  1.2005e-01, -2.2944e-01,  3.3733e-01,\n",
       "           8.7736e-02,  1.0744e-01,  2.9492e-01, -6.5944e-02,  1.0470e-01,\n",
       "          -1.8511e-01,  7.3338e-02,  2.7115e-01, -1.2239e-01,  6.5316e-03,\n",
       "           1.5386e-01,  2.2829e-01,  7.5545e-02, -2.5153e-01,  9.5918e-02,\n",
       "           3.2380e-01,  4.2313e-02, -2.6901e-01, -8.6173e-02,  2.0570e-01,\n",
       "          -5.6148e-02, -2.3794e-01,  1.3335e-02,  1.4943e-01, -1.5658e-01,\n",
       "          -2.9080e-01,  1.4635e-01,  8.7129e-02,  5.3903e-01,  7.2221e-02,\n",
       "           9.8632e-02, -2.4564e-01,  8.7452e-02,  2.8924e-01,  2.5327e-01,\n",
       "           7.9979e-02, -1.7775e-01,  3.5047e-02,  5.1174e-01, -1.8229e-01,\n",
       "          -1.1575e-01, -8.6940e-02,  8.8719e-02,  1.0969e-01, -2.2628e-01,\n",
       "          -3.2026e-01,  2.2352e-01, -5.8338e-02, -2.2626e-01, -3.8903e-01,\n",
       "           2.5235e-01, -5.8581e-02,  4.2511e-02, -3.5271e-01, -2.9526e-02,\n",
       "           1.0180e-02, -4.6861e-01,  1.0630e-01,  4.5215e-03,  1.8029e-01,\n",
       "           2.0164e-01,  4.7670e-02,  4.8287e-02, -8.7733e-02,  3.6334e-01,\n",
       "           1.1062e-01, -1.3662e-01,  5.0779e-02,  1.4793e-01, -2.3154e-01,\n",
       "          -2.5419e-01,  2.2624e-01,  3.0595e-01, -1.6060e-01, -5.5376e-02,\n",
       "          -4.5840e-02,  3.6838e-01, -3.6007e-01,  4.6542e-02,  6.8092e-02,\n",
       "          -7.7877e-02, -3.2705e-02,  2.1109e-01, -1.7360e-01, -1.4360e-01,\n",
       "          -2.8611e-01,  1.7728e-01,  6.8217e-03,  1.6697e-01, -2.4657e-01,\n",
       "           2.3852e-01, -1.2689e-01, -5.2918e-02,  5.1693e-02, -4.8068e-02,\n",
       "          -1.2981e-01,  2.9599e-01,  1.0108e-01, -1.3692e-01,  2.1459e-01,\n",
       "           3.3598e-02, -4.4858e-01,  1.6442e-01,  3.2686e-01, -2.9729e-02,\n",
       "           1.8231e-01, -9.7581e-02,  5.7750e-02,  1.6712e-02, -3.6602e-02,\n",
       "           1.4817e-01,  1.7182e-01, -5.6766e-02, -5.1616e-02,  2.0742e-01,\n",
       "           1.3800e-01, -7.5357e-02, -1.4979e-01,  6.5133e-02, -4.4861e-03,\n",
       "           2.4169e-01,  4.7763e-02,  3.8812e-02,  1.1657e-01, -1.2866e-01,\n",
       "          -1.3575e-01,  3.2695e-01,  2.2968e-02, -9.0927e-02,  9.9596e-02,\n",
       "          -1.8591e-01, -9.3622e-02,  2.4687e-01, -5.7628e-02, -7.2809e-02,\n",
       "          -1.0951e-01,  4.0977e-01, -1.8568e-01,  3.2301e-02, -3.6100e-01,\n",
       "           2.7039e-01,  1.6527e-01,  1.9002e-03,  6.4154e-02, -2.1138e-01,\n",
       "          -2.9056e-01, -9.4441e-02, -1.1687e-01, -6.0737e-02,  2.0692e-01,\n",
       "          -4.1433e-01,  2.3601e-02,  2.3669e-02,  3.6903e-01, -3.6187e-01,\n",
       "          -4.2385e-02,  3.0483e-01, -1.5746e-01,  4.5000e-02,  1.1824e-02,\n",
       "           1.3485e-01,  1.6183e-01, -1.3875e-01,  1.7726e-01,  3.1097e-02,\n",
       "          -2.5833e-01, -7.4866e-02, -6.1302e-02,  1.2606e-01,  5.4515e-02,\n",
       "          -1.8691e-02,  3.4304e-01,  1.4518e-01,  2.7416e-02,  2.8860e-01,\n",
       "           1.3845e-01, -3.5958e-01, -1.8576e-01,  2.7850e-01,  1.1718e-01,\n",
       "           5.6240e-02,  4.3897e-02, -2.1440e-01,  2.4769e-02,  2.9645e-01,\n",
       "           1.1462e-01, -5.3147e-02,  3.6709e-01,  3.5039e-01, -3.7139e-02,\n",
       "           2.9954e-01, -3.1738e-01, -1.2054e-01,  9.5916e-02, -3.7846e-02,\n",
       "          -1.8429e-01,  8.4536e-03, -2.4249e-02, -5.3686e-02,  4.4493e-02,\n",
       "          -1.3456e-01, -2.2684e-01, -1.6762e-01, -3.2067e-02, -5.4754e-02,\n",
       "           5.1115e-02,  1.7542e-02, -3.8570e-02,  1.8221e-03,  1.0448e-02,\n",
       "           3.0461e-01,  2.0936e-01,  1.9388e-01, -4.3636e-03,  2.9560e-01,\n",
       "           1.8109e-01, -1.8546e-01,  1.1599e-01,  1.6526e-01, -6.0538e-02,\n",
       "           4.5051e-03,  2.0154e-01,  1.8091e-01, -8.5941e-02, -2.6648e-01,\n",
       "          -2.1246e-01, -1.5329e-01,  3.0301e-01,  1.8783e-01, -3.5628e-02,\n",
       "           3.0963e-01, -1.1079e-01, -9.5768e-03, -2.3845e-01, -5.9855e-02,\n",
       "          -2.8897e-02,  3.0519e-01,  1.2325e-01,  1.8507e-01,  2.4280e-01,\n",
       "          -1.8054e-01,  1.2690e-01, -9.9243e-02, -2.4976e-01,  9.9416e-02,\n",
       "          -4.9144e-02,  7.7881e-02, -2.9089e-01,  4.3371e-01,  8.3606e-02,\n",
       "           1.1820e-01, -2.3973e-01,  2.8248e-01,  1.9110e-01, -2.2067e-01,\n",
       "           1.1921e-02,  3.7224e-01,  1.0907e-01, -1.3542e-01, -2.6647e-01,\n",
       "          -2.4450e-01,  2.1490e-01, -5.6626e-02, -2.2433e-01, -2.0968e-02,\n",
       "           1.8201e-01,  1.7247e-01, -4.2440e-02,  1.7219e-01,  2.9368e-01,\n",
       "           6.2870e-02, -4.7797e-02,  3.7283e-01, -1.6986e-02,  2.0019e-01,\n",
       "          -1.9977e-01,  2.2850e-02, -6.2709e-03, -5.3823e-02, -2.4310e-02,\n",
       "          -2.8749e-02, -1.9400e-01, -3.3026e-01, -2.6882e-01, -1.7822e-01,\n",
       "          -2.3819e-01, -2.8126e-01,  2.0771e-01]),\n",
       "  2: tensor([ 3.4568e-01,  3.3051e-02,  1.2030e-01, -1.6907e-01, -4.7314e-01,\n",
       "          -7.3551e-01, -2.2874e-01, -2.2283e-01,  1.0388e-02,  2.1918e-01,\n",
       "          -3.1110e-02, -2.5245e-01,  4.2160e-02, -2.3807e-01,  7.2346e-02,\n",
       "           8.9123e-02,  3.1743e-02,  3.7429e-01, -3.4116e-02,  9.9906e-02,\n",
       "           2.8829e-02,  2.2643e-01,  2.8806e-01,  1.8096e-01,  5.8710e-01,\n",
       "          -4.1378e-01, -1.2362e-01,  3.3424e-01, -3.9200e-01,  2.0517e-01,\n",
       "           1.4484e-01, -2.9207e-01, -2.1894e-01, -4.5890e-01,  6.9940e-01,\n",
       "           5.1868e-02, -3.7541e-02, -8.5338e-01, -2.0622e-02,  2.5176e-01,\n",
       "          -5.3149e-01, -7.5531e-02,  3.1327e-02, -4.7543e-01, -2.1986e-01,\n",
       "          -3.4917e-02,  8.9469e-02, -3.2374e-01,  2.9002e-01,  5.5117e-02,\n",
       "           1.0944e-01, -7.7057e-01,  8.6691e-03, -9.4125e-02,  3.3049e-01,\n",
       "           9.3432e-02, -2.9391e-01, -3.5011e-01,  5.1702e-01,  5.4025e-01,\n",
       "          -2.6511e-01, -9.4944e-02,  1.9346e-01, -4.8054e-01,  5.7530e-02,\n",
       "           2.6591e-01, -6.2877e-01,  2.7095e-01,  3.5873e-01,  2.1638e-02,\n",
       "          -2.9713e-01,  2.9786e-01,  7.1043e-01,  2.8565e-01,  1.6406e-01,\n",
       "           2.7467e-01,  4.1317e-01,  4.2004e-01, -2.3401e-01,  6.0273e-01,\n",
       "          -2.6652e-01, -1.4811e-01,  3.2869e-01,  2.7147e-01, -9.0154e-04,\n",
       "          -4.4779e-01, -4.0362e-01,  6.8953e-02,  2.1595e-01,  3.8638e-01,\n",
       "           2.5781e-01,  3.8811e-01,  4.1258e-01, -7.6672e-01, -4.3108e-01,\n",
       "           1.0001e-01,  3.4386e-01, -5.2757e-01,  4.6807e-02, -5.0735e-01,\n",
       "           2.1612e-01, -7.6062e-01, -4.7159e-01, -3.5881e-01, -2.1193e-01,\n",
       "           7.6321e-02, -1.3984e-02,  2.8738e-03, -4.2437e-01, -6.1678e-01,\n",
       "          -3.4474e-01, -5.9726e-01, -1.4827e-01, -6.5111e-02,  3.1965e-02,\n",
       "          -4.1508e-03,  3.1767e-01,  2.5770e-01, -8.7458e-02,  1.8423e-01,\n",
       "          -1.7375e-01, -3.4123e-02, -2.6659e-01,  7.2268e-01, -1.9859e-02,\n",
       "           8.7912e-02, -7.8985e-02, -4.0226e-01, -2.8309e-01,  6.3112e-02,\n",
       "           3.0066e-02, -6.1749e-02, -3.3714e-01,  2.8686e-01,  5.9132e-01,\n",
       "          -1.0201e-01, -1.3792e-01,  2.7134e-01,  2.1187e-01,  1.8564e-01,\n",
       "           8.3000e-02,  5.8004e-02, -1.1297e-01,  2.6915e-02, -1.0824e-01,\n",
       "          -3.4594e-01,  4.7477e-01, -2.4308e-01, -5.6739e-01,  1.3949e-01,\n",
       "          -9.5866e-02, -5.2907e-02, -1.3803e-01, -1.1769e-01, -7.8336e-02,\n",
       "           4.5384e-01,  7.5491e-02,  1.3422e-01, -5.7790e-01,  1.6073e-01,\n",
       "           2.5365e-01, -4.3261e-01,  4.7707e-02,  5.7089e-01, -7.2122e-04,\n",
       "           1.5043e-01,  3.4013e-01, -2.4826e-01,  4.2268e-01,  5.1770e-02,\n",
       "           7.6719e-01, -1.8101e-01, -5.5753e-01, -1.3586e-01, -2.1096e-01,\n",
       "          -1.6103e-01,  6.0723e-01,  4.3310e-01,  1.7650e-01, -5.5651e-01,\n",
       "           2.2543e-01, -2.3803e-01,  2.0051e-01,  3.8824e-01,  2.9330e-01,\n",
       "          -4.4781e-01,  4.7807e-01, -1.4161e-01, -3.1494e-01,  1.6401e-02,\n",
       "           2.4841e-01, -2.7077e-01,  5.4871e-01, -3.0320e-01,  3.4935e-01,\n",
       "          -3.3860e-02,  1.5695e-01,  3.4104e-01,  1.1867e-03,  1.2050e-01,\n",
       "           3.1745e-01,  1.4320e-01,  1.3772e-01, -9.2535e-02, -7.7779e-01,\n",
       "          -2.6796e-01,  3.9300e-01,  2.8920e-01,  4.6016e-01,  3.8474e-01,\n",
       "          -5.0074e-01,  3.7107e-01,  2.2564e-01,  8.9187e-02,  4.0640e-01,\n",
       "           7.1889e-02, -1.0318e-01,  1.8189e-01,  8.5349e-02, -2.0964e-01,\n",
       "           7.1293e-02, -4.0841e-01, -1.6384e-01,  1.9582e-03, -4.9043e-02,\n",
       "          -7.1313e-01, -4.3475e-01,  2.2923e-01,  1.0859e-01,  6.0822e-01,\n",
       "          -4.4638e-01, -1.3223e-01, -5.1592e-01, -1.9443e-01, -5.3935e-01,\n",
       "           1.9366e-01,  3.2158e-01,  5.0500e-02,  2.1656e-01, -4.6412e-01,\n",
       "          -2.1448e-01, -1.0892e-01,  4.5538e-01,  2.3753e-01, -1.6237e-01,\n",
       "           1.3670e-01, -5.7085e-01, -1.5419e-01,  1.5510e-01, -2.3559e-01,\n",
       "           4.3384e-01,  3.3392e-01, -4.0687e-02, -1.6386e-01,  4.0884e-01,\n",
       "           4.3416e-01,  1.1725e-02,  9.6262e-03,  9.5893e-02,  2.8675e-02,\n",
       "           1.4221e-01,  1.5584e-01,  3.2734e-02,  1.0005e+00, -4.4238e-01,\n",
       "          -2.0829e-02, -9.9165e-03, -4.1600e-03, -9.4377e-02,  2.3448e-01,\n",
       "          -9.0473e-02,  3.8393e-02,  3.0548e-02, -5.2389e-02,  3.7155e-01,\n",
       "           8.7899e-01, -5.9987e-01,  2.7704e-01,  1.0241e+00,  1.2991e-01,\n",
       "           3.1307e-01,  3.8238e-01,  1.7038e-01,  5.1609e-02, -2.6941e-01,\n",
       "           4.5401e-01, -6.6278e-02,  1.3001e-01, -6.8490e-01, -7.7518e-01,\n",
       "           6.1931e-01, -1.1066e-02, -2.5340e-01,  1.7397e-02, -2.2838e-01,\n",
       "           2.9117e-01, -3.8316e-01, -1.6604e-01, -2.2805e-01,  7.2035e-02,\n",
       "          -1.0088e-01,  1.9578e-01, -2.3863e-01,  5.3864e-01, -4.0074e-01,\n",
       "          -1.0464e-01,  1.8652e-01,  6.2946e-02,  3.3957e-01, -2.0997e-01,\n",
       "          -2.1886e-01, -2.3035e-01, -4.3600e-01, -5.2854e-01, -7.7200e-01,\n",
       "          -7.1817e-01, -1.9937e-01,  3.5701e-01, -5.4991e-01,  3.5717e-01,\n",
       "           6.8151e-02, -2.1515e-01,  1.2584e-01,  8.1239e-01, -1.6767e-01,\n",
       "          -1.4695e-01, -4.2496e-01,  1.0839e-01, -2.8735e-01,  2.8147e-01,\n",
       "           1.8716e-02, -4.1607e-01, -4.7329e-02,  2.0594e-01,  1.3253e-01,\n",
       "          -4.7821e-01, -3.0687e-01, -1.8807e-01, -1.6500e-01, -3.1525e-01,\n",
       "           1.1297e-01,  5.8783e-01,  4.4621e-01,  3.3379e-01,  3.1525e-01,\n",
       "           1.0756e-01,  1.7606e-01,  4.5883e-01,  1.1050e-01,  5.2113e-02,\n",
       "          -1.3393e-01, -1.3806e-02, -1.5037e-01, -2.4298e-01, -1.0342e-01,\n",
       "          -5.3542e-02, -3.3231e-01,  2.6031e-02, -4.2829e-01, -9.0104e-02,\n",
       "          -6.9993e-01,  2.7331e-01,  4.4089e-01, -3.1738e-01, -7.9183e-02,\n",
       "           3.5650e-01, -7.0681e-01, -2.0203e-01, -1.1179e-01,  2.6748e-01,\n",
       "           5.6379e-02, -5.0856e-01,  2.0742e-01, -5.8563e-01,  2.8339e-02,\n",
       "           1.7231e-01, -1.1055e-01, -5.4813e-01,  2.2525e-01,  4.3381e-01,\n",
       "           2.6511e-02, -9.8174e-02,  6.3293e-02, -1.4746e-01, -4.5214e-01,\n",
       "           5.8366e-02,  4.4648e-01,  3.5884e-01, -1.1846e-01,  6.4254e-01,\n",
       "           7.5645e-01, -1.5712e-01,  1.1823e-01,  8.6679e-02,  3.2426e-01,\n",
       "           7.9656e-02,  3.6503e-01, -3.7218e-01, -3.6318e-01,  8.2180e-01,\n",
       "           1.1430e-01, -3.0871e-01,  2.8860e-01, -2.8268e-01, -2.5008e-01,\n",
       "          -6.2810e-01, -1.8131e-01, -4.6717e-01,  5.6498e-01, -6.7076e-01,\n",
       "          -3.4265e-01,  2.8918e-01, -1.8725e-01, -8.7094e-02, -1.1493e-01,\n",
       "          -3.5239e-01, -4.8683e-01, -3.7721e-01, -5.1246e-01, -2.2767e-01,\n",
       "          -4.5710e-01,  2.9006e-01, -1.4387e-01,  2.0513e-01,  1.0484e-01,\n",
       "          -2.8308e-02,  1.6798e-01,  2.7783e-01, -1.2865e-01,  5.1872e-01,\n",
       "          -3.1257e-01,  1.5826e-01, -3.3277e-01,  1.2505e-01,  5.1173e-01,\n",
       "          -3.4939e-01,  9.0582e-02, -2.4157e-01, -3.4417e-01,  2.3005e-01,\n",
       "          -9.0277e-02, -5.6280e-01,  1.3868e-01, -3.2055e-03,  1.3604e-01,\n",
       "          -1.4736e-01,  4.5883e-01,  2.9194e-01,  3.6090e-01, -2.9405e-01,\n",
       "           1.0438e-01,  8.3043e-02, -6.6507e-03,  3.4325e-01,  8.1881e-02,\n",
       "          -1.3621e-01,  2.6328e-01, -3.6102e-01,  3.2028e-01, -2.2991e-01,\n",
       "           4.3497e-02, -8.1603e-02, -4.0566e-01, -3.0281e-01, -1.7508e-01,\n",
       "           7.4715e-02,  8.3054e-02,  6.9136e-03, -3.4479e-01,  5.9570e-01,\n",
       "          -4.0689e-01, -1.8411e-01, -2.3923e-01, -5.5411e-01, -1.2041e-01,\n",
       "          -8.0076e-02, -2.4903e-01,  8.1125e-01, -3.6206e-01,  1.4079e-01,\n",
       "           1.7892e-01,  1.6212e-01, -2.0827e-01, -2.9890e-01,  2.2134e-01,\n",
       "           1.0634e-01,  2.8395e-01,  2.8482e-02, -1.2621e-01,  1.0696e-02,\n",
       "          -1.9917e-01, -1.2040e-02,  2.1916e-01,  1.0667e-01, -7.0950e-02,\n",
       "           1.1877e-01,  2.4072e-01, -2.0339e-01,  1.4538e-01,  1.3815e-01,\n",
       "           2.3382e-01, -3.2239e-01, -1.1678e-01, -1.7122e-01,  6.3922e-01,\n",
       "          -3.3584e-02, -2.4587e-01,  3.5556e-03, -1.7100e-01,  4.2666e-02,\n",
       "           1.9263e-01, -2.4547e-01, -6.3714e-02, -1.4501e-02, -7.5790e-01,\n",
       "          -7.2340e-02, -2.2733e-01, -3.4338e-01,  2.8368e-01, -3.5335e-01,\n",
       "           1.5510e-01,  1.0730e-01,  5.3319e-01, -1.1177e-01, -9.6163e-02,\n",
       "           9.0347e-01, -2.9040e-01,  3.2817e-01, -4.2009e-01,  5.1652e-01,\n",
       "           3.9909e-01,  4.1459e-01,  4.7467e-01, -6.6558e-01,  4.4101e-01,\n",
       "          -1.2069e-01, -1.2665e-02,  9.1125e-02, -6.0943e-01,  4.3693e-02,\n",
       "           7.8310e-02, -1.5254e-02,  3.0927e-01,  3.4583e-01, -7.5610e-02,\n",
       "           4.2083e-02, -4.3934e-01,  6.0311e-01, -4.8734e-01,  2.7336e-01,\n",
       "           1.9448e-01,  5.8709e-01, -2.1075e-02,  8.9004e-02, -4.7398e-01,\n",
       "          -7.2590e-02, -3.6871e-01,  1.8132e-01,  4.3275e-01, -5.6678e-01,\n",
       "           4.1296e-01, -3.9617e-01, -1.2434e-01,  3.9276e-01,  3.1972e-01,\n",
       "           6.8070e-01, -5.2335e-01, -4.5758e-01, -7.0333e-01, -7.8972e-01,\n",
       "          -2.2850e-01,  5.1135e-01,  4.0344e-01, -4.1857e-01,  2.7680e-02,\n",
       "           4.2549e-01, -1.5217e-01,  3.8061e-02, -1.3727e-01,  1.0895e-01,\n",
       "           5.0662e-01,  8.0190e-02,  5.7253e-01,  8.5554e-04, -6.9882e-01,\n",
       "           5.5144e-01,  1.3680e-01,  4.4006e-02, -5.9973e-02,  4.8591e-01,\n",
       "          -2.1199e-01,  8.2809e-01,  4.2673e-01,  4.8093e-02,  2.4333e-01,\n",
       "           5.8323e-01, -1.2671e-02, -4.1318e-02,  6.3090e-01,  1.3195e-01,\n",
       "          -3.0479e-01, -4.1935e-01, -1.9081e-01,  3.5903e-01,  2.1337e-01,\n",
       "          -1.3410e-01, -2.1258e-02, -7.8947e-01, -1.4286e-02,  5.2495e-01,\n",
       "          -2.3277e-02,  2.8101e-01,  6.4813e-02,  2.3646e-01, -6.5212e-02,\n",
       "           9.5582e-02, -2.5082e-01, -1.2838e-03, -4.2176e-01, -1.3577e-01,\n",
       "           6.6146e-02, -5.9048e-01, -8.6563e-02,  4.6879e-01, -8.1004e-02,\n",
       "           2.8811e-01, -2.2030e-01, -1.2520e-01,  1.2954e-01, -4.7061e-01,\n",
       "          -3.2464e-01, -2.4936e-01,  5.2815e-01,  1.0640e-01, -8.9704e-02,\n",
       "          -3.4003e-01, -3.3622e-01,  2.0997e-01, -4.0482e-01, -3.3493e-01,\n",
       "           3.1805e-01,  2.3545e-01,  6.6829e-02, -4.7650e-01, -6.3865e-03,\n",
       "           2.1348e-01, -1.2439e-01,  5.5198e-01, -4.9259e-01, -1.2640e-01,\n",
       "           3.5157e-01, -2.8684e-02,  2.8460e-01,  3.8107e-01, -9.5592e-02,\n",
       "           5.9229e-01,  1.6335e-01, -4.5299e-02,  5.0228e-01, -6.8743e-01,\n",
       "           1.9990e-01, -1.7736e-01,  3.2753e-01,  1.3199e-01,  1.4322e-02,\n",
       "           7.4473e-02,  7.0640e-02,  5.7572e-01, -6.5018e-02,  8.3102e-02,\n",
       "           3.4264e-01,  1.9733e-01, -5.9720e-01, -3.6168e-01,  3.4155e-01,\n",
       "          -1.3702e-01, -7.2769e-02,  2.4043e-01, -7.0991e-02, -1.6278e-01,\n",
       "           2.2425e-01, -4.0578e-01, -6.6560e-01,  2.1048e-01,  4.9750e-01,\n",
       "          -2.9619e-01,  1.7145e-01,  1.9893e-01,  2.1042e-01,  2.9229e-01,\n",
       "          -8.6514e-01, -2.0409e-01,  2.9598e-01, -7.1010e-01, -4.0065e-02,\n",
       "           4.9007e-01, -2.6753e-01, -4.0110e-01,  1.1385e-01,  2.6091e-01,\n",
       "           1.0802e-01, -7.5475e-02,  3.4576e-02,  1.5517e-01,  5.7180e-01,\n",
       "          -4.7843e-01,  2.9594e-01, -5.0443e-01, -2.8792e-01, -2.5739e-01,\n",
       "           1.7470e-01, -6.7261e-02, -9.1863e-02, -1.8475e-01,  1.6212e-01,\n",
       "           3.6984e-01,  2.1187e-01, -7.3886e-02, -4.0155e-01,  2.8277e-01,\n",
       "          -3.3011e-01,  1.0071e-01, -9.0118e-02, -1.4954e-01, -2.1098e-01,\n",
       "          -4.9189e-01, -1.5505e-01,  2.3251e-01, -4.3582e-01,  9.2772e-02,\n",
       "           1.2964e-01, -2.5901e-01,  2.5864e-01, -7.4562e-01, -9.4624e-01,\n",
       "          -8.3875e-02, -1.9048e-01, -5.1239e-01,  4.1072e-01,  2.2018e-01,\n",
       "           1.2661e-01,  3.5189e-01,  1.5307e-01, -2.0587e-01,  4.5525e-02,\n",
       "           5.4822e-03, -3.5500e-01, -1.9677e-01,  4.3564e-01,  5.6010e-01,\n",
       "          -6.8413e-02,  1.6792e-01, -3.1203e-01,  2.6507e-01,  6.9338e-02,\n",
       "           2.5576e-01, -2.5628e-01, -4.9836e-01,  2.2165e-01, -1.3373e-01,\n",
       "          -3.4189e-01, -2.4916e-01, -1.3321e-01, -1.1104e-01,  2.4468e-01,\n",
       "           5.2551e-01, -1.2560e-01, -1.9963e-01]),\n",
       "  3: tensor([ 2.7184e-01, -6.0640e-03,  2.1089e-01, -2.7951e-01, -8.5934e-02,\n",
       "           1.2767e-01,  2.0858e-01,  7.8777e-02, -1.3098e-01,  2.3299e-01,\n",
       "          -1.1726e-01,  3.5388e-01, -8.0478e-01,  3.2884e-01,  1.4018e-02,\n",
       "           2.5743e-01,  1.2111e-01,  3.4204e-01, -1.2044e-01, -1.8602e-01,\n",
       "          -3.6942e-01, -8.3760e-02, -1.4068e-02,  1.6475e-01, -1.7804e-01,\n",
       "          -7.7858e-01, -1.6821e-02,  2.3988e-01, -9.8961e-02,  4.3282e-01,\n",
       "          -6.5489e-02,  3.1523e-03,  1.4708e-01,  6.6951e-02,  8.7892e+00,\n",
       "           1.9989e-02,  7.4637e-01, -2.3746e-01, -6.3380e-02,  2.2506e+00,\n",
       "          -1.1745e-01, -8.4869e-02, -7.8742e-02,  2.6824e-01, -4.3627e-01,\n",
       "           7.1815e-02,  1.2192e-01, -3.1198e-01,  7.8243e-02,  1.2730e-01,\n",
       "          -4.0652e-01,  3.0405e-01,  1.3917e+00,  1.2123e-01, -1.6960e+00,\n",
       "          -4.3045e-02,  2.3934e-01, -4.2670e-01,  5.9730e-04,  6.6791e-02,\n",
       "          -1.7478e-01,  1.4439e-01,  2.5952e-01, -4.0699e-01, -5.7093e-02,\n",
       "          -2.6660e-01, -9.1649e-01, -1.3301e-01,  2.1477e-03,  2.0475e-01,\n",
       "          -4.7501e-01, -1.1294e-01,  3.3560e-02, -1.8998e-01,  3.9452e-01,\n",
       "           2.4702e-01, -3.0712e-01,  3.1260e-01,  4.1425e-01, -8.4107e-02,\n",
       "          -3.9478e-01, -4.9960e-01, -6.3953e-02,  3.3294e-01, -7.7047e-02,\n",
       "          -1.3271e-01,  7.4720e-03, -1.1325e-02,  4.8356e-01,  1.2594e-01,\n",
       "           2.0800e-01, -4.3221e+00,  2.5889e-01,  2.7835e-02,  7.1874e-02,\n",
       "          -5.6327e-01, -3.6822e-01, -1.0435e-01,  9.4680e-02, -1.5025e-01,\n",
       "          -4.7074e-01,  1.5975e-01,  1.8653e-01, -1.0551e-01, -3.5618e-01,\n",
       "           1.0039e-01, -9.4666e-02, -3.8812e-01, -1.0935e-01,  1.0419e-01,\n",
       "           4.0644e-01, -2.9020e-02,  1.1345e-01,  8.8019e-02,  5.3650e-01,\n",
       "           1.1484e-01, -5.5501e-01, -1.1570e-02,  3.3105e-01,  1.4294e-02,\n",
       "           5.0084e-01,  1.0806e-01,  9.0858e-03, -8.6594e-02,  1.5824e-01,\n",
       "           2.6046e-02, -1.5688e-01, -1.6513e-01,  1.5734e-01,  1.8173e-01,\n",
       "           2.9963e-01,  4.0617e-01,  6.9384e-03,  5.6748e-01,  6.0000e-02,\n",
       "          -5.6124e-02,  3.5956e-01,  6.1587e-02, -2.1103e-01,  2.1363e-02,\n",
       "           1.1913e-01, -1.4351e-02, -3.4768e-01, -2.5136e-01, -2.8189e-01,\n",
       "           1.0087e-01,  5.3503e-02,  3.1889e-01, -1.6919e-01,  9.8210e-03,\n",
       "           3.3193e-01, -5.5066e-03, -3.2030e-02,  2.1264e-02, -2.7410e-01,\n",
       "          -2.2642e-02, -8.8145e-02, -2.8736e-01,  4.1472e-01,  7.6103e-02,\n",
       "           5.1200e-02, -2.2727e-01,  5.1659e-01,  5.6604e-02,  8.3599e-02,\n",
       "           5.1374e-01, -1.5192e-01, -4.3437e-01, -3.9895e-01,  2.5124e-01,\n",
       "           2.5954e-02,  3.1906e-02,  1.0418e-01,  1.9535e-01,  1.5234e-01,\n",
       "          -7.5246e-02,  2.1056e-02, -1.5026e-01,  6.4127e-02, -6.4660e-02,\n",
       "           2.8910e-01,  1.8620e-01,  4.8069e-01, -3.1092e-01,  1.5314e-01,\n",
       "          -1.7887e-01, -1.1233e-01, -1.1745e-01,  1.8024e-01,  2.4447e-01,\n",
       "          -6.2829e-02,  3.0956e-01, -1.6036e-01,  4.8187e-01,  5.9179e-02,\n",
       "           9.1511e-02,  4.1881e-01, -5.8926e-02,  1.1694e-01, -5.2516e-01,\n",
       "          -4.5166e-01,  5.7144e-02,  1.6244e-01, -1.7895e+00, -2.6376e-01,\n",
       "           1.1915e-01,  2.1150e-01,  1.1954e-01, -2.4747e-01, -6.7224e-02,\n",
       "          -5.8261e-02,  1.5067e-02,  2.2689e-01, -5.8830e-02,  1.1743e-01,\n",
       "          -8.9157e-01, -1.6436e-01, -3.8603e-01, -1.8757e-01, -3.5131e-01,\n",
       "           6.5707e-02, -3.8475e-01, -6.2343e-01,  3.0847e-01,  1.0375e-01,\n",
       "          -2.5246e-01, -4.5576e-02,  1.8610e-02, -1.2379e-01,  8.7170e-01,\n",
       "           6.3117e-01, -4.4272e-02, -2.0731e-01,  1.9925e-01,  4.7831e-01,\n",
       "           1.3419e-01,  1.4914e-01, -2.9105e-02, -5.2264e-02,  2.4012e-01,\n",
       "          -4.3824e-02,  1.6663e-02, -2.2104e-01,  2.7194e-01,  4.7926e-01,\n",
       "           6.8514e-01,  1.0448e-01, -1.4328e-01,  3.5209e-02, -7.3601e-02,\n",
       "           5.1865e-02, -2.6575e-01,  6.5357e-02,  1.1274e+00,  1.7542e-01,\n",
       "          -2.0618e-01, -3.9861e-01,  2.5014e+00, -1.2538e-01, -4.3012e-01,\n",
       "           4.3933e-01,  2.9325e-01,  3.1855e-01, -1.3679e-01,  3.3055e-01,\n",
       "           1.0721e-01,  1.7088e-01, -1.4070e-02, -4.3463e+00,  4.0132e-01,\n",
       "          -5.5954e-01, -3.7868e-01, -3.4773e-01,  9.2873e-02, -2.3467e-01,\n",
       "           4.8585e-01, -1.8056e-01, -4.3005e-01, -1.3218e-02, -6.4167e-01,\n",
       "           3.8077e-01, -7.5651e-02,  1.3833e-01,  2.5920e-01, -8.3140e-02,\n",
       "          -4.2508e-01,  1.9716e-01,  2.6472e-02, -3.0662e-01,  3.3002e-01,\n",
       "          -1.0281e-01, -6.4331e-01, -3.1516e-02, -2.8760e-01,  1.6435e-01,\n",
       "           4.2729e-01, -4.0325e-01,  4.2987e-01,  3.2490e-01,  6.8337e-02,\n",
       "          -2.0081e-03, -1.0430e-02, -1.9218e-01, -1.9427e-02,  5.9029e-01,\n",
       "          -2.1181e-01,  1.9780e-02, -4.8096e-01, -5.4324e-01, -6.0130e-03,\n",
       "           1.5332e-01,  7.1533e-02,  4.8533e-01, -3.8569e-02,  1.5370e-01,\n",
       "          -6.7499e-02, -2.5099e-01,  1.5683e-01, -1.5169e-01,  6.3526e-02,\n",
       "          -3.2946e-01, -5.8467e-01, -2.4047e-01, -2.5724e-01,  6.8659e-01,\n",
       "          -3.6038e-01,  1.6859e-01,  9.0087e-02, -1.1963e-01, -2.8381e-01,\n",
       "          -2.2294e-01, -8.9851e-03,  1.4973e-01, -2.1905e-01, -6.8109e-01,\n",
       "          -4.9828e-02, -5.1327e-01, -1.2455e-01,  3.1795e-01,  7.8221e-02,\n",
       "           2.2343e-01,  6.8054e-02, -1.1006e-01, -2.1443e-01, -2.3520e-01,\n",
       "          -4.8823e-02,  3.6418e-02,  4.8626e-02, -1.8979e-01,  8.4940e-02,\n",
       "          -2.1979e-02,  2.3186e-01,  1.5600e-01,  2.8647e-01, -1.5219e-01,\n",
       "           2.2372e-01, -4.0250e-01, -5.9850e-01, -2.5381e-01,  1.7580e-01,\n",
       "          -5.0506e-02,  3.1403e-01,  2.7676e-01, -5.8907e-02,  8.8163e-02,\n",
       "           3.5012e-01, -6.9172e-03,  9.8288e-01, -2.3926e-01,  2.2530e-01,\n",
       "           1.9854e-01,  2.6547e-01, -3.7826e-01,  1.5126e-01,  3.0918e-02,\n",
       "          -2.1186e-03, -1.3261e-01, -4.2105e-01,  1.7568e-01, -2.4400e-01,\n",
       "           4.7314e-02, -1.1801e-01, -2.2343e-01,  7.1745e-02,  3.3811e-01,\n",
       "          -4.4399e-02, -3.5209e-02, -1.4791e-02,  1.2329e-01,  2.6226e-01,\n",
       "           1.5158e+00, -5.5591e-02,  2.7300e-01, -1.1370e-01,  2.4370e-01,\n",
       "           4.4557e-01, -3.0832e-01, -1.2173e-01,  1.3007e-01, -2.3903e-01,\n",
       "          -2.5279e+00,  1.0783e-01,  6.5841e-01,  1.8259e-01, -1.7323e-01,\n",
       "           2.0553e-02, -2.7719e-01, -2.8757e-01, -1.6227e-01,  3.2532e-01,\n",
       "          -1.2722e-01, -1.4766e-01, -6.0783e-02, -9.1987e-02,  2.7925e-01,\n",
       "          -7.9416e-02, -1.0382e-01, -1.0117e-01, -3.4847e-01, -1.9322e+00,\n",
       "           4.9688e-02, -5.2553e+00,  3.9011e-01, -5.5937e-01, -1.3602e+00,\n",
       "          -3.4906e-01,  3.5990e+00, -4.3051e-02, -6.7743e-02,  1.2039e-01,\n",
       "           1.4232e-01,  1.4544e-01,  1.4334e-01, -8.1732e-02, -2.2102e-01,\n",
       "           3.1004e-01,  4.2369e-01,  7.4593e-01,  5.3117e-01,  3.0016e-01,\n",
       "          -1.8708e-01, -1.5850e+00,  5.8604e+00, -7.1821e-01,  2.2106e-01,\n",
       "          -2.7947e-01,  1.9418e-01,  1.4760e-01, -4.3519e-01,  4.1017e-01,\n",
       "          -7.4825e-01, -1.9504e-01,  3.7324e-01,  4.3984e-01,  3.1861e-01,\n",
       "           1.7931e-01,  5.8732e-02, -4.8828e-01,  8.7389e-01,  3.3492e-01,\n",
       "          -8.5931e-02, -8.2830e-02, -5.2777e-01, -3.3979e-01,  2.5103e-02,\n",
       "           8.2596e-02, -1.5789e-01, -1.7191e-01,  1.8459e-01,  1.4092e+00,\n",
       "          -2.1327e-02,  1.3977e-03, -3.4429e-02, -2.9525e-01,  5.6033e-02,\n",
       "          -5.3618e-02,  1.0279e-01,  2.3739e-01, -1.6743e-01, -2.7715e-01,\n",
       "           1.1907e-02,  3.4748e-01, -2.7757e-02,  5.3343e-01, -1.5346e+00,\n",
       "          -6.7212e-02,  1.3747e-01,  1.4419e-01, -4.8796e-02,  2.8330e-01,\n",
       "           1.4451e-01, -1.2135e-01,  9.3001e-02,  1.2507e+00, -1.1150e-01,\n",
       "          -4.3677e-02,  6.0937e-01, -3.2089e-01,  2.3085e-01, -2.9940e-01,\n",
       "           2.8374e-01,  4.1615e-01, -1.7427e-01,  3.2585e-01,  5.9576e-01,\n",
       "           9.6578e-02, -1.3831e-01,  2.6545e-01, -1.5232e-01, -5.5577e-02,\n",
       "           1.3486e-01,  2.7983e-01, -2.2386e-01, -6.5805e-02, -1.2597e-01,\n",
       "          -1.1235e-01, -2.7364e-01,  6.1145e-02,  1.6474e-01, -2.5075e-01,\n",
       "          -1.1193e-01, -5.4034e-02,  1.1401e-01,  3.1204e-01,  3.5902e+00,\n",
       "           1.5601e-01,  7.2123e-02, -4.3161e+00,  6.0243e-02,  1.2296e-01,\n",
       "          -2.2268e-02,  3.1621e-01, -4.2432e-01, -5.1766e-01,  5.5033e-02,\n",
       "          -2.5361e-01, -6.0898e-01, -5.9886e-01, -3.9264e-02, -5.3089e-01,\n",
       "          -2.2507e-01, -4.5251e-01, -2.1502e-01, -2.1776e-01, -4.4637e-01,\n",
       "          -2.1998e-01, -1.5802e-01,  9.7389e-03,  5.0422e-01,  3.1434e-01,\n",
       "           4.9845e-01,  1.9823e-01, -2.3373e-01, -4.8470e-01,  1.5317e-01,\n",
       "          -2.5268e-01, -2.1284e-01, -4.6933e-01,  1.2919e-01,  1.5801e-01,\n",
       "           9.7120e-02,  3.3547e-01,  3.7423e-01,  1.9898e-02, -1.8834e-01,\n",
       "           1.1675e-01, -3.4063e-01, -1.9097e-01,  3.8113e-02, -9.8248e-03,\n",
       "           6.6182e-02, -1.7128e-01, -3.0284e-01,  3.5456e-01, -1.5008e-01,\n",
       "          -6.3142e-02,  1.6213e-01, -2.8844e-02,  8.9192e-02, -1.1929e-01,\n",
       "           3.1481e-01, -1.9278e-01, -9.8183e-04, -3.4016e-01, -1.5140e-01,\n",
       "           4.0312e-01,  2.6343e-04,  5.9159e-01,  3.2203e+00, -3.2993e-02,\n",
       "           1.1524e-01,  1.1678e-01, -3.3956e-01, -6.4499e-02,  1.8977e-02,\n",
       "           9.1976e-02,  2.7683e-02, -2.9486e-01, -7.8579e-01, -2.4423e-01,\n",
       "           2.2867e+00, -1.1456e-01, -2.7269e-01, -2.8378e-02,  2.5784e-01,\n",
       "          -2.5606e-01, -4.2296e-01,  1.2600e-01, -2.9516e-02, -1.0834e-01,\n",
       "           2.5467e-01, -2.6706e-01, -1.2917e-01,  4.7276e-01,  1.1890e-02,\n",
       "          -1.1252e-01,  1.0241e-01,  5.1621e-03,  1.3282e-01, -1.1065e-01,\n",
       "           2.6260e-01, -2.1897e-01, -9.7260e-02,  1.1475e+00, -2.3872e-01,\n",
       "           5.3223e-01,  1.1350e-01, -2.8787e-01, -1.8959e-01,  3.0233e-01,\n",
       "           5.9169e-02, -1.4053e-01,  5.6677e-02,  3.2862e-01,  2.0579e-02,\n",
       "          -7.7599e-01,  1.9638e-01,  2.4655e-01,  1.1677e-01,  2.5650e-01,\n",
       "          -4.7117e-01, -1.1440e+00,  1.0617e-01, -9.5997e-02,  2.6025e+00,\n",
       "           2.0930e-01, -2.9877e-02, -3.2108e-01, -3.1094e-01, -6.4999e-02,\n",
       "          -4.6004e-01, -2.7935e-01,  7.5030e-02, -2.8888e-01,  9.4886e-02,\n",
       "          -1.5018e-01, -1.0014e-02, -7.6098e-02,  1.2381e-01, -2.1204e-01,\n",
       "          -1.8883e-01, -1.7158e-01, -8.1187e-02, -3.6702e-02, -2.0794e-01,\n",
       "          -1.2692e-01, -1.3240e-01,  1.2920e-01,  5.3825e-02,  8.3561e-01,\n",
       "           1.9586e-01,  3.1177e-01, -4.5618e-01,  1.7880e-01,  5.2253e-02,\n",
       "          -1.8666e-01, -1.5257e-01, -1.0037e-01,  5.2999e-02,  7.2374e-02,\n",
       "          -5.9399e-01,  1.4947e-01, -4.5157e-02, -2.3052e-01, -6.0694e-01,\n",
       "          -1.3578e-01, -2.5891e-02, -9.5533e-03,  8.4909e-02,  2.2473e-01,\n",
       "          -5.1252e-02,  1.0778e-01, -2.6605e-01, -2.4096e-01,  1.1919e-01,\n",
       "           1.4014e-02,  3.2496e-01, -8.2330e-01,  4.4729e-01,  6.1128e-03,\n",
       "           1.6042e-01,  2.0679e-01, -1.4307e-01,  8.7461e-01,  1.3708e-01,\n",
       "          -2.0593e-01,  2.7352e-01,  2.4122e-02, -2.0518e-01, -8.7017e-01,\n",
       "          -4.7252e-01, -1.3814e-01, -5.7416e+00,  4.6560e-01, -2.1560e-01,\n",
       "          -2.9442e-01, -9.6496e-02, -1.5544e-01, -1.2994e-01, -3.0545e-02,\n",
       "           2.4282e-01, -1.7578e-01, -5.7427e-02,  3.5103e-01,  1.0476e-01,\n",
       "          -1.9658e-01, -4.7787e-02,  2.6697e-01,  2.2224e-01, -3.1968e-01,\n",
       "           1.3212e-01,  1.6164e-02, -2.2770e-01, -1.5882e-01, -1.8358e-02,\n",
       "           3.4691e-01,  3.4551e-01, -4.0794e-01, -5.9537e-02,  3.2407e-01,\n",
       "           2.6918e-01,  2.6808e+00, -2.0288e-01,  2.3128e-01,  2.2131e-01,\n",
       "          -8.3536e-01, -3.1921e-01,  2.6936e-02, -7.8073e-01, -4.3177e-02,\n",
       "           1.2526e-01, -1.6539e-01,  7.9558e-02,  3.8608e-01, -1.3498e-01,\n",
       "          -2.4990e+00, -1.2470e-01,  5.3456e-02, -7.4366e-02,  3.7534e-01,\n",
       "          -1.4931e-01, -3.6749e-01,  3.4095e-01,  3.4204e-02, -1.6976e-01,\n",
       "          -3.3364e-01,  1.1864e-01, -2.1149e-02]),\n",
       "  4: tensor([ 0.6944,  0.0799,  0.2492,  ...,  0.0086,  0.3249, -0.1745]),\n",
       "  5: tensor([ 1.4390,  0.2982,  0.4407,  ...,  0.0949, -0.7462,  1.5509]),\n",
       "  6: tensor([-0.2287,  0.1025,  0.3244,  ..., -0.0822,  0.0875,  0.1567])},\n",
       " {1: tensor([0.3456, 0.3069, 0.3936, 0.3584, 0.3116, 0.3571, 0.3157, 0.3407, 0.4023,\n",
       "          0.3912, 0.3469, 0.2901, 0.3578, 0.3127, 0.3401, 0.3653, 0.3916, 0.3532,\n",
       "          0.3415, 0.3163, 0.3572, 0.3465, 0.4280, 0.4270, 0.2938, 0.3300, 0.4375,\n",
       "          0.3708, 0.4381, 0.3156, 0.4863, 0.3006, 0.3770, 0.3273, 0.3424, 0.3209,\n",
       "          0.3784, 0.3057, 0.3331, 0.3521, 0.3946, 0.3127, 0.3356, 0.3731, 0.3284,\n",
       "          0.2924, 0.4056, 0.3688, 0.3514, 0.4002, 0.3675, 0.4430, 0.3423, 0.3182,\n",
       "          0.3482, 0.3411, 0.3623, 0.3220, 0.3456, 0.3228, 0.3659, 0.3383, 0.3374,\n",
       "          0.4228, 0.3797, 0.3682, 0.3400, 0.2878, 0.3273, 0.3400, 0.3908, 0.3619,\n",
       "          0.3766, 0.3390, 0.3127, 0.3722, 0.3408, 0.3402, 0.4168, 0.4280, 0.3787,\n",
       "          0.3735, 0.3520, 0.3845, 0.3867, 0.3257, 0.3732, 0.3197, 0.3267, 0.4082,\n",
       "          0.3294, 0.3073, 0.2658, 0.3415, 0.3259, 0.3708, 0.4389, 0.3277, 0.3013,\n",
       "          0.3536, 0.3465, 0.3269, 0.2952, 0.3454, 0.3591, 0.3354, 0.2575, 0.3623,\n",
       "          0.3193, 0.3546, 0.3396, 0.3224, 0.3331, 0.3456, 0.4016, 0.3554, 0.3882,\n",
       "          0.3681, 0.3521, 0.3169, 0.3009, 0.3902, 0.3938, 0.3481, 0.3188, 0.3871,\n",
       "          0.3008, 0.3237, 0.3317, 0.4094, 0.3047, 0.3748, 0.3657, 0.3095, 0.3701,\n",
       "          0.3745, 0.3757, 0.3189, 0.3766, 0.3756, 0.3219, 0.3029, 0.3160, 0.3799,\n",
       "          0.3016, 0.4184, 0.4466, 0.3038, 0.3063, 0.3584, 0.3947, 0.4054, 0.3469,\n",
       "          0.3806, 0.2899, 0.3689, 0.2754, 0.3255, 0.3434, 0.3492, 0.3204, 0.3444,\n",
       "          0.3333, 0.3330, 0.4117, 0.3417, 0.3203, 0.3714, 0.3550, 0.3340, 0.2859,\n",
       "          0.3363, 0.3394, 0.3180, 0.3356, 0.3123, 0.3299, 0.3507, 0.3560, 0.3393,\n",
       "          0.4077, 0.3366, 0.3817, 0.4037, 0.3184, 0.3839, 0.3588, 0.2964, 0.3926,\n",
       "          0.3891, 0.3221, 0.3776, 0.3334, 0.3783, 0.3956, 0.3603, 0.3580, 0.3809,\n",
       "          0.3771, 0.3187, 0.4245, 0.3667, 0.2958, 0.3061, 0.3226, 0.3757, 0.3131,\n",
       "          0.3522, 0.3347, 0.4183, 0.4055, 0.3896, 0.3030, 0.3144, 0.3106, 0.3482,\n",
       "          0.3700, 0.4162, 0.3470, 0.3520, 0.3771, 0.3464, 0.3463, 0.3374, 0.4038,\n",
       "          0.2537, 0.3413, 0.3506, 0.3627, 0.3642, 0.3261, 0.3083, 0.4223, 0.4061,\n",
       "          0.3434, 0.3462, 0.3207, 0.3877, 0.4327, 0.3721, 0.3117, 0.3247, 0.3574,\n",
       "          0.4225, 0.3837, 0.3023, 0.3318, 0.3799, 0.3386, 0.3797, 0.3499, 0.3512,\n",
       "          0.3183, 0.3732, 0.4423, 0.3692, 0.3628, 0.3179, 0.3858, 0.3669, 0.3000,\n",
       "          0.3524, 0.3099, 0.4204, 0.4166, 0.3173, 0.3558, 0.3755, 0.3247, 0.3766,\n",
       "          0.3721, 0.3031, 0.3363, 0.3182, 0.3097, 0.3127, 0.3815, 0.2857, 0.2971,\n",
       "          0.3255, 0.3743, 0.2979, 0.4747, 0.3475, 0.3293, 0.3315, 0.3690, 0.3558,\n",
       "          0.3170, 0.3236, 0.3000, 0.3071, 0.3563, 0.3362, 0.3474, 0.3566, 0.2956,\n",
       "          0.2975, 0.3105, 0.3351, 0.4203, 0.3378, 0.3603, 0.3854, 0.4139, 0.3069,\n",
       "          0.3864, 0.3982, 0.3104, 0.3332, 0.3121, 0.3979, 0.3638, 0.4096, 0.3301,\n",
       "          0.3460, 0.3882, 0.3677, 0.2980, 0.4004, 0.3588, 0.3146, 0.3267, 0.3752,\n",
       "          0.3496, 0.3948, 0.3260, 0.3433, 0.3343, 0.3389, 0.3639, 0.3906, 0.3630,\n",
       "          0.4002, 0.4716, 0.3553, 0.3813, 0.3744, 0.4175, 0.4132, 0.3460, 0.3825,\n",
       "          0.3372, 0.2978, 0.3573, 0.2779, 0.4125, 0.4026, 0.3627, 0.3347, 0.3340,\n",
       "          0.3356, 0.3255, 0.4072, 0.3128, 0.3039, 0.3967, 0.3441, 0.2954, 0.3747,\n",
       "          0.3461, 0.2928, 0.3515, 0.4018, 0.4042, 0.3904, 0.3931, 0.3140, 0.3188,\n",
       "          0.3179, 0.3678, 0.2876, 0.3561, 0.4173, 0.3647, 0.3542, 0.3919, 0.3244,\n",
       "          0.3799, 0.3592, 0.4409, 0.3485, 0.3303, 0.3713, 0.3594, 0.3507, 0.3777,\n",
       "          0.2959, 0.3217, 0.4422, 0.3426, 0.4093, 0.4102, 0.3817, 0.3043, 0.3897,\n",
       "          0.4009, 0.3744, 0.2933, 0.3146, 0.3282, 0.3043, 0.3449, 0.3380, 0.3907,\n",
       "          0.3008, 0.3805, 0.3319, 0.3963, 0.3876, 0.3570, 0.3204, 0.3871, 0.3923,\n",
       "          0.3276, 0.3144, 0.3855, 0.2965, 0.3799, 0.3032, 0.3337, 0.3538, 0.3484,\n",
       "          0.3996, 0.3687, 0.3351, 0.3237, 0.3936, 0.3444, 0.3570, 0.3377, 0.2896,\n",
       "          0.2825, 0.3471, 0.4206, 0.3827, 0.3580, 0.3287, 0.4131, 0.3266, 0.4447,\n",
       "          0.3040, 0.3704, 0.3583, 0.3389, 0.3718, 0.3547, 0.2790, 0.3335, 0.3428,\n",
       "          0.3446, 0.3480, 0.3554, 0.3179, 0.4796, 0.4289, 0.3398, 0.3340, 0.3739,\n",
       "          0.3334, 0.4335, 0.3038, 0.4308, 0.3494, 0.4088, 0.3527, 0.3284, 0.3660,\n",
       "          0.3229, 0.2648, 0.3825, 0.4048, 0.3433, 0.3114, 0.3257, 0.3986, 0.3198,\n",
       "          0.3395, 0.2783, 0.3782, 0.3790, 0.3606, 0.4862, 0.3916, 0.4342, 0.4040,\n",
       "          0.3601, 0.3063, 0.4186, 0.3740, 0.4240, 0.3922, 0.3240, 0.3592, 0.3331,\n",
       "          0.3957, 0.3278, 0.3350, 0.3700, 0.4367, 0.3889, 0.3567, 0.3068, 0.2956,\n",
       "          0.3358, 0.3060, 0.3462, 0.3575, 0.4213, 0.3962, 0.3781, 0.3835, 0.3197,\n",
       "          0.3227, 0.4104, 0.2797, 0.3276, 0.3612, 0.3541, 0.3167, 0.4038, 0.3518,\n",
       "          0.3748, 0.3548, 0.3462, 0.3397, 0.3843, 0.3278, 0.4153, 0.3159, 0.3541,\n",
       "          0.3427, 0.2657, 0.3655, 0.3296, 0.3625, 0.4086, 0.3662, 0.3451, 0.3471,\n",
       "          0.3869, 0.3813, 0.4926, 0.3655, 0.3475, 0.2926, 0.3036, 0.4210, 0.4316,\n",
       "          0.3885, 0.3431, 0.3060, 0.3750, 0.3479, 0.3123, 0.3195, 0.3576, 0.3290,\n",
       "          0.3461, 0.3461, 0.3337, 0.3708, 0.3603, 0.3908, 0.3260, 0.2960, 0.3657,\n",
       "          0.3071, 0.3804, 0.3637, 0.4277, 0.3945, 0.3047, 0.4352, 0.3190, 0.3396,\n",
       "          0.3509, 0.2707, 0.3204, 0.2714, 0.3696, 0.4367, 0.2795, 0.3499, 0.2870,\n",
       "          0.3223, 0.3058, 0.3021, 0.3200, 0.3107, 0.3429, 0.3861, 0.3039, 0.3700,\n",
       "          0.3803, 0.3337, 0.3824, 0.3575, 0.3189, 0.2872, 0.3440, 0.4168, 0.3053,\n",
       "          0.3704, 0.3431, 0.3803, 0.3750, 0.3171, 0.3213, 0.3323, 0.3023, 0.4520,\n",
       "          0.3089, 0.3021, 0.3130, 0.3638, 0.3775, 0.3786, 0.3164, 0.3189, 0.4859,\n",
       "          0.4417, 0.4009, 0.3318, 0.3810, 0.3221, 0.3844, 0.3175, 0.3587, 0.3343,\n",
       "          0.4170, 0.5039, 0.3337, 0.4307, 0.3332, 0.3803, 0.3631, 0.3849, 0.3585,\n",
       "          0.3358, 0.2670, 0.3399, 0.3617, 0.2995, 0.3564, 0.3456, 0.3016, 0.3114,\n",
       "          0.3551, 0.3127, 0.3272, 0.3259, 0.4263, 0.3095, 0.3738, 0.3401, 0.3429,\n",
       "          0.3292, 0.3261, 0.3035, 0.3558, 0.3409, 0.3180, 0.3799, 0.3348, 0.3475,\n",
       "          0.3565, 0.3602, 0.2956, 0.4586, 0.3036, 0.3209, 0.3337, 0.3558, 0.3386,\n",
       "          0.2740, 0.3374, 0.3243, 0.3075, 0.3398, 0.2618, 0.4034, 0.3787, 0.2941,\n",
       "          0.3412, 0.3878, 0.3388, 0.3087, 0.3416, 0.4014, 0.3452, 0.3511, 0.3486,\n",
       "          0.3863, 0.3577, 0.3517, 0.3283, 0.2936, 0.3184, 0.4394, 0.3613, 0.3295,\n",
       "          0.3999, 0.2903, 0.3300, 0.3116, 0.3286, 0.3706, 0.2820, 0.2994, 0.3632,\n",
       "          0.3473, 0.3674, 0.3811, 0.3042, 0.3713, 0.3550, 0.4220, 0.4044, 0.3200,\n",
       "          0.4049, 0.3156, 0.3503, 0.3474, 0.4176, 0.3736, 0.3574, 0.3729, 0.3628,\n",
       "          0.3827, 0.3402, 0.4183, 0.3531, 0.3279, 0.3578, 0.3027, 0.2912, 0.3409,\n",
       "          0.4155, 0.3605, 0.3465, 0.3243, 0.3539, 0.3447, 0.3085, 0.3173, 0.3842,\n",
       "          0.2688, 0.3612, 0.3689, 0.3899, 0.3495, 0.3023, 0.3888, 0.4091, 0.3170,\n",
       "          0.3505, 0.3530, 0.4018, 0.4230, 0.3783, 0.3107, 0.3551, 0.3481, 0.3160,\n",
       "          0.3536, 0.3365, 0.4085]),\n",
       "  2: tensor([0.4423, 0.3947, 0.4055, 0.5266, 0.5569, 0.6218, 0.4932, 0.5523, 0.4180,\n",
       "          0.4458, 0.4114, 0.5285, 0.5222, 0.5895, 0.4479, 0.4344, 0.4866, 0.4064,\n",
       "          0.5023, 0.4506, 0.5324, 0.4795, 0.4728, 0.4580, 0.6103, 0.5329, 0.4422,\n",
       "          0.5121, 0.5058, 0.4695, 0.5482, 0.4793, 0.6056, 0.4136, 0.5564, 0.5003,\n",
       "          0.4786, 0.4887, 0.5017, 0.4460, 0.4433, 0.5192, 0.4788, 0.5121, 0.5454,\n",
       "          0.4420, 0.4789, 0.5448, 0.4423, 0.4974, 0.4648, 0.6307, 0.5562, 0.4764,\n",
       "          0.3869, 0.4931, 0.5743, 0.6109, 0.5431, 0.4014, 0.5167, 0.4376, 0.3906,\n",
       "          0.4472, 0.5847, 0.4331, 0.5224, 0.3769, 0.3912, 0.5091, 0.4966, 0.4200,\n",
       "          0.6344, 0.5250, 0.5094, 0.4888, 0.4401, 0.5136, 0.4721, 0.5667, 0.3987,\n",
       "          0.4339, 0.5173, 0.5379, 0.5207, 0.5034, 0.5324, 0.4029, 0.4948, 0.4404,\n",
       "          0.4963, 0.6391, 0.4439, 0.6078, 0.5356, 0.4194, 0.4284, 0.5162, 0.4441,\n",
       "          0.5606, 0.6637, 0.5291, 0.5414, 0.6623, 0.6158, 0.4292, 0.4578, 0.4329,\n",
       "          0.4992, 0.5044, 0.5463, 0.4485, 0.4720, 0.4727, 0.5371, 0.5120, 0.5127,\n",
       "          0.5620, 0.4118, 0.4335, 0.4038, 0.5044, 0.5299, 0.5106, 0.5414, 0.5336,\n",
       "          0.4963, 0.5307, 0.4920, 0.3851, 0.5505, 0.5545, 0.4817, 0.4911, 0.4374,\n",
       "          0.4901, 0.4886, 0.4385, 0.4847, 0.4689, 0.4916, 0.5797, 0.4631, 0.4736,\n",
       "          0.4538, 0.5010, 0.4364, 0.4795, 0.4249, 0.4980, 0.5587, 0.5794, 0.4418,\n",
       "          0.5360, 0.5024, 0.5448, 0.5069, 0.6479, 0.4662, 0.5026, 0.5278, 0.5308,\n",
       "          0.4604, 0.4450, 0.4739, 0.3774, 0.4663, 0.5138, 0.6096, 0.4193, 0.5421,\n",
       "          0.4942, 0.5617, 0.4730, 0.5203, 0.5404, 0.5855, 0.5283, 0.5104, 0.5350,\n",
       "          0.5309, 0.4568, 0.5024, 0.4072, 0.4686, 0.5562, 0.4417, 0.5210, 0.6355,\n",
       "          0.4849, 0.5013, 0.4751, 0.5045, 0.5605, 0.4983, 0.3904, 0.5374, 0.4126,\n",
       "          0.5612, 0.5031, 0.4538, 0.5258, 0.5040, 0.4955, 0.6175, 0.5518, 0.4898,\n",
       "          0.5185, 0.4595, 0.4905, 0.4632, 0.4629, 0.4132, 0.4873, 0.4466, 0.6321,\n",
       "          0.4646, 0.5265, 0.5521, 0.4254, 0.4439, 0.5156, 0.4600, 0.4953, 0.5215,\n",
       "          0.6037, 0.4567, 0.4602, 0.4343, 0.5683, 0.4044, 0.4713, 0.5533, 0.4611,\n",
       "          0.5713, 0.5609, 0.4957, 0.4067, 0.4093, 0.4973, 0.3933, 0.3662, 0.5330,\n",
       "          0.4528, 0.6329, 0.3725, 0.5558, 0.5210, 0.5073, 0.5829, 0.4976, 0.4711,\n",
       "          0.4562, 0.5036, 0.4450, 0.4450, 0.4634, 0.4432, 0.4241, 0.4240, 0.4406,\n",
       "          0.5452, 0.4682, 0.6009, 0.5784, 0.4696, 0.4894, 0.5125, 0.4867, 0.5362,\n",
       "          0.4116, 0.4792, 0.4613, 0.3968, 0.5346, 0.5019, 0.5482, 0.4385, 0.6608,\n",
       "          0.4375, 0.4290, 0.5412, 0.4131, 0.5123, 0.5619, 0.5435, 0.5257, 0.4519,\n",
       "          0.4747, 0.5027, 0.5056, 0.5043, 0.5335, 0.4178, 0.4282, 0.4347, 0.4326,\n",
       "          0.4467, 0.4836, 0.4870, 0.4405, 0.5361, 0.4584, 0.5382, 0.4987, 0.4302,\n",
       "          0.4587, 0.4992, 0.4902, 0.4385, 0.5016, 0.5273, 0.4783, 0.4651, 0.4831,\n",
       "          0.7596, 0.3807, 0.3849, 0.4308, 0.3964, 0.4226, 0.4651, 0.4373, 0.5379,\n",
       "          0.4677, 0.5976, 0.5218, 0.4139, 0.4407, 0.4395, 0.5346, 0.4523, 0.4394,\n",
       "          0.5483, 0.4598, 0.5318, 0.4350, 0.4796, 0.6117, 0.7455, 0.4410, 0.5484,\n",
       "          0.4082, 0.4634, 0.5504, 0.5648, 0.5024, 0.5377, 0.4723, 0.4305, 0.4946,\n",
       "          0.5063, 0.4685, 0.4514, 0.4037, 0.3410, 0.4569, 0.4357, 0.4885, 0.3763,\n",
       "          0.5815, 0.3845, 0.4769, 0.4749, 0.3729, 0.5143, 0.5763, 0.5987, 0.5492,\n",
       "          0.5085, 0.4969, 0.5608, 0.5044, 0.4622, 0.5387, 0.4821, 0.3958, 0.4916,\n",
       "          0.4183, 0.4831, 0.4903, 0.3989, 0.4514, 0.4723, 0.3766, 0.4983, 0.4526,\n",
       "          0.4245, 0.3499, 0.4848, 0.4758, 0.5021, 0.4149, 0.4865, 0.4264, 0.5301,\n",
       "          0.4668, 0.5295, 0.4721, 0.5973, 0.5531, 0.4626, 0.5855, 0.5732, 0.5886,\n",
       "          0.5102, 0.6320, 0.5380, 0.6033, 0.4804, 0.6000, 0.5385, 0.4788, 0.5652,\n",
       "          0.4893, 0.3628, 0.4768, 0.4994, 0.5736, 0.5201, 0.4727, 0.4659, 0.4508,\n",
       "          0.5427, 0.4288, 0.5317, 0.6504, 0.4977, 0.4813, 0.6078, 0.5197, 0.4394,\n",
       "          0.8387, 0.4915, 0.5357, 0.5527, 0.4864, 0.5387, 0.5738, 0.3991, 0.5055,\n",
       "          0.4287, 0.5241, 0.4606, 0.4726, 0.5371, 0.5294, 0.5109, 0.5098, 0.5342,\n",
       "          0.5471, 0.4683, 0.4371, 0.4941, 0.4427, 0.5130, 0.4133, 0.4798, 0.5281,\n",
       "          0.4968, 0.5349, 0.5012, 0.5196, 0.4977, 0.4746, 0.4476, 0.4204, 0.5104,\n",
       "          0.4714, 0.4390, 0.5246, 0.4808, 0.4692, 0.4809, 0.5310, 0.5071, 0.5080,\n",
       "          0.6544, 0.4342, 0.4088, 0.5532, 0.4811, 0.5478, 0.5392, 0.3995, 0.4963,\n",
       "          0.5225, 0.4516, 0.4253, 0.3884, 0.4478, 0.4739, 0.4755, 0.3839, 0.4943,\n",
       "          0.5539, 0.5071, 0.4427, 0.4183, 0.4461, 0.4432, 0.4826, 0.5215, 0.4722,\n",
       "          0.5346, 0.4960, 0.3713, 0.5609, 0.5519, 0.6807, 0.5288, 0.4860, 0.4917,\n",
       "          0.4070, 0.6114, 0.4446, 0.4746, 0.4900, 0.4884, 0.4526, 0.5088, 0.5453,\n",
       "          0.4454, 0.4095, 0.5613, 0.5123, 0.5741, 0.5007, 0.4522, 0.6660, 0.4863,\n",
       "          0.5757, 0.4407, 0.4918, 0.5115, 0.4847, 0.4676, 0.5115, 0.4816, 0.4273,\n",
       "          0.4695, 0.4892, 0.5613, 0.4444, 0.4761, 0.4392, 0.5473, 0.6181, 0.4849,\n",
       "          0.5530, 0.4781, 0.4606, 0.4732, 0.5399, 0.5154, 0.4340, 0.6202, 0.4588,\n",
       "          0.5969, 0.5131, 0.5440, 0.5448, 0.4328, 0.4641, 0.6288, 0.5489, 0.5050,\n",
       "          0.4997, 0.5250, 0.5560, 0.4617, 0.4825, 0.5725, 0.4493, 0.4316, 0.4414,\n",
       "          0.4513, 0.4170, 0.4227, 0.4179, 0.6041, 0.4029, 0.4822, 0.4527, 0.5177,\n",
       "          0.4609, 0.4388, 0.4944, 0.3993, 0.5122, 0.5365, 0.5320, 0.4197, 0.5813,\n",
       "          0.6756, 0.5017, 0.5750, 0.5009, 0.6610, 0.5059, 0.5201, 0.4740, 0.5320,\n",
       "          0.5609, 0.4250, 0.4490, 0.4102, 0.5334, 0.4844, 0.5194, 0.5091, 0.4535,\n",
       "          0.4954, 0.5367, 0.4245, 0.3834, 0.4918, 0.4340, 0.4617, 0.4019, 0.4336,\n",
       "          0.4389, 0.6043, 0.5763, 0.6086, 0.4563, 0.4506, 0.6080, 0.5472, 0.5206,\n",
       "          0.4392, 0.4260, 0.5349, 0.4972, 0.4340, 0.4164, 0.4377, 0.4891, 0.5121,\n",
       "          0.4332, 0.5631, 0.4432, 0.3950, 0.4705, 0.4883, 0.4311, 0.4497, 0.5971,\n",
       "          0.5632, 0.3836, 0.4596, 0.5375, 0.5121, 0.4800, 0.4734, 0.5221, 0.4707,\n",
       "          0.5671, 0.4307, 0.5349, 0.4071, 0.4629, 0.4082, 0.4521, 0.5016, 0.4903,\n",
       "          0.5606, 0.4510, 0.5870, 0.4967, 0.3772, 0.5042, 0.5673, 0.4243, 0.4864,\n",
       "          0.4830, 0.3949, 0.5423, 0.5704, 0.5024, 0.4677, 0.4938, 0.6172, 0.4510,\n",
       "          0.5586, 0.4022, 0.3919, 0.3900, 0.4770, 0.4484, 0.5276, 0.4538, 0.4397,\n",
       "          0.5649, 0.5583, 0.5116, 0.4371, 0.5292, 0.4561, 0.5202, 0.5471, 0.4830,\n",
       "          0.5206, 0.4103, 0.4330, 0.6377, 0.4249, 0.5529, 0.4763, 0.4840, 0.4791,\n",
       "          0.5310, 0.4345, 0.5112, 0.4930, 0.4646, 0.5139, 0.5022, 0.5340, 0.4478,\n",
       "          0.4504, 0.4443, 0.4471, 0.4460, 0.4265, 0.5150, 0.4569, 0.4377, 0.4832,\n",
       "          0.5345, 0.5318, 0.3820, 0.5266, 0.6047, 0.5113, 0.4781, 0.4593, 0.5885,\n",
       "          0.4755, 0.5538, 0.4907, 0.4832, 0.4408, 0.5509, 0.4657, 0.3847, 0.6138,\n",
       "          0.4783, 0.5208, 0.5012, 0.4690, 0.4522, 0.5010, 0.4580, 0.4073, 0.4313,\n",
       "          0.5311, 0.5437, 0.4739, 0.4438, 0.5237, 0.4388, 0.4403, 0.4502, 0.4904,\n",
       "          0.5773, 0.4618, 0.4173]),\n",
       "  3: tensor([0.2260, 0.1703, 0.3000, 0.6488, 0.4165, 0.1753, 0.3477, 0.7611, 0.2657,\n",
       "          0.2545, 0.1806, 0.2542, 0.8855, 0.2008, 1.1254, 0.7307, 0.2551, 0.6160,\n",
       "          0.4611, 0.2486, 0.2444, 0.2966, 0.4391, 0.4144, 0.2487, 0.7413, 0.3297,\n",
       "          0.2916, 0.3002, 0.3294, 0.9723, 0.4964, 0.2708, 0.1822, 2.2867, 0.2768,\n",
       "          1.0587, 0.9153, 0.2428, 0.5089, 0.3947, 0.1966, 0.2882, 0.2406, 0.2658,\n",
       "          0.2276, 0.2802, 0.3866, 0.2186, 0.3135, 0.3606, 0.3086, 0.4434, 0.2655,\n",
       "          0.6957, 0.2243, 0.3181, 0.2249, 0.2363, 0.5031, 0.2769, 0.2558, 0.2214,\n",
       "          0.3141, 0.2250, 0.3117, 0.5480, 0.4311, 0.2801, 0.6099, 0.4836, 0.2219,\n",
       "          0.2847, 0.3212, 0.2861, 0.3349, 0.1929, 0.2121, 0.4075, 0.1881, 0.2413,\n",
       "          0.6339, 0.2382, 0.3115, 0.2695, 0.2516, 0.2566, 0.3241, 0.6188, 0.2156,\n",
       "          0.2094, 1.8395, 0.2657, 0.2880, 0.4784, 0.3516, 0.1952, 0.4733, 0.2348,\n",
       "          0.3705, 0.5784, 0.1786, 0.2937, 0.2714, 0.3124, 1.1341, 0.2434, 0.2692,\n",
       "          0.9420, 0.2481, 0.3774, 0.2671, 0.2346, 0.5166, 0.2384, 0.2316, 0.3194,\n",
       "          0.3069, 0.4392, 0.1970, 0.5794, 0.2157, 0.1918, 0.5439, 0.2621, 0.2184,\n",
       "          0.6116, 0.3445, 0.6192, 0.2825, 0.4522, 0.3821, 0.1975, 0.3455, 0.3013,\n",
       "          0.2396, 0.6301, 0.1622, 0.2385, 0.3498, 0.3726, 0.5425, 0.2885, 0.2397,\n",
       "          0.5535, 0.3233, 0.3373, 0.2351, 0.3909, 0.2962, 0.2538, 0.6029, 0.4139,\n",
       "          0.2794, 0.9942, 0.9220, 0.2211, 0.2152, 0.4195, 0.3191, 0.1771, 0.3231,\n",
       "          0.2606, 0.2806, 0.2016, 0.2575, 0.2581, 0.3036, 0.2913, 0.2698, 0.8196,\n",
       "          0.4722, 0.2914, 0.2228, 0.4171, 0.4697, 0.2184, 0.2762, 0.2345, 0.4007,\n",
       "          0.9276, 0.3514, 0.5360, 0.2926, 0.2455, 1.4908, 0.2056, 0.2633, 0.6431,\n",
       "          0.2335, 0.2208, 0.4951, 0.1765, 0.7006, 0.2730, 0.2157, 0.2036, 0.5261,\n",
       "          0.3622, 0.2653, 0.7064, 0.3751, 0.2654, 0.9276, 0.1859, 0.2461, 0.2299,\n",
       "          0.2048, 0.2011, 0.4298, 0.2532, 0.3588, 0.5150, 0.2470, 0.1986, 0.2931,\n",
       "          0.2119, 0.2364, 0.2899, 0.2279, 0.2375, 0.3328, 0.1762, 0.2573, 0.2444,\n",
       "          0.3101, 0.2545, 0.2369, 0.2208, 0.6638, 0.4086, 0.2254, 0.5705, 0.3551,\n",
       "          0.2025, 0.2700, 0.1720, 0.2423, 0.2756, 0.2083, 0.2971, 0.1957, 0.2626,\n",
       "          0.5409, 0.1981, 0.5781, 0.2068, 0.2086, 0.2569, 0.3147, 0.2166, 0.3177,\n",
       "          0.2660, 0.9100, 0.2978, 0.1758, 0.3766, 0.7969, 0.1767, 0.2768, 0.3019,\n",
       "          0.4131, 0.2620, 0.3477, 0.2651, 0.5711, 0.2465, 0.2589, 0.5073, 0.2794,\n",
       "          0.2887, 0.3983, 0.4726, 0.2908, 0.2399, 0.2117, 0.2455, 0.2873, 0.4105,\n",
       "          0.3653, 0.3021, 0.4797, 0.2337, 0.2844, 0.3052, 0.4041, 0.3090, 0.2268,\n",
       "          0.2327, 0.2327, 0.2171, 0.6436, 0.2064, 0.2928, 0.9562, 0.5380, 0.2744,\n",
       "          0.2189, 0.2644, 0.4070, 0.2457, 0.3772, 0.2421, 0.3394, 0.3008, 0.4397,\n",
       "          0.3430, 0.5973, 0.1971, 0.6094, 0.3114, 0.2031, 0.3544, 0.2719, 0.1588,\n",
       "          0.2426, 0.3353, 0.2858, 0.2127, 0.2256, 0.8897, 0.7765, 0.2674, 0.2366,\n",
       "          0.2046, 0.2517, 0.2527, 0.2243, 0.2736, 0.2537, 0.2009, 0.3338, 0.4217,\n",
       "          0.4376, 0.3368, 0.4651, 0.5122, 0.3932, 0.1807, 0.2141, 0.3164, 0.3783,\n",
       "          0.5469, 0.2047, 0.3124, 0.2497, 0.2224, 0.2228, 0.2244, 0.2782, 0.2878,\n",
       "          0.2425, 0.2464, 0.4008, 0.1667, 0.2354, 1.0482, 0.8014, 0.4063, 0.3370,\n",
       "          0.2511, 0.2828, 0.2474, 0.3059, 0.2619, 0.4970, 0.2198, 0.6378, 0.4211,\n",
       "          0.3757, 0.2050, 0.2092, 0.3457, 0.4344, 0.4503, 0.2639, 0.2234, 0.4630,\n",
       "          0.3254, 0.1848, 0.3066, 0.1786, 0.3350, 0.1988, 0.2925, 0.2478, 0.2239,\n",
       "          0.3318, 0.3388, 0.2279, 1.0418, 0.5438, 0.1969, 0.8033, 0.2713, 0.5232,\n",
       "          0.2122, 0.2726, 0.2714, 0.2301, 0.7877, 0.9243, 0.4242, 0.3202, 0.3470,\n",
       "          0.4486, 0.5300, 0.4333, 0.2098, 0.2712, 0.2255, 0.3302, 0.4331, 0.3870,\n",
       "          0.3766, 0.2091, 0.2765, 0.1879, 0.9278, 1.2891, 0.2164, 0.8749, 0.1812,\n",
       "          0.2400, 0.7459, 0.2889, 0.8389, 0.2387, 0.2213, 0.3225, 0.2599, 0.4641,\n",
       "          0.2376, 0.3655, 0.2705, 0.2388, 0.9792, 1.2286, 0.2962, 0.3452, 0.2935,\n",
       "          0.5954, 1.8387, 0.7201, 0.3407, 0.2393, 0.3273, 0.2418, 0.2734, 0.3485,\n",
       "          0.8500, 0.2247, 0.2054, 0.5828, 0.1826, 0.3041, 0.4122, 0.5089, 1.3409,\n",
       "          0.3266, 0.2608, 0.2498, 0.3097, 0.2359, 0.3565, 0.7679, 0.3294, 0.5613,\n",
       "          0.3977, 0.4013, 0.3202, 0.4015, 0.2060, 0.3478, 0.4066, 0.2865, 0.4265,\n",
       "          0.2751, 0.3443, 0.2039, 0.4436, 0.3424, 0.2548, 0.5754, 1.0775, 0.2264,\n",
       "          0.1658, 0.2401, 0.3388, 0.3838, 0.3459, 0.2330, 0.5080, 0.5090, 0.2123,\n",
       "          0.2763, 0.3777, 0.2559, 0.2706, 0.2902, 0.4924, 0.3669, 0.3598, 0.3876,\n",
       "          0.2717, 0.2591, 0.2636, 0.3362, 0.3446, 0.2450, 0.1817, 0.2027, 0.2495,\n",
       "          0.2480, 0.2409, 0.2035, 0.2867, 0.2234, 0.3168, 0.4291, 0.2270, 0.2402,\n",
       "          0.2087, 0.3368, 0.8536, 0.2746, 0.2241, 1.4415, 0.2638, 0.2385, 0.2423,\n",
       "          0.5139, 0.2192, 0.1992, 0.2012, 0.2907, 0.7742, 0.2659, 0.3193, 0.4061,\n",
       "          0.2022, 1.1611, 0.3330, 0.2152, 0.6792, 0.3497, 0.2460, 0.5220, 0.2667,\n",
       "          0.2275, 0.2584, 0.4096, 0.7765, 0.2530, 0.2046, 0.1973, 0.2024, 0.2535,\n",
       "          0.4322, 0.2102, 0.2360, 0.3773, 0.4115, 0.2949, 0.1667, 0.2082, 0.3932,\n",
       "          0.2987, 0.2359, 0.2343, 0.2021, 0.9517, 1.4263, 0.2372, 0.3293, 0.3427,\n",
       "          0.2666, 0.2796, 0.3838, 0.5799, 0.2716, 0.2176, 0.2923, 0.2688, 0.3404,\n",
       "          0.7961, 0.3979, 0.4625, 0.6469, 0.3022, 0.5202, 0.3133, 0.6192, 0.5551,\n",
       "          0.2635, 0.3104, 0.3120, 0.3116, 0.6024, 0.2975, 1.1373, 0.4983, 0.3366,\n",
       "          0.2237, 0.2305, 0.2014, 0.3549, 0.2688, 0.3157, 0.6342, 0.3476, 0.3019,\n",
       "          0.2767, 0.4295, 0.2692, 0.3847, 0.3063, 0.2601, 0.2574, 0.3283, 0.3124,\n",
       "          0.2321, 0.3546, 0.6330, 0.6472, 0.2949, 0.4782, 0.1941, 0.3958, 0.4244,\n",
       "          0.2838, 0.2434, 0.4047, 0.3463, 0.4467, 0.9019, 0.6142, 0.2163, 0.2008,\n",
       "          0.3723, 0.4108, 1.1818, 0.4847, 0.2012, 0.7867, 0.2513, 0.2143, 0.2193,\n",
       "          1.4004, 0.2288, 0.2726, 0.2051, 0.1969, 0.4638, 0.3357, 0.1858, 0.1874,\n",
       "          0.2401, 0.4350, 0.5568, 0.2670, 0.3804, 0.1998, 0.2462, 0.7596, 0.2218,\n",
       "          0.2599, 0.4554, 0.4056, 0.5411, 0.2383, 0.5864, 0.5368, 0.2975, 0.2279,\n",
       "          0.2627, 0.2292, 0.2815, 0.2994, 0.3929, 0.3896, 0.2796, 0.3670, 0.2250,\n",
       "          0.2856, 0.3237, 0.5523, 0.3776, 0.2908, 0.4105, 0.3109, 0.1719, 0.2218,\n",
       "          0.4361, 0.2330, 0.2143, 0.2345, 0.8744, 1.0913, 0.3573, 0.2371, 0.2747,\n",
       "          0.3521, 0.9030, 0.2264, 0.4086, 0.2594, 0.1644, 0.4164, 1.1106, 0.3460,\n",
       "          0.2574, 1.9554, 0.2420, 0.3401, 0.9980, 0.4853, 0.3576, 0.2378, 0.3293,\n",
       "          0.3415, 0.2794, 0.1960, 1.1488, 0.4187, 0.2607, 0.3656, 0.5699, 0.2470,\n",
       "          0.3746, 0.3116, 0.2295, 0.2514, 0.2781, 0.2267, 0.2532, 0.5499, 0.4911,\n",
       "          0.6740, 0.2812, 0.3765, 0.5631, 0.3453, 0.2169, 0.1680, 0.4965, 0.2020,\n",
       "          0.2294, 0.5285, 0.3640, 0.2199, 0.3171, 0.2394, 0.3006, 0.2179, 0.5945,\n",
       "          0.2919, 0.2480, 0.3338, 0.1924, 0.2050, 0.3565, 0.2145, 0.4310, 0.1928,\n",
       "          0.2504, 0.2669, 0.3009]),\n",
       "  4: tensor([0.6853, 0.6371, 0.6461,  ..., 0.6214, 0.5451, 0.5852]),\n",
       "  5: tensor([0.7964, 0.7417, 1.0562,  ..., 1.0090, 1.1278, 1.6704]),\n",
       "  6: tensor([0.1785, 0.2028, 0.6020,  ..., 0.3908, 0.1790, 0.1913])})"
      ]
     },
     "execution_count": 8,
     "metadata": {},
     "output_type": "execute_result"
    }
   ],
   "source": [
    "torch.load(\"../models/{curr_time}/SingleHeadModel_norm_{hidden_layers}hidden_r{r}_label{label_index}_fold{fold_index}.pth\")"
   ]
  },
  {
   "cell_type": "code",
   "execution_count": null,
   "metadata": {},
   "outputs": [],
   "source": [
    "f1_scores_df = pd.DataFrame(index=f1_scores.keys(), data=f1_scores.values())\n",
    "\n",
    "f1_scores_df"
   ]
  },
  {
   "cell_type": "code",
   "execution_count": null,
   "metadata": {},
   "outputs": [
    {
     "data": {
      "text/plain": [
       "<Axes: >"
      ]
     },
     "execution_count": 21,
     "metadata": {},
     "output_type": "execute_result"
    },
    {
     "data": {
      "image/png": "[encoded data removed]",
      "text/plain": [
       "<Figure size 640x480 with 1 Axes>"
      ]
     },
     "metadata": {},
     "output_type": "display_data"
    }
   ],
   "source": [
    "f1_validations_df.unstack().unstack().plot.bar()"
   ]
  },
  {
   "cell_type": "code",
   "execution_count": null,
   "metadata": {},
   "outputs": [],
   "source": []
  }
 ],
 "metadata": {
  "kernelspec": {
   "display_name": "base",
   "language": "python",
   "name": "python3"
  },
  "language_info": {
   "codemirror_mode": {
    "name": "ipython",
    "version": 3
   },
   "file_extension": ".py",
   "mimetype": "text/x-python",
   "name": "python",
   "nbconvert_exporter": "python",
   "pygments_lexer": "ipython3",
   "version": "3.10.10"
  }
 },
 "nbformat": 4,
 "nbformat_minor": 2
}
