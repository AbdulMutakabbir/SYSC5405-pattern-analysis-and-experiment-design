{
 "cells": [
  {
   "cell_type": "code",
   "execution_count": 1,
   "metadata": {},
   "outputs": [
    {
     "name": "stdout",
     "output_type": "stream",
     "text": [
      "Overwriting ../src/utils/RawDataReader.py\n"
     ]
    }
   ],
   "source": [
    "%%writefile ../src/utils/RawDataReader.py\n",
    "from pandas import read_csv\n",
    "from torch import from_numpy\n",
    "import sys\n",
    "sys.path.append('..')  \n",
    "from src.utils import constants\n",
    "\n",
    "class RawDataReader():\n",
    "    def __init__(self) -> None:\n",
    "        self.lables_file = 'labels_train.csv'\n",
    "        \n",
    "        self.raw_data_dir = constants.RAW_DATA_DIR \n",
    "        self.rs = list(range(constants.MIN_R, constants.MAX_R+1))\n",
    "\n",
    "    def __get_labels_path(self):\n",
    "        return f'{self.raw_data_dir}/{self.lables_file}'\n",
    "    \n",
    "    def __get_dataset_path(self, r):\n",
    "        return f'{self.raw_data_dir}/R{r}_train.csv'\n",
    "    \n",
    "    def __load_data(self, file):\n",
    "        return read_csv(file)\n",
    "    \n",
    "    def get_labels(self):\n",
    "        return from_numpy(self.__load_data(self.__get_labels_path()).to_numpy()).float()\n",
    "    \n",
    "    def get_datasets(self):\n",
    "        return {\n",
    "            r: from_numpy(self.__load_data(self.__get_dataset_path(r)).to_numpy()).float()\n",
    "            for r in self.rs\n",
    "        }\n",
    "\n",
    "    def get_normalised_dataset(self):\n",
    "        r_dfs = self.get_datasets()\n",
    "        means = {\n",
    "            r: r_dfs[r].mean(dim=0)\n",
    "            for r in r_dfs\n",
    "        }\n",
    "        stds = {\n",
    "            r: r_dfs[r].std(dim=0)\n",
    "            for r in r_dfs\n",
    "        }\n",
    "        norm_datasets = {\n",
    "            r: (r_dfs[r] - means[r]) / stds[r]\n",
    "            for r in r_dfs\n",
    "        }\n",
    "        return norm_datasets, means, stds"
   ]
  },
  {
   "cell_type": "code",
   "execution_count": 2,
   "metadata": {},
   "outputs": [],
   "source": [
    "import sys\n",
    "sys.path.append('..')  \n",
    "from src.utils.RawDataReader import RawDataReader\n",
    "\n",
    "reader = RawDataReader()\n",
    "labels = reader.get_labels()\n",
    "datasets, means, stds = reader.get_normalised_dataset()"
   ]
  }
 ],
 "metadata": {
  "kernelspec": {
   "display_name": "base",
   "language": "python",
   "name": "python3"
  },
  "language_info": {
   "codemirror_mode": {
    "name": "ipython",
    "version": 3
   },
   "file_extension": ".py",
   "mimetype": "text/x-python",
   "name": "python",
   "nbconvert_exporter": "python",
   "pygments_lexer": "ipython3",
   "version": "3.10.10"
  }
 },
 "nbformat": 4,
 "nbformat_minor": 2
}
