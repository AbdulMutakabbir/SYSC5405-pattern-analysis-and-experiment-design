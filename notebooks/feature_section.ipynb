{
 "cells": [
  {
   "cell_type": "code",
   "execution_count": 1,
   "metadata": {},
   "outputs": [
    {
     "data": {
      "text/plain": [
       "'\\nCreated on Sat Nov 25 10:36:43 2023\\n\\n@author: Rebecca Tobin\\n'"
      ]
     },
     "execution_count": 1,
     "metadata": {},
     "output_type": "execute_result"
    }
   ],
   "source": [
    "\"\"\"\n",
    "Created on Sat Nov 25 10:36:43 2023\n",
    "\n",
    "@author: Rebecca Tobin\n",
    "\"\"\""
   ]
  },
  {
   "cell_type": "code",
   "execution_count": 10,
   "metadata": {},
   "outputs": [],
   "source": [
    "import numpy as np \n",
    "import pandas as pd \n",
    "from matplotlib import pyplot as plt\n",
    "from sklearn.model_selection import train_test_split, cross_val_score\n",
    "from sklearn.model_selection import StratifiedKFold\n",
    "from sklearn.metrics import f1_score\n",
    "from sklearn.neural_network import MLPClassifier"
   ]
  },
  {
   "cell_type": "code",
   "execution_count": 4,
   "metadata": {},
   "outputs": [],
   "source": [
    "R1 = pd.read_csv('../data/raw/R1_train.csv') \n",
    "R1 = (np.array(R1))[0:1000,:]\n",
    "R2 = pd.read_csv('../data/raw/R2_train.csv') \n",
    "R2 = (np.array(R2))[0:1000,:]\n",
    "R3 = pd.read_csv('../data/raw/R3_train.csv') \n",
    "R3 = (np.array(R3))[0:1000,:]\n",
    "R4 = pd.read_csv('../data/raw/R4_train.csv') \n",
    "R4 = (np.array(R4))[0:1000,:]\n",
    "R5 = pd.read_csv('../data/raw/R5_train.csv') \n",
    "R5 = (np.array(R5))[0:1000,:]\n",
    "R6 = pd.read_csv('../data/raw/R6_train.csv') \n",
    "R6 = (np.array(R6))[0:1000,:]\n",
    "\n",
    "y = pd.read_csv('../data/raw/labels_train.csv') \n",
    "y = (np.array(y))[0:1000,:]\n",
    "\n",
    "# Will need to normalize the data, I think"
   ]
  },
  {
   "cell_type": "code",
   "execution_count": 5,
   "metadata": {},
   "outputs": [
    {
     "ename": "AttributeError",
     "evalue": "'numpy.ndarray' object has no attribute 'drop_duplicates'",
     "output_type": "error",
     "traceback": [
      "\u001b[0;31m---------------------------------------------------------------------------\u001b[0m",
      "\u001b[0;31mAttributeError\u001b[0m                            Traceback (most recent call last)",
      "\u001b[1;32m/home/mutakabbir/Projects/SYSC 5405/SYSC5405-pattern-analysis-and-experiment-design/notebooks/feature_section.ipynb Cell 4\u001b[0m line \u001b[0;36m4\n\u001b[1;32m      <a href='vscode-notebook-cell:/home/mutakabbir/Projects/SYSC%205405/SYSC5405-pattern-analysis-and-experiment-design/notebooks/feature_section.ipynb#W3sZmlsZQ%3D%3D?line=0'>1</a>\u001b[0m \u001b[39m# How many unique rows of y are there?\u001b[39;00m\n\u001b[1;32m      <a href='vscode-notebook-cell:/home/mutakabbir/Projects/SYSC%205405/SYSC5405-pattern-analysis-and-experiment-design/notebooks/feature_section.ipynb#W3sZmlsZQ%3D%3D?line=1'>2</a>\u001b[0m \n\u001b[1;32m      <a href='vscode-notebook-cell:/home/mutakabbir/Projects/SYSC%205405/SYSC5405-pattern-analysis-and-experiment-design/notebooks/feature_section.ipynb#W3sZmlsZQ%3D%3D?line=2'>3</a>\u001b[0m \u001b[39m# Data frame of the unique rows\u001b[39;00m\n\u001b[0;32m----> <a href='vscode-notebook-cell:/home/mutakabbir/Projects/SYSC%205405/SYSC5405-pattern-analysis-and-experiment-design/notebooks/feature_section.ipynb#W3sZmlsZQ%3D%3D?line=3'>4</a>\u001b[0m unique_rows_y \u001b[39m=\u001b[39m y\u001b[39m.\u001b[39;49mdrop_duplicates()\n\u001b[1;32m      <a href='vscode-notebook-cell:/home/mutakabbir/Projects/SYSC%205405/SYSC5405-pattern-analysis-and-experiment-design/notebooks/feature_section.ipynb#W3sZmlsZQ%3D%3D?line=4'>5</a>\u001b[0m \u001b[39m# Adding a unique identifier to each unique row\u001b[39;00m\n\u001b[1;32m      <a href='vscode-notebook-cell:/home/mutakabbir/Projects/SYSC%205405/SYSC5405-pattern-analysis-and-experiment-design/notebooks/feature_section.ipynb#W3sZmlsZQ%3D%3D?line=5'>6</a>\u001b[0m unique_rows_y[\u001b[39m\"\u001b[39m\u001b[39midentifier\u001b[39m\u001b[39m\"\u001b[39m] \u001b[39m=\u001b[39m np\u001b[39m.\u001b[39marange(\u001b[39mlen\u001b[39m(unique_rows_y))\n",
      "\u001b[0;31mAttributeError\u001b[0m: 'numpy.ndarray' object has no attribute 'drop_duplicates'"
     ]
    }
   ],
   "source": [
    "# How many unique rows of y are there?\n",
    "\n",
    "# Data frame of the unique rows\n",
    "unique_rows_y = y.drop_duplicates()\n",
    "# Adding a unique identifier to each unique row\n",
    "unique_rows_y[\"identifier\"] = np.arange(len(unique_rows_y))\n",
    "\n",
    "# finding the unique identifier for each row in y\n",
    "y_wid = pd.merge(y, unique_rows_y, how='left', \n",
    "                 on=['0','1','2','3','4','5','6','7','8','9','10','11','12','13',\n",
    "                     '14','15','16','17','18'])\n",
    "\n",
    "# Number of instances that each unique row occurs\n",
    "unique_rows_y_counts = pd.DataFrame((y_wid['identifier']).value_counts())\n",
    "plt.figure()\n",
    "plt.hist(unique_rows_y_counts['count'], bins = 30, log = True)\n",
    "plt.ylabel('Count')\n",
    "plt.xlabel('Number of repetitions of a unique set of labels')\n",
    "plt.show()\n",
    "\n",
    "# Number of rows with a certain number of repetitions\n",
    "num_repetitions = pd.DataFrame((unique_rows_y_counts['count']).value_counts())\n",
    "print(\"Top 10 most common number of repetitions of a unique set of labels\")\n",
    "print(num_repetitions.loc[1:11])\n",
    "\n",
    "del(unique_rows_y,y_wid,unique_rows_y_counts,num_repetitions)"
   ]
  },
  {
   "cell_type": "code",
   "execution_count": 6,
   "metadata": {},
   "outputs": [],
   "source": [
    "def proba_mass_split(y, folds=10):\n",
    "    # add shuffle?\n",
    "    y = np.array(y)\n",
    "    obs, classes = y.shape\n",
    "    dist = y.sum(axis=0).astype('float')\n",
    "    dist /= dist.sum()\n",
    "    dist = np.array(dist)\n",
    "    index_list = []\n",
    "    fold_dist = np.zeros((folds, classes), dtype='float')\n",
    "    for _ in range(folds):\n",
    "        index_list.append([])\n",
    "    for i in range(obs):\n",
    "        # add one obs to each fold so that each fold has one obs\n",
    "        if i < folds:\n",
    "            target_fold = i\n",
    "        # once each fold has one observation, do this\n",
    "        else:\n",
    "            normed_folds = fold_dist.T / fold_dist.sum(axis=1)\n",
    "            # how off is the ditribution of each fold from the desired distribution\n",
    "            how_off = normed_folds.T - dist\n",
    "            # find the fold that minimizing the dot product to decide where \n",
    "            # to put the ith observation\n",
    "            target_fold = np.argmin(np.dot((y[i] - .5).reshape(1, -1), how_off.T))\n",
    "        # keep track of how adding y[i] to the fold changes the distribution\n",
    "        fold_dist[target_fold] += y[i]\n",
    "        # add y[i] to the index list for the chosen fold\n",
    "        index_list[target_fold].append(i)\n",
    "    \n",
    "    return fold_dist, dist, index_list\n",
    "\n",
    "fold_dist, dist, index_list = proba_mass_split(y)"
   ]
  },
  {
   "cell_type": "code",
   "execution_count": 7,
   "metadata": {},
   "outputs": [
    {
     "name": "stdout",
     "output_type": "stream",
     "text": [
      "Number of obs. in fold 1: 113\n",
      "Number of obs. in fold 2: 109\n",
      "Number of obs. in fold 3: 75\n",
      "Number of obs. in fold 4: 82\n",
      "Number of obs. in fold 5: 117\n",
      "Number of obs. in fold 6: 83\n",
      "Number of obs. in fold 7: 121\n",
      "Number of obs. in fold 8: 117\n",
      "Number of obs. in fold 9: 97\n",
      "Number of obs. in fold 10: 86\n"
     ]
    },
    {
     "data": {
      "image/png": "[encoded data removed]",
      "text/plain": [
       "<Figure size 640x480 with 1 Axes>"
      ]
     },
     "metadata": {},
     "output_type": "display_data"
    }
   ],
   "source": [
    "normed_folds = fold_dist.T/fold_dist.sum(axis=1)\n",
    "class_list = (np.arange(19)).astype(str)\n",
    "\n",
    "data = {'All data': dist,\n",
    "        'Fold 1': normed_folds[:,0],\n",
    "        'Fold 2': normed_folds[:,1],\n",
    "        'Fold 3': normed_folds[:,2]}\n",
    "\n",
    "data = pd.DataFrame(data, columns=['All data', 'Fold 1', 'Fold 2', 'Fold 3'], \n",
    "                    index = class_list)\n",
    "\n",
    "# Multiple bar chart\n",
    "data.plot.bar(xlabel = 'Class', ylabel = 'Frequency')\n",
    "\n",
    "for j in range(len(index_list)):\n",
    "    len_index_list = len(index_list[j])\n",
    "    print(f\"Number of obs. in fold {j+1}: {len_index_list}\")\n",
    "\n",
    "# Code modified from \n",
    "# https://stats.stackexchange.com/questions/65828/how-to-use-scikit-learns-cross-validation-functions-on-multi-label-classifiers\n",
    "# To to self: remember to cite"
   ]
  },
  {
   "cell_type": "code",
   "execution_count": 11,
   "metadata": {},
   "outputs": [
    {
     "ename": "ValueError",
     "evalue": "Supported target types are: ('binary', 'multiclass'). Got 'multilabel-indicator' instead.",
     "output_type": "error",
     "traceback": [
      "\u001b[0;31m---------------------------------------------------------------------------\u001b[0m",
      "\u001b[0;31mValueError\u001b[0m                                Traceback (most recent call last)",
      "\u001b[1;32m/home/mutakabbir/Projects/SYSC 5405/SYSC5405-pattern-analysis-and-experiment-design/notebooks/feature_section.ipynb Cell 7\u001b[0m line \u001b[0;36m1\n\u001b[1;32m     <a href='vscode-notebook-cell:/home/mutakabbir/Projects/SYSC%205405/SYSC5405-pattern-analysis-and-experiment-design/notebooks/feature_section.ipynb#W6sZmlsZQ%3D%3D?line=11'>12</a>\u001b[0m clf \u001b[39m=\u001b[39m MLPClassifier(solver \u001b[39m=\u001b[39m \u001b[39m'\u001b[39m\u001b[39madam\u001b[39m\u001b[39m'\u001b[39m, activation\u001b[39m=\u001b[39m\u001b[39m'\u001b[39m\u001b[39mlogistic\u001b[39m\u001b[39m'\u001b[39m, max_iter\u001b[39m=\u001b[39m\u001b[39m5000\u001b[39m,\n\u001b[1;32m     <a href='vscode-notebook-cell:/home/mutakabbir/Projects/SYSC%205405/SYSC5405-pattern-analysis-and-experiment-design/notebooks/feature_section.ipynb#W6sZmlsZQ%3D%3D?line=12'>13</a>\u001b[0m                     hidden_layer_sizes\u001b[39m=\u001b[39m(\u001b[39m0\u001b[39m))\n\u001b[1;32m     <a href='vscode-notebook-cell:/home/mutakabbir/Projects/SYSC%205405/SYSC5405-pattern-analysis-and-experiment-design/notebooks/feature_section.ipynb#W6sZmlsZQ%3D%3D?line=13'>14</a>\u001b[0m skf \u001b[39m=\u001b[39m StratifiedKFold(n_splits \u001b[39m=\u001b[39m \u001b[39m10\u001b[39m, shuffle \u001b[39m=\u001b[39m \u001b[39mTrue\u001b[39;00m)\n\u001b[0;32m---> <a href='vscode-notebook-cell:/home/mutakabbir/Projects/SYSC%205405/SYSC5405-pattern-analysis-and-experiment-design/notebooks/feature_section.ipynb#W6sZmlsZQ%3D%3D?line=15'>16</a>\u001b[0m \u001b[39mfor\u001b[39;00m i, (train_index, test_index) \u001b[39min\u001b[39;00m \u001b[39menumerate\u001b[39m(skf\u001b[39m.\u001b[39msplit(R1, y)):\n\u001b[1;32m     <a href='vscode-notebook-cell:/home/mutakabbir/Projects/SYSC%205405/SYSC5405-pattern-analysis-and-experiment-design/notebooks/feature_section.ipynb#W6sZmlsZQ%3D%3D?line=16'>17</a>\u001b[0m     \u001b[39mprint\u001b[39m(\u001b[39mf\u001b[39m\u001b[39m\"\u001b[39m\u001b[39mFold \u001b[39m\u001b[39m{\u001b[39;00mi\u001b[39m}\u001b[39;00m\u001b[39m:\u001b[39m\u001b[39m\"\u001b[39m)\n\u001b[1;32m     <a href='vscode-notebook-cell:/home/mutakabbir/Projects/SYSC%205405/SYSC5405-pattern-analysis-and-experiment-design/notebooks/feature_section.ipynb#W6sZmlsZQ%3D%3D?line=17'>18</a>\u001b[0m     \u001b[39mprint\u001b[39m(\u001b[39mf\u001b[39m\u001b[39m\"\u001b[39m\u001b[39m  Train: index=\u001b[39m\u001b[39m{\u001b[39;00mtrain_index\u001b[39m}\u001b[39;00m\u001b[39m\"\u001b[39m)\n",
      "File \u001b[0;32m~/miniconda3/lib/python3.10/site-packages/sklearn/model_selection/_split.py:377\u001b[0m, in \u001b[0;36m_BaseKFold.split\u001b[0;34m(self, X, y, groups)\u001b[0m\n\u001b[1;32m    369\u001b[0m \u001b[39mif\u001b[39;00m \u001b[39mself\u001b[39m\u001b[39m.\u001b[39mn_splits \u001b[39m>\u001b[39m n_samples:\n\u001b[1;32m    370\u001b[0m     \u001b[39mraise\u001b[39;00m \u001b[39mValueError\u001b[39;00m(\n\u001b[1;32m    371\u001b[0m         (\n\u001b[1;32m    372\u001b[0m             \u001b[39m\"\u001b[39m\u001b[39mCannot have number of splits n_splits=\u001b[39m\u001b[39m{0}\u001b[39;00m\u001b[39m greater\u001b[39m\u001b[39m\"\u001b[39m\n\u001b[1;32m    373\u001b[0m             \u001b[39m\"\u001b[39m\u001b[39m than the number of samples: n_samples=\u001b[39m\u001b[39m{1}\u001b[39;00m\u001b[39m.\u001b[39m\u001b[39m\"\u001b[39m\n\u001b[1;32m    374\u001b[0m         )\u001b[39m.\u001b[39mformat(\u001b[39mself\u001b[39m\u001b[39m.\u001b[39mn_splits, n_samples)\n\u001b[1;32m    375\u001b[0m     )\n\u001b[0;32m--> 377\u001b[0m \u001b[39mfor\u001b[39;00m train, test \u001b[39min\u001b[39;00m \u001b[39msuper\u001b[39m()\u001b[39m.\u001b[39msplit(X, y, groups):\n\u001b[1;32m    378\u001b[0m     \u001b[39myield\u001b[39;00m train, test\n",
      "File \u001b[0;32m~/miniconda3/lib/python3.10/site-packages/sklearn/model_selection/_split.py:108\u001b[0m, in \u001b[0;36mBaseCrossValidator.split\u001b[0;34m(self, X, y, groups)\u001b[0m\n\u001b[1;32m    106\u001b[0m X, y, groups \u001b[39m=\u001b[39m indexable(X, y, groups)\n\u001b[1;32m    107\u001b[0m indices \u001b[39m=\u001b[39m np\u001b[39m.\u001b[39marange(_num_samples(X))\n\u001b[0;32m--> 108\u001b[0m \u001b[39mfor\u001b[39;00m test_index \u001b[39min\u001b[39;00m \u001b[39mself\u001b[39m\u001b[39m.\u001b[39m_iter_test_masks(X, y, groups):\n\u001b[1;32m    109\u001b[0m     train_index \u001b[39m=\u001b[39m indices[np\u001b[39m.\u001b[39mlogical_not(test_index)]\n\u001b[1;32m    110\u001b[0m     test_index \u001b[39m=\u001b[39m indices[test_index]\n",
      "File \u001b[0;32m~/miniconda3/lib/python3.10/site-packages/sklearn/model_selection/_split.py:758\u001b[0m, in \u001b[0;36mStratifiedKFold._iter_test_masks\u001b[0;34m(self, X, y, groups)\u001b[0m\n\u001b[1;32m    757\u001b[0m \u001b[39mdef\u001b[39;00m \u001b[39m_iter_test_masks\u001b[39m(\u001b[39mself\u001b[39m, X, y\u001b[39m=\u001b[39m\u001b[39mNone\u001b[39;00m, groups\u001b[39m=\u001b[39m\u001b[39mNone\u001b[39;00m):\n\u001b[0;32m--> 758\u001b[0m     test_folds \u001b[39m=\u001b[39m \u001b[39mself\u001b[39;49m\u001b[39m.\u001b[39;49m_make_test_folds(X, y)\n\u001b[1;32m    759\u001b[0m     \u001b[39mfor\u001b[39;00m i \u001b[39min\u001b[39;00m \u001b[39mrange\u001b[39m(\u001b[39mself\u001b[39m\u001b[39m.\u001b[39mn_splits):\n\u001b[1;32m    760\u001b[0m         \u001b[39myield\u001b[39;00m test_folds \u001b[39m==\u001b[39m i\n",
      "File \u001b[0;32m~/miniconda3/lib/python3.10/site-packages/sklearn/model_selection/_split.py:701\u001b[0m, in \u001b[0;36mStratifiedKFold._make_test_folds\u001b[0;34m(self, X, y)\u001b[0m\n\u001b[1;32m    699\u001b[0m allowed_target_types \u001b[39m=\u001b[39m (\u001b[39m\"\u001b[39m\u001b[39mbinary\u001b[39m\u001b[39m\"\u001b[39m, \u001b[39m\"\u001b[39m\u001b[39mmulticlass\u001b[39m\u001b[39m\"\u001b[39m)\n\u001b[1;32m    700\u001b[0m \u001b[39mif\u001b[39;00m type_of_target_y \u001b[39mnot\u001b[39;00m \u001b[39min\u001b[39;00m allowed_target_types:\n\u001b[0;32m--> 701\u001b[0m     \u001b[39mraise\u001b[39;00m \u001b[39mValueError\u001b[39;00m(\n\u001b[1;32m    702\u001b[0m         \u001b[39m\"\u001b[39m\u001b[39mSupported target types are: \u001b[39m\u001b[39m{}\u001b[39;00m\u001b[39m. Got \u001b[39m\u001b[39m{!r}\u001b[39;00m\u001b[39m instead.\u001b[39m\u001b[39m\"\u001b[39m\u001b[39m.\u001b[39mformat(\n\u001b[1;32m    703\u001b[0m             allowed_target_types, type_of_target_y\n\u001b[1;32m    704\u001b[0m         )\n\u001b[1;32m    705\u001b[0m     )\n\u001b[1;32m    707\u001b[0m y \u001b[39m=\u001b[39m column_or_1d(y)\n\u001b[1;32m    709\u001b[0m _, y_idx, y_inv \u001b[39m=\u001b[39m np\u001b[39m.\u001b[39munique(y, return_index\u001b[39m=\u001b[39m\u001b[39mTrue\u001b[39;00m, return_inverse\u001b[39m=\u001b[39m\u001b[39mTrue\u001b[39;00m)\n",
      "\u001b[0;31mValueError\u001b[0m: Supported target types are: ('binary', 'multiclass'). Got 'multilabel-indicator' instead."
     ]
    }
   ],
   "source": [
    "# For each R file (each subset of features)\n",
    "\n",
    "# For each fold\n",
    "for i in range(10):\n",
    "    train_index = []\n",
    "    for j in range(10):\n",
    "        if j != i:\n",
    "            train_index.append(index_list[j])\n",
    "    \n",
    "    y_train = y[:,:]\n",
    "\n",
    "clf = MLPClassifier(solver = 'adam', activation='logistic', max_iter=5000,\n",
    "                    hidden_layer_sizes=(0))\n",
    "skf = StratifiedKFold(n_splits = 10, shuffle = True)\n",
    "\n",
    "for i, (train_index, test_index) in enumerate(skf.split(R1, y)):\n",
    "    print(f\"Fold {i}:\")\n",
    "    print(f\"  Train: index={train_index}\")\n",
    "    print(f\"  Test:  index={test_index}\")\n",
    "    clf.fit(R1, y)\n",
    "    "
   ]
  },
  {
   "cell_type": "code",
   "execution_count": 9,
   "metadata": {},
   "outputs": [
    {
     "ename": "NameError",
     "evalue": "name 'cross_val_score' is not defined",
     "output_type": "error",
     "traceback": [
      "\u001b[0;31m---------------------------------------------------------------------------\u001b[0m",
      "\u001b[0;31mNameError\u001b[0m                                 Traceback (most recent call last)",
      "\u001b[1;32m/home/mutakabbir/Projects/SYSC 5405/SYSC5405-pattern-analysis-and-experiment-design/notebooks/feature_section.ipynb Cell 8\u001b[0m line \u001b[0;36m1\n\u001b[0;32m----> <a href='vscode-notebook-cell:/home/mutakabbir/Projects/SYSC%205405/SYSC5405-pattern-analysis-and-experiment-design/notebooks/feature_section.ipynb#X10sZmlsZQ%3D%3D?line=0'>1</a>\u001b[0m CV_score \u001b[39m=\u001b[39m cross_val_score(clf, X_train, y_train, cv \u001b[39m=\u001b[39m CV)\n\u001b[1;32m      <a href='vscode-notebook-cell:/home/mutakabbir/Projects/SYSC%205405/SYSC5405-pattern-analysis-and-experiment-design/notebooks/feature_section.ipynb#X10sZmlsZQ%3D%3D?line=1'>2</a>\u001b[0m CV_scores\u001b[39m.\u001b[39mappend(CV_score)\n\u001b[1;32m      <a href='vscode-notebook-cell:/home/mutakabbir/Projects/SYSC%205405/SYSC5405-pattern-analysis-and-experiment-design/notebooks/feature_section.ipynb#X10sZmlsZQ%3D%3D?line=2'>3</a>\u001b[0m mean_CV_scores\u001b[39m.\u001b[39mappend(CV_score\u001b[39m.\u001b[39mmean())\n",
      "\u001b[0;31mNameError\u001b[0m: name 'cross_val_score' is not defined"
     ]
    }
   ],
   "source": [
    "CV_score = cross_val_score(clf, X_train, y_train, cv = CV)\n",
    "CV_scores.append(CV_score)\n",
    "mean_CV_scores.append(CV_score.mean())\n",
    "std_CV_scores.append(CV_score.std())"
   ]
  },
  {
   "cell_type": "code",
   "execution_count": null,
   "metadata": {},
   "outputs": [],
   "source": []
  }
 ],
 "metadata": {
  "kernelspec": {
   "display_name": "base",
   "language": "python",
   "name": "python3"
  },
  "language_info": {
   "codemirror_mode": {
    "name": "ipython",
    "version": 3
   },
   "file_extension": ".py",
   "mimetype": "text/x-python",
   "name": "python",
   "nbconvert_exporter": "python",
   "pygments_lexer": "ipython3",
   "version": "3.10.10"
  }
 },
 "nbformat": 4,
 "nbformat_minor": 2
}
